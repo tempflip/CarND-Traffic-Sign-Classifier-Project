{
 "cells": [
  {
   "cell_type": "markdown",
   "metadata": {
    "deletable": true,
    "editable": true
   },
   "source": [
    "# Self-Driving Car Engineer Nanodegree\n",
    "\n",
    "## Deep Learning\n",
    "\n",
    "## Project: Build a Traffic Sign Recognition Classifier\n",
    "\n",
    "In this notebook, a template is provided for you to implement your functionality in stages, which is required to successfully complete this project. If additional code is required that cannot be included in the notebook, be sure that the Python code is successfully imported and included in your submission if necessary. \n",
    "\n",
    "> **Note**: Once you have completed all of the code implementations, you need to finalize your work by exporting the iPython Notebook as an HTML document. Before exporting the notebook to html, all of the code cells need to have been run so that reviewers can see the final implementation and output. You can then export the notebook by using the menu above and navigating to  \\n\",\n",
    "    \"**File -> Download as -> HTML (.html)**. Include the finished document along with this notebook as your submission. \n",
    "\n",
    "In addition to implementing code, there is a writeup to complete. The writeup should be completed in a separate file, which can be either a markdown file or a pdf document. There is a [write up template](https://github.com/udacity/CarND-Traffic-Sign-Classifier-Project/blob/master/writeup_template.md) that can be used to guide the writing process. Completing the code template and writeup template will cover all of the [rubric points](https://review.udacity.com/#!/rubrics/481/view) for this project.\n",
    "\n",
    "The [rubric](https://review.udacity.com/#!/rubrics/481/view) contains \"Stand Out Suggestions\" for enhancing the project beyond the minimum requirements. The stand out suggestions are optional. If you decide to pursue the \"stand out suggestions\", you can include the code in this Ipython notebook and also discuss the results in the writeup file.\n",
    "\n",
    "\n",
    ">**Note:** Code and Markdown cells can be executed using the **Shift + Enter** keyboard shortcut. In addition, Markdown cells can be edited by typically double-clicking the cell to enter edit mode."
   ]
  },
  {
   "cell_type": "markdown",
   "metadata": {
    "deletable": true,
    "editable": true
   },
   "source": [
    "---\n",
    "## Step 0: Load The Data"
   ]
  },
  {
   "cell_type": "code",
   "execution_count": 52,
   "metadata": {
    "collapsed": false,
    "deletable": true,
    "editable": true
   },
   "outputs": [],
   "source": [
    "# Load pickled data\n",
    "import pickle\n",
    "\n",
    "# TODO: Fill this in based on where you saved the training and testing data\n",
    "\n",
    "training_file = './data/traffic-signs-data/train.p'\n",
    "validation_file='./data/traffic-signs-data/valid.p'\n",
    "testing_file = './data/traffic-signs-data/test.p'\n",
    "\n",
    "with open(training_file, mode='rb') as f:\n",
    "    train = pickle.load(f)\n",
    "with open(validation_file, mode='rb') as f:\n",
    "    valid = pickle.load(f)\n",
    "with open(testing_file, mode='rb') as f:\n",
    "    test = pickle.load(f)\n",
    "    \n",
    "X_train, y_train = train['features'], train['labels']\n",
    "X_valid, y_valid = valid['features'], valid['labels']\n",
    "X_test, y_test = test['features'], test['labels']\n"
   ]
  },
  {
   "cell_type": "code",
   "execution_count": 53,
   "metadata": {
    "collapsed": false,
    "deletable": true,
    "editable": true
   },
   "outputs": [
    {
     "name": "stdout",
     "output_type": "stream",
     "text": [
      "(34799, 32, 32, 3)\n",
      "(4410, 32, 32, 3)\n",
      "(34799,)\n",
      "(4410,)\n"
     ]
    },
    {
     "data": {
      "text/plain": [
       "<matplotlib.image.AxesImage at 0x126e6c898>"
      ]
     },
     "execution_count": 53,
     "metadata": {},
     "output_type": "execute_result"
    },
    {
     "data": {
      "image/png": "[encoded data removed]",
      "text/plain": [
       "<matplotlib.figure.Figure at 0x11b7a3c88>"
      ]
     },
     "metadata": {},
     "output_type": "display_data"
    }
   ],
   "source": [
    "# discovering the format\n",
    "import matplotlib.pyplot as plt\n",
    "%matplotlib inline\n",
    "i = 10\n",
    "print (X_train.shape)\n",
    "print (X_valid.shape)\n",
    "print (y_train.shape)\n",
    "print (y_valid.shape)\n",
    "\n",
    "plt.imshow(X_train[i])\n"
   ]
  },
  {
   "cell_type": "markdown",
   "metadata": {
    "deletable": true,
    "editable": true
   },
   "source": [
    "---\n",
    "\n",
    "## Step 1: Dataset Summary & Exploration\n",
    "\n",
    "The pickled data is a dictionary with 4 key/value pairs:\n",
    "\n",
    "- `'features'` is a 4D array containing raw pixel data of the traffic sign images, (num examples, width, height, channels).\n",
    "- `'labels'` is a 1D array containing the label/class id of the traffic sign. The file `signnames.csv` contains id -> name mappings for each id.\n",
    "- `'sizes'` is a list containing tuples, (width, height) representing the the original width and height the image.\n",
    "- `'coords'` is a list containing tuples, (x1, y1, x2, y2) representing coordinates of a bounding box around the sign in the image. **THESE COORDINATES ASSUME THE ORIGINAL IMAGE. THE PICKLED DATA CONTAINS RESIZED VERSIONS (32 by 32) OF THESE IMAGES**\n",
    "\n",
    "Complete the basic data summary below. Use python, numpy and/or pandas methods to calculate the data summary rather than hard coding the results. For example, the [pandas shape method](http://pandas.pydata.org/pandas-docs/stable/generated/pandas.DataFrame.shape.html) might be useful for calculating some of the summary results. "
   ]
  },
  {
   "cell_type": "markdown",
   "metadata": {
    "deletable": true,
    "editable": true
   },
   "source": [
    "### Provide a Basic Summary of the Data Set Using Python, Numpy and/or Pandas"
   ]
  },
  {
   "cell_type": "code",
   "execution_count": 54,
   "metadata": {
    "collapsed": false,
    "deletable": true,
    "editable": true
   },
   "outputs": [
    {
     "name": "stdout",
     "output_type": "stream",
     "text": [
      "Number of training examples = 34799\n",
      "Number of testing examples = 12630\n",
      "Image data shape = (32, 32)\n",
      "Number of classes = 43\n"
     ]
    }
   ],
   "source": [
    "### Replace each question mark with the appropriate value. \n",
    "### Use python, pandas or numpy methods rather than hard coding the results\n",
    "\n",
    "# TODO: Number of training examples\n",
    "n_train = X_train.shape[0]\n",
    "\n",
    "# TODO: Number of testing examples.\n",
    "n_test = X_test.shape[0]\n",
    "\n",
    "# TODO: What's the shape of an traffic sign image?\n",
    "image_shape = X_train.shape[1], X_train.shape[2]\n",
    "\n",
    "# TODO: How many unique classes/labels there are in the dataset.\n",
    "n_classes = len(set(y_train.flatten()))\n",
    "\n",
    "print(\"Number of training examples =\", n_train)\n",
    "print(\"Number of testing examples =\", n_test)\n",
    "print(\"Image data shape =\", image_shape)\n",
    "print(\"Number of classes =\", n_classes)"
   ]
  },
  {
   "cell_type": "markdown",
   "metadata": {
    "deletable": true,
    "editable": true
   },
   "source": [
    "### Include an exploratory visualization of the dataset"
   ]
  },
  {
   "cell_type": "markdown",
   "metadata": {
    "deletable": true,
    "editable": true
   },
   "source": [
    "Visualize the German Traffic Signs Dataset using the pickled file(s). This is open ended, suggestions include: plotting traffic sign images, plotting the count of each sign, etc.\n",
    "\n",
    "The [Matplotlib](http://matplotlib.org/) [examples](http://matplotlib.org/examples/index.html) and [gallery](http://matplotlib.org/gallery.html) pages are a great resource for doing visualizations in Python.\n",
    "\n",
    "**NOTE:** It's recommended you start with something simple first. If you wish to do more, come back to it after you've completed the rest of the sections."
   ]
  },
  {
   "cell_type": "code",
   "execution_count": 55,
   "metadata": {
    "collapsed": false,
    "deletable": true,
    "editable": true
   },
   "outputs": [
    {
     "data": {
      "text/plain": [
       "<matplotlib.image.AxesImage at 0x1221e8fd0>"
      ]
     },
     "execution_count": 55,
     "metadata": {},
     "output_type": "execute_result"
    },
    {
     "data": {
      "image/png": "[encoded data removed]",
      "text/plain": [
       "<matplotlib.figure.Figure at 0x11b1e9358>"
      ]
     },
     "metadata": {},
     "output_type": "display_data"
    }
   ],
   "source": [
    "### Data exploration visualization code goes here.\n",
    "### Feel free to use as many code cells as needed.\n",
    "import matplotlib.pyplot as plt\n",
    "import numpy as np\n",
    "from skimage import transform\n",
    "# Visualizations will be shown in the notebook.\n",
    "%matplotlib inline\n",
    "size = 10\n",
    "img_map = {}\n",
    "for i in range(len(X_train)):\n",
    "    if (y_train[i] not in img_map) : img_map[y_train[i]] = []\n",
    "    if (len(img_map[y_train[i]]) >= size) : continue\n",
    "    img_map[y_train[i]].append(X_train[i])\n",
    "\n",
    "\n",
    "img = np.zeros((0, size * 32, 3))\n",
    "for k in img_map:\n",
    "    col = np.zeros((32,0,3))\n",
    "    for sign in img_map[k]:\n",
    "        col = np.concatenate((col, sign), axis = 1)\n",
    "    img = np.concatenate((img, col), axis = 0)\n",
    "\n",
    "plt.imshow(img)\n",
    "    "
   ]
  },
  {
   "cell_type": "markdown",
   "metadata": {
    "deletable": true,
    "editable": true
   },
   "source": [
    "----\n",
    "\n",
    "## Step 2: Design and Test a Model Architecture\n",
    "\n",
    "Design and implement a deep learning model that learns to recognize traffic signs. Train and test your model on the [German Traffic Sign Dataset](http://benchmark.ini.rub.de/?section=gtsrb&subsection=dataset).\n",
    "\n",
    "There are various aspects to consider when thinking about this problem:\n",
    "\n",
    "- Neural network architecture\n",
    "- Play around preprocessing techniques (normalization, rgb to grayscale, etc)\n",
    "- Number of examples per label (some have more than others).\n",
    "- Generate fake data.\n",
    "\n",
    "Here is an example of a [published baseline model on this problem](http://yann.lecun.com/exdb/publis/pdf/sermanet-ijcnn-11.pdf). It's not required to be familiar with the approach used in the paper but, it's good practice to try to read papers like these.\n",
    "\n",
    "**NOTE:** The LeNet-5 implementation shown in the [classroom](https://classroom.udacity.com/nanodegrees/nd013/parts/fbf77062-5703-404e-b60c-95b78b2f3f9e/modules/6df7ae49-c61c-4bb2-a23e-6527e69209ec/lessons/601ae704-1035-4287-8b11-e2c2716217ad/concepts/d4aca031-508f-4e0b-b493-e7b706120f81) at the end of the CNN lesson is a solid starting point. You'll have to change the number of classes and possibly the preprocessing, but aside from that it's plug and play!"
   ]
  },
  {
   "cell_type": "markdown",
   "metadata": {
    "deletable": true,
    "editable": true
   },
   "source": [
    "### Pre-process the Data Set (normalization, grayscale, etc.)"
   ]
  },
  {
   "cell_type": "markdown",
   "metadata": {
    "deletable": true,
    "editable": true
   },
   "source": [
    "Use the code cell (or multiple code cells, if necessary) to implement the first step of your project."
   ]
  },
  {
   "cell_type": "code",
   "execution_count": 56,
   "metadata": {
    "collapsed": false,
    "deletable": true,
    "editable": true
   },
   "outputs": [
    {
     "name": "stdout",
     "output_type": "stream",
     "text": [
      "(34799, 32, 32, 3) (4410, 32, 32, 3)\n",
      "(34799,) (4410,)\n"
     ]
    }
   ],
   "source": [
    "### Preprocess the data here. Preprocessing steps could include normalization, converting to grayscale, etc.\n",
    "### Feel free to use as many code cells as needed.\n",
    "from sklearn.utils import shuffle\n",
    "n = len(X_train)\n",
    "nv = len(X_valid)\n",
    "X_train, y_train = shuffle(X_train, y_train)\n",
    "X_valid, y_valid = shuffle(X_valid, y_valid)\n",
    "\n",
    "\n",
    "X_train = np.array(X_train, dtype=np.float32)[:n]\n",
    "y_train = y_train[:n]\n",
    "\n",
    "X_valid = np.array(X_valid, dtype=np.float32)[:nv]\n",
    "y_valid =  y_valid[:nv]\n",
    "print(X_train.shape, X_valid.shape)\n",
    "print(y_train.shape, y_valid.shape)\n"
   ]
  },
  {
   "cell_type": "markdown",
   "metadata": {
    "deletable": true,
    "editable": true
   },
   "source": [
    "### Model Architecture"
   ]
  },
  {
   "cell_type": "code",
   "execution_count": 57,
   "metadata": {
    "collapsed": false,
    "deletable": true,
    "editable": true
   },
   "outputs": [
    {
     "name": "stdout",
     "output_type": "stream",
     "text": [
      "Tensor(\"Add_20:0\", shape=(1, 43), dtype=float32)\n"
     ]
    }
   ],
   "source": [
    "import tensorflow as tf\n",
    "### Define your architecture here.\n",
    "### Feel free to use as many code cells as needed.\n",
    "\n",
    "weights = [\n",
    "    tf.Variable(tf.random_normal([4,4,3,10])),\n",
    "    tf.Variable(tf.random_normal([3,3,10,30]))\n",
    "]\n",
    "\n",
    "def model(x):\n",
    "    #convolutional layer #1\n",
    "    L1_w = weights[0]\n",
    "    L1_b = tf.Variable(tf.random_normal([10]))\n",
    "    \n",
    "    conv1 = tf.nn.conv2d(x, L1_w, [1,1,1,1], 'VALID') + L1_b\n",
    "    relu1 = tf.nn.relu(conv1)\n",
    "    pool1 = tf.nn.max_pool(relu1, [1,2,2,1], [1,2,2,1], 'VALID')\n",
    "    \n",
    "    #convolutional layer #1\n",
    "\n",
    "    L2_w = weights[1]\n",
    "    L2_b = tf.Variable(tf.random_normal([30]))\n",
    "    conv2 = tf.nn.conv2d(pool1, L2_w, [1,1,1,1], 'VALID') + L2_b\n",
    "    relu2 = tf.nn.relu(conv2)\n",
    "    pool2 = tf.nn.max_pool(relu2, [1,2,2,1], [1,2,2,1], 'VALID')\n",
    "    \n",
    "        \n",
    "    flat = tf.contrib.layers.flatten(pool2)\n",
    "    \n",
    "    #fully connected1\n",
    "    F1_w = tf.Variable(tf.random_normal([1080, 300]))\n",
    "    F1_b = tf.Variable(tf.random_normal([300]))\n",
    "    \n",
    "    full1 = tf.add(tf.matmul(flat, F1_w), F1_b)\n",
    "    \n",
    "    #fully connected2\n",
    "    F2_w = tf.Variable(tf.random_normal([300, 100]))\n",
    "    F2_b = tf.Variable(tf.random_normal([100]))\n",
    "    full2 = tf.add(tf.matmul(full1, F2_w), F2_b)\n",
    "    \n",
    "    #fully connected3\n",
    "    F3_w = tf.Variable(tf.random_normal([100, 43]))\n",
    "    F3_b = tf.Variable(tf.random_normal([43]))\n",
    "    full3 = tf.add(tf.matmul(full2, F3_w), F3_b)\n",
    "    \n",
    "    return full3\n",
    "\n",
    "print (model(np.array(X_train[1], dtype=np.float32).reshape(1,32,32,3)))"
   ]
  },
  {
   "cell_type": "markdown",
   "metadata": {
    "deletable": true,
    "editable": true
   },
   "source": [
    "### Train, Validate and Test the Model"
   ]
  },
  {
   "cell_type": "markdown",
   "metadata": {
    "deletable": true,
    "editable": true
   },
   "source": [
    "A validation set can be used to assess how well the model is performing. A low accuracy on the training and validation\n",
    "sets imply underfitting. A high accuracy on the training set but low accuracy on the validation set implies overfitting."
   ]
  },
  {
   "cell_type": "code",
   "execution_count": null,
   "metadata": {
    "collapsed": true,
    "deletable": true,
    "editable": true
   },
   "outputs": [],
   "source": []
  },
  {
   "cell_type": "code",
   "execution_count": 58,
   "metadata": {
    "collapsed": false,
    "deletable": true,
    "editable": true
   },
   "outputs": [],
   "source": [
    "### Train your model here.\n",
    "### Calculate and report the accuracy on the training and validation set.\n",
    "### Once a final model architecture is selected, \n",
    "### the accuracy on the test set should be calculated and reported as well.\n",
    "### Feel free to use as many code cells as needed.\n",
    "x = tf.placeholder(tf.float32, (None, 32, 32, 3), name=\"X_train\")\n",
    "y = tf.placeholder(tf.int32, (None), name=\"y_train\")\n",
    "one_hot_y = tf.one_hot(y, 43, name = 'one_hot')\n",
    "\n",
    "rate = 0.01\n",
    "logits = model(x)\n",
    "# cost and optimizer\n",
    "cross_entropy = tf.nn.softmax_cross_entropy_with_logits(logits = logits, labels = one_hot_y, name=\"entropy\")\n",
    "cost = tf.reduce_mean(cross_entropy, name=\"cost\")\n",
    "optimizer = tf.train.AdamOptimizer(learning_rate = rate, name=\"optimizer\").minimize(cost)\n",
    "\n",
    "correct_pred = tf.equal(tf.argmax(logits, 1), tf.argmax(one_hot_y, 1))\n",
    "accuracy = tf.reduce_mean(tf.cast(correct_pred, tf.float32))\n",
    "\n"
   ]
  },
  {
   "cell_type": "code",
   "execution_count": null,
   "metadata": {
    "collapsed": false,
    "deletable": true,
    "editable": true
   },
   "outputs": [
    {
     "name": "stdout",
     "output_type": "stream",
     "text": [
      "starting...\n",
      "run...\n",
      "Epoch: 0/2\t Batch : 0/695\t loss: 31855056.0\t acc: 0.05999999865889549\n",
      "Epoch: 0/2\t Batch : 1/695\t loss: 22076522.0\t acc: 0.08080808073282242\n",
      "Epoch: 0/2\t Batch : 2/695\t loss: 21881306.0\t acc: 0.10135135054588318\n",
      "Epoch: 0/2\t Batch : 3/695\t loss: 21660334.0\t acc: 0.07614213228225708\n",
      "Epoch: 0/2\t Batch : 4/695\t loss: 19153748.0\t acc: 0.04065040498971939\n",
      "Epoch: 0/2\t Batch : 5/695\t loss: 15800846.0\t acc: 0.08474576473236084\n",
      "Epoch: 0/2\t Batch : 6/695\t loss: 14812950.0\t acc: 0.09011627733707428\n",
      "Epoch: 0/2\t Batch : 7/695\t loss: 12430871.0\t acc: 0.09923664480447769\n",
      "Epoch: 0/2\t Batch : 8/695\t loss: 10311423.0\t acc: 0.10407239943742752\n",
      "Epoch: 0/2\t Batch : 9/695\t loss: 9212457.0\t acc: 0.13034623861312866\n",
      "Epoch: 0/2\t Batch : 10/695\t loss: 8350788.5\t acc: 0.14259259402751923\n",
      "Epoch: 0/2\t Batch : 11/695\t loss: 7208858.0\t acc: 0.1307300478219986\n",
      "Epoch: 0/2\t Batch : 12/695\t loss: 6519031.5\t acc: 0.16144201159477234\n",
      "Epoch: 0/2\t Batch : 13/695\t loss: 6295853.0\t acc: 0.14556041359901428\n",
      "Epoch: 0/2\t Batch : 14/695\t loss: 5863706.5\t acc: 0.13994565606117249\n",
      "Epoch: 0/2\t Batch : 15/695\t loss: 5187964.5\t acc: 0.15796178579330444\n",
      "Epoch: 0/2\t Batch : 16/695\t loss: 4619023.5\t acc: 0.1690647453069687\n",
      "Epoch: 0/2\t Batch : 17/695\t loss: 4169633.0\t acc: 0.1778029501438141\n",
      "Epoch: 0/2\t Batch : 18/695\t loss: 3783309.0\t acc: 0.18133047223091125\n",
      "Epoch: 0/2\t Batch : 19/695\t loss: 3388309.25\t acc: 0.19673801958560944\n",
      "Epoch: 0/2\t Batch : 20/695\t loss: 3122651.5\t acc: 0.1932038813829422\n",
      "Epoch: 0/2\t Batch : 21/695\t loss: 2924363.75\t acc: 0.20389249920845032\n",
      "Epoch: 0/2\t Batch : 22/695\t loss: 2734467.75\t acc: 0.22163119912147522\n",
      "Epoch: 0/2\t Batch : 23/695\t loss: 2530258.75\t acc: 0.2361937165260315\n",
      "Epoch: 0/2\t Batch : 24/695\t loss: 2328601.75\t acc: 0.24796085059642792\n",
      "Epoch: 0/2\t Batch : 25/695\t loss: 2200625.0\t acc: 0.25568628311157227\n",
      "Epoch: 0/2\t Batch : 26/695\t loss: 2010671.0\t acc: 0.26435044407844543\n",
      "Epoch: 0/2\t Batch : 27/695\t loss: 1853274.0\t acc: 0.28259286284446716\n",
      "Epoch: 0/2\t Batch : 28/695\t loss: 1706464.125\t acc: 0.3016877770423889\n",
      "Epoch: 0/2\t Batch : 29/695\t loss: 1590417.875\t acc: 0.31747111678123474\n",
      "Epoch: 0/2\t Batch : 30/695\t loss: 1487182.125\t acc: 0.32960525155067444\n",
      "Epoch: 0/2\t Batch : 31/695\t loss: 1383747.875\t acc: 0.3346080183982849\n",
      "Epoch: 0/2\t Batch : 32/695\t loss: 1280852.625\t acc: 0.3423980176448822\n",
      "Epoch: 0/2\t Batch : 33/695\t loss: 1179115.375\t acc: 0.35692861676216125\n",
      "Epoch: 0/2\t Batch : 34/695\t loss: 1086588.375\t acc: 0.37062937021255493\n",
      "Epoch: 0/2\t Batch : 35/695\t loss: 1020628.5\t acc: 0.3699716627597809\n",
      "Epoch: 0/2\t Batch : 36/695\t loss: 951895.875\t acc: 0.3759647309780121\n",
      "Epoch: 0/2\t Batch : 37/695\t loss: 893498.625\t acc: 0.3966720402240753\n",
      "Epoch: 0/2\t Batch : 38/695\t loss: 834040.5625\t acc: 0.4173640310764313\n",
      "Epoch: 0/2\t Batch : 39/695\t loss: 784899.5625\t acc: 0.4298827052116394\n",
      "Epoch: 0/2\t Batch : 40/695\t loss: 755069.9375\t acc: 0.43283581733703613\n",
      "Epoch: 0/2\t Batch : 41/695\t loss: 723801.8125\t acc: 0.4424477815628052\n",
      "Epoch: 0/2\t Batch : 42/695\t loss: 687929.6875\t acc: 0.45588234066963196\n",
      "Epoch: 0/2\t Batch : 43/695\t loss: 652324.625\t acc: 0.4747334122657776\n",
      "Epoch: 0/2\t Batch : 44/695\t loss: 618567.125\t acc: 0.4873073399066925\n",
      "Epoch: 0/2\t Batch : 45/695\t loss: 593061.875\t acc: 0.4957871437072754\n",
      "Epoch: 0/2\t Batch : 46/695\t loss: 569258.5625\t acc: 0.5021701455116272\n",
      "Epoch: 0/2\t Batch : 47/695\t loss: 538293.9375\t acc: 0.5095622539520264\n",
      "Epoch: 0/2\t Batch : 48/695\t loss: 519543.15625\t acc: 0.5149875283241272\n",
      "Epoch: 0/2\t Batch : 49/695\t loss: 507891.40625\t acc: 0.5169318914413452\n",
      "Epoch: 0/2\t Batch : 50/695\t loss: 489196.25\t acc: 0.5235999822616577\n",
      "Epoch: 0/2\t Batch : 51/695\t loss: 472274.59375\t acc: 0.5288348197937012\n",
      "Epoch: 0/2\t Batch : 52/695\t loss: 450978.6875\t acc: 0.5331023931503296\n",
      "Epoch: 0/2\t Batch : 53/695\t loss: 431666.8125\t acc: 0.5383452773094177\n",
      "Epoch: 0/2\t Batch : 54/695\t loss: 416901.21875\t acc: 0.5474777221679688\n",
      "Epoch: 0/2\t Batch : 55/695\t loss: 397383.25\t acc: 0.5526411533355713\n",
      "Epoch: 0/2\t Batch : 56/695\t loss: 389191.09375\t acc: 0.5561918616294861\n",
      "Epoch: 0/2\t Batch : 57/695\t loss: 379948.96875\t acc: 0.5620822906494141\n",
      "Epoch: 0/2\t Batch : 58/695\t loss: 372207.4375\t acc: 0.565698504447937\n",
      "Epoch: 0/2\t Batch : 59/695\t loss: 360732.0\t acc: 0.5729343891143799\n",
      "Epoch: 0/2\t Batch : 60/695\t loss: 349562.65625\t acc: 0.5769230723381042\n",
      "Epoch: 0/2\t Batch : 61/695\t loss: 338056.8125\t acc: 0.5850608944892883\n",
      "Epoch: 0/2\t Batch : 62/695\t loss: 324303.53125\t acc: 0.5939119458198547\n",
      "Epoch: 0/2\t Batch : 63/695\t loss: 313272.875\t acc: 0.5970672369003296\n",
      "Epoch: 0/2\t Batch : 64/695\t loss: 305429.46875\t acc: 0.6060891151428223\n",
      "Epoch: 0/2\t Batch : 65/695\t loss: 298596.15625\t acc: 0.6092735528945923\n",
      "Epoch: 0/2\t Batch : 66/695\t loss: 292998.90625\t acc: 0.6193666458129883\n",
      "Epoch: 0/2\t Batch : 67/695\t loss: 282555.4375\t acc: 0.6276627779006958\n",
      "Epoch: 0/2\t Batch : 68/695\t loss: 274711.78125\t acc: 0.6321703195571899\n",
      "Epoch: 0/2\t Batch : 69/695\t loss: 266146.09375\t acc: 0.6374235153198242\n",
      "Epoch: 0/2\t Batch : 70/695\t loss: 254875.875\t acc: 0.6405172348022461\n",
      "Epoch: 0/2\t Batch : 71/695\t loss: 247215.96875\t acc: 0.6486256718635559\n",
      "Epoch: 0/2\t Batch : 72/695\t loss: 239903.296875\t acc: 0.6548351049423218\n",
      "Epoch: 0/2\t Batch : 73/695\t loss: 234537.21875\t acc: 0.6594982147216797\n",
      "Epoch: 0/2\t Batch : 74/695\t loss: 225847.78125\t acc: 0.6659412384033203\n",
      "Epoch: 0/2\t Batch : 75/695\t loss: 219602.296875\t acc: 0.6700671315193176\n",
      "Epoch: 0/2\t Batch : 76/695\t loss: 212292.0625\t acc: 0.6767355799674988\n",
      "Epoch: 0/2\t Batch : 77/695\t loss: 206495.078125\t acc: 0.6848025321960449\n",
      "Epoch: 0/2\t Batch : 78/695\t loss: 202814.28125\t acc: 0.6903409361839294\n",
      "Epoch: 0/2\t Batch : 79/695\t loss: 196697.484375\t acc: 0.6939556002616882\n",
      "Epoch: 0/2\t Batch : 80/695\t loss: 190012.453125\t acc: 0.6997480988502502\n",
      "Epoch: 0/2\t Batch : 81/695\t loss: 182842.359375\t acc: 0.7034088373184204\n",
      "Epoch: 0/2\t Batch : 82/695\t loss: 175925.421875\t acc: 0.7072271108627319\n",
      "Epoch: 0/2\t Batch : 83/695\t loss: 170548.296875\t acc: 0.7111974954605103\n",
      "Epoch: 0/2\t Batch : 84/695\t loss: 167204.015625\t acc: 0.71723473072052\n",
      "Epoch: 0/2\t Batch : 85/695\t loss: 162088.625\t acc: 0.7205219268798828\n",
      "Epoch: 0/2\t Batch : 86/695\t loss: 157688.890625\t acc: 0.723499059677124\n",
      "Epoch: 0/2\t Batch : 87/695\t loss: 154250.765625\t acc: 0.7259448170661926\n",
      "Epoch: 0/2\t Batch : 88/695\t loss: 150431.59375\t acc: 0.7292526364326477\n",
      "Epoch: 0/2\t Batch : 89/695\t loss: 145814.671875\t acc: 0.7336204648017883\n",
      "Epoch: 0/2\t Batch : 90/695\t loss: 141245.875\t acc: 0.7385650277137756\n",
      "Epoch: 0/2\t Batch : 91/695\t loss: 137196.65625\t acc: 0.7440674304962158\n",
      "Epoch: 0/2\t Batch : 92/695\t loss: 134449.703125\t acc: 0.7459412217140198\n",
      "Epoch: 0/2\t Batch : 93/695\t loss: 131474.40625\t acc: 0.7458215951919556\n",
      "Epoch: 0/2\t Batch : 94/695\t loss: 128376.6484375\t acc: 0.7472078800201416\n",
      "Epoch: 0/2\t Batch : 95/695\t loss: 127058.8125\t acc: 0.7475026845932007\n",
      "Epoch: 0/2\t Batch : 96/695\t loss: 123267.9140625\t acc: 0.7513672709465027\n",
      "Epoch: 0/2\t Batch : 97/695\t loss: 120854.5078125\t acc: 0.7578596472740173\n",
      "Epoch: 0/2\t Batch : 98/695\t loss: 118989.984375\t acc: 0.7621599435806274\n",
      "Epoch: 0/2\t Batch : 99/695\t loss: 115325.1796875\t acc: 0.7675984501838684\n",
      "Epoch: 0/2\t Batch : 100/695\t loss: 112814.5703125\t acc: 0.7696969509124756\n",
      "Epoch: 0/2\t Batch : 101/695\t loss: 110321.84375\t acc: 0.7727545499801636\n",
      "Epoch: 0/2\t Batch : 102/695\t loss: 108145.015625\t acc: 0.7771394848823547\n",
      "Epoch: 0/2\t Batch : 103/695\t loss: 105455.5234375\t acc: 0.7792819142341614\n",
      "Epoch: 0/2\t Batch : 104/695\t loss: 103103.375\t acc: 0.7802176475524902\n",
      "Epoch: 0/2\t Batch : 105/695\t loss: 103444.796875\t acc: 0.7811356782913208\n",
      "Epoch: 0/2\t Batch : 106/695\t loss: 101310.6484375\t acc: 0.7864225506782532\n",
      "Epoch: 0/2\t Batch : 107/695\t loss: 100611.65625\t acc: 0.7865104675292969\n",
      "Epoch: 0/2\t Batch : 108/695\t loss: 99966.125\t acc: 0.7880943417549133\n",
      "Epoch: 0/2\t Batch : 109/695\t loss: 98084.3828125\t acc: 0.7926173210144043\n",
      "Epoch: 0/2\t Batch : 110/695\t loss: 96096.5859375\t acc: 0.7974264621734619\n",
      "Epoch: 0/2\t Batch : 111/695\t loss: 92726.078125\t acc: 0.7997813820838928\n",
      "Epoch: 0/2\t Batch : 112/695\t loss: 92487.3359375\t acc: 0.800830602645874\n",
      "Epoch: 0/2\t Batch : 113/695\t loss: 92985.28125\t acc: 0.8034723401069641\n",
      "Epoch: 0/2\t Batch : 114/695\t loss: 93278.5625\t acc: 0.8044712543487549\n",
      "Epoch: 0/2\t Batch : 115/695\t loss: 92993.6171875\t acc: 0.806156575679779\n",
      "Epoch: 0/2\t Batch : 116/695\t loss: 91108.8671875\t acc: 0.8071154356002808\n",
      "Epoch: 0/2\t Batch : 117/695\t loss: 89890.9296875\t acc: 0.8078851699829102\n",
      "Epoch: 0/2\t Batch : 118/695\t loss: 88605.9296875\t acc: 0.8086419701576233\n",
      "Epoch: 0/2\t Batch : 119/695\t loss: 87129.1953125\t acc: 0.8107464909553528\n",
      "Epoch: 0/2\t Batch : 120/695\t loss: 85519.4453125\t acc: 0.8139966130256653\n",
      "Epoch: 0/2\t Batch : 121/695\t loss: 84309.515625\t acc: 0.8183642625808716\n",
      "Epoch: 0/2\t Batch : 122/695\t loss: 82401.359375\t acc: 0.8185136318206787\n",
      "Epoch: 0/2\t Batch : 123/695\t loss: 80514.359375\t acc: 0.8211288452148438\n",
      "Epoch: 0/2\t Batch : 124/695\t loss: 79313.3125\t acc: 0.8223963379859924\n",
      "Epoch: 0/2\t Batch : 125/695\t loss: 77254.375\t acc: 0.8218623399734497\n",
      "Epoch: 0/2\t Batch : 126/695\t loss: 76854.4140625\t acc: 0.8213367462158203\n",
      "Epoch: 0/2\t Batch : 127/695\t loss: 74453.3046875\t acc: 0.8249641060829163\n",
      "Epoch: 0/2\t Batch : 128/695\t loss: 72723.7578125\t acc: 0.828218936920166\n",
      "Epoch: 0/2\t Batch : 129/695\t loss: 71047.1796875\t acc: 0.8276565670967102\n",
      "Epoch: 0/2\t Batch : 130/695\t loss: 70570.234375\t acc: 0.8300623297691345\n",
      "Epoch: 0/2\t Batch : 131/695\t loss: 70108.03125\t acc: 0.8305765986442566\n",
      "Epoch: 0/2\t Batch : 132/695\t loss: 68675.3984375\t acc: 0.8310831785202026\n",
      "Epoch: 0/2\t Batch : 133/695\t loss: 67331.6875\t acc: 0.8335617184638977\n",
      "Epoch: 0/2\t Batch : 134/695\t loss: 66244.9140625\t acc: 0.8357013463973999\n",
      "Epoch: 0/2\t Batch : 135/695\t loss: 66332.3046875\t acc: 0.8372092843055725\n",
      "Epoch: 0/2\t Batch : 136/695\t loss: 65488.94921875\t acc: 0.8388441801071167\n",
      "Epoch: 0/2\t Batch : 137/695\t loss: 63932.0390625\t acc: 0.8425254821777344\n",
      "Epoch: 0/2\t Batch : 138/695\t loss: 63546.3359375\t acc: 0.8452730178833008\n",
      "Epoch: 0/2\t Batch : 139/695\t loss: 63821.0\t acc: 0.845503568649292\n",
      "Epoch: 0/2\t Batch : 140/695\t loss: 63094.0234375\t acc: 0.8460202813148499\n",
      "Epoch: 0/2\t Batch : 141/695\t loss: 62114.15625\t acc: 0.8486851453781128\n",
      "Epoch: 0/2\t Batch : 142/695\t loss: 61484.1015625\t acc: 0.8488869667053223\n",
      "Epoch: 0/2\t Batch : 143/695\t loss: 60610.4140625\t acc: 0.8500779271125793\n",
      "Epoch: 0/2\t Batch : 144/695\t loss: 60100.98828125\t acc: 0.8519560694694519\n",
      "Epoch: 0/2\t Batch : 145/695\t loss: 60501.01953125\t acc: 0.8511530160903931\n",
      "Epoch: 0/2\t Batch : 146/695\t loss: 59084.30859375\t acc: 0.8548029065132141\n",
      "Epoch: 0/2\t Batch : 147/695\t loss: 58896.9296875\t acc: 0.8535778522491455\n",
      "Epoch: 0/2\t Batch : 148/695\t loss: 58189.3125\t acc: 0.8512735962867737\n",
      "Epoch: 0/2\t Batch : 149/695\t loss: 59794.05859375\t acc: 0.8537613749504089\n",
      "Epoch: 0/2\t Batch : 150/695\t loss: 59518.26171875\t acc: 0.8551351428031921\n",
      "Epoch: 0/2\t Batch : 151/695\t loss: 58402.0546875\t acc: 0.853537380695343\n",
      "Epoch: 0/2\t Batch : 152/695\t loss: 58207.58984375\t acc: 0.8531608581542969\n",
      "Epoch: 0/2\t Batch : 153/695\t loss: 57053.8046875\t acc: 0.8564992547035217\n",
      "Epoch: 0/2\t Batch : 154/695\t loss: 56676.171875\t acc: 0.8583465218544006\n",
      "Epoch: 0/2\t Batch : 155/695\t loss: 55984.30078125\t acc: 0.858600378036499\n",
      "Epoch: 0/2\t Batch : 156/695\t loss: 55253.59375\t acc: 0.8589810132980347\n",
      "Epoch: 0/2\t Batch : 157/695\t loss: 53911.01953125\t acc: 0.8607774972915649\n",
      "Epoch: 0/2\t Batch : 158/695\t loss: 52945.5859375\t acc: 0.8612679839134216\n",
      "Epoch: 0/2\t Batch : 159/695\t loss: 51395.2578125\t acc: 0.8635377883911133\n",
      "Epoch: 0/2\t Batch : 160/695\t loss: 50971.8984375\t acc: 0.8643853068351746\n",
      "Epoch: 0/2\t Batch : 161/695\t loss: 51012.5\t acc: 0.8644665479660034\n",
      "Epoch: 0/2\t Batch : 162/695\t loss: 50829.1484375\t acc: 0.8646720051765442\n",
      "Epoch: 0/2\t Batch : 163/695\t loss: 50110.76953125\t acc: 0.8669901490211487\n",
      "Epoch: 0/2\t Batch : 164/695\t loss: 49488.4296875\t acc: 0.8679198622703552\n",
      "Epoch: 0/2\t Batch : 165/695\t loss: 49903.0859375\t acc: 0.8685925006866455\n",
      "Epoch: 0/2\t Batch : 166/695\t loss: 48623.03515625\t acc: 0.8693792819976807\n",
      "Epoch: 0/2\t Batch : 167/695\t loss: 47935.640625\t acc: 0.8696708083152771\n",
      "Epoch: 0/2\t Batch : 168/695\t loss: 47196.3828125\t acc: 0.8711664080619812\n",
      "Epoch: 0/2\t Batch : 169/695\t loss: 47264.234375\t acc: 0.8714439868927002\n",
      "Epoch: 0/2\t Batch : 170/695\t loss: 48074.44140625\t acc: 0.8721957206726074\n",
      "Epoch: 0/2\t Batch : 171/695\t loss: 47698.09375\t acc: 0.8727014064788818\n",
      "Epoch: 0/2\t Batch : 172/695\t loss: 47413.09765625\t acc: 0.8719037771224976\n",
      "Epoch: 0/2\t Batch : 173/695\t loss: 46535.21484375\t acc: 0.8711152672767639\n",
      "Epoch: 0/2\t Batch : 174/695\t loss: 45982.71484375\t acc: 0.8733675479888916\n",
      "Epoch: 0/2\t Batch : 175/695\t loss: 45259.1015625\t acc: 0.8738550543785095\n",
      "Epoch: 0/2\t Batch : 176/695\t loss: 44385.95703125\t acc: 0.8756052851676941\n",
      "Epoch: 0/2\t Batch : 177/695\t loss: 43603.65625\t acc: 0.876991868019104\n",
      "Epoch: 0/2\t Batch : 178/695\t loss: 43688.60546875\t acc: 0.8782489895820618\n",
      "Epoch: 0/2\t Batch : 179/695\t loss: 43136.8125\t acc: 0.8799455761909485\n"
     ]
    }
   ],
   "source": [
    "saver = tf.train.Saver()\n",
    "init = tf.global_variables_initializer()\n",
    "print ('starting...')\n",
    "batch_size = 50\n",
    "batch_numbers = int(len(X_train)/batch_size)\n",
    "epochs = 2\n",
    "with tf.Session() as sess:\n",
    "    print('run...')\n",
    "    sess.run(init)\n",
    "    for e in range(epochs):\n",
    "        for n in range(batch_numbers):\n",
    "            x_batch, y_batch = X_train[n:(n+1) * batch_size], y_train[n:(n+1) * batch_size]\n",
    "\n",
    "            sess.run(optimizer, feed_dict = {x : x_batch, y : y_batch})\n",
    "\n",
    "            loss = sess.run(cost, feed_dict = {x : x_batch, y : y_batch})\n",
    "\n",
    "            valid_acc = sess.run(accuracy, feed_dict = {x : x_batch, y : y_batch})\n",
    "            print (\"Epoch: {}/{}\\t Batch : {}/{}\\t loss: {}\\t acc: {}\".format(e, epochs, n, batch_numbers, loss, valid_acc))\n",
    "        \n",
    "        \n",
    "    saver.save(sess, \"./trained_model\")\n",
    "    print('OK, saved.')"
   ]
  },
  {
   "cell_type": "markdown",
   "metadata": {
    "deletable": true,
    "editable": true
   },
   "source": [
    "---\n",
    "\n",
    "## Step 3: Test a Model on New Images\n",
    "\n",
    "To give yourself more insight into how your model is working, download at least five pictures of German traffic signs from the web and use your model to predict the traffic sign type.\n",
    "\n",
    "You may find `signnames.csv` useful as it contains mappings from the class id (integer) to the actual sign name."
   ]
  },
  {
   "cell_type": "markdown",
   "metadata": {
    "deletable": true,
    "editable": true
   },
   "source": [
    "### Load and Output the Images"
   ]
  },
  {
   "cell_type": "code",
   "execution_count": 38,
   "metadata": {
    "collapsed": false,
    "deletable": true,
    "editable": true
   },
   "outputs": [],
   "source": [
    "from scipy.misc import imread, imresize\n",
    "import csv\n",
    "\n",
    "#the csv\n",
    "sign_names = []\n",
    "with open('./signnames.csv') as f:\n",
    "    c = csv.reader(f)\n",
    "    for row in c:\n",
    "        sign_names.append(row[1])\n",
    "   \n",
    "#loading some images\n",
    "ims = ['00001','00002','00003','00005','00010','01000', '02000', '02001', '12001']\n",
    "sample_signs = np.zeros((32, 0, 3))\n",
    "imglist = []\n",
    "for im in ims:\n",
    "    i = imresize(imread('./data/GTSRB/Final_Test/Images/{}.ppm'.format(im)), (32,32))\n",
    "    imglist.append(i)\n",
    "    sample_signs = np.concatenate((sample_signs, i), axis = 1)\n",
    "\n",
    "imglist = np.array(imglist, dtype=np.float32)\n",
    "    \n",
    "\n"
   ]
  },
  {
   "cell_type": "markdown",
   "metadata": {
    "deletable": true,
    "editable": true
   },
   "source": [
    "### Predict the Sign Type for Each Image"
   ]
  },
  {
   "cell_type": "code",
   "execution_count": 39,
   "metadata": {
    "collapsed": false,
    "deletable": true,
    "editable": true
   },
   "outputs": [
    {
     "name": "stdout",
     "output_type": "stream",
     "text": [
      "model restored.\n",
      "----------------------\n",
      "\n",
      "1 Speed limit (20km/h)\n",
      "2 Go straight or left\n",
      "3 Priority road\n",
      "4 Go straight or left\n",
      "5 Right-of-way at the next intersection\n",
      "6 Vehicles over 3.5 metric tons prohibited\n",
      "7 Turn left ahead\n",
      "8 Go straight or left\n",
      "9 Speed limit (50km/h)\n"
     ]
    },
    {
     "data": {
      "image/png": "[encoded data removed]",
      "text/plain": [
       "<matplotlib.figure.Figure at 0x11bb04da0>"
      ]
     },
     "metadata": {},
     "output_type": "display_data"
    }
   ],
   "source": [
    "### Run the predictions here and use the model to output the prediction for each image.\n",
    "### Make sure to pre-process the images with the same pre-processing pipeline used earlier.\n",
    "### Feel free to use as many code cells as needed.\n",
    "#loading the saved model\n",
    "saver = tf.train.Saver()\n",
    "%matplotlib inline\n",
    "\n",
    "softmax = tf.nn.softmax(logits)\n",
    "index = tf.argmax(softmax, axis = 1)\n",
    "with tf.Session() as session:\n",
    "    saver.restore(session, \"./trained_model\")\n",
    "    print (\"model restored.\\n----------------------\\n\")\n",
    "    img_predictions = session.run(index, feed_dict = {x : imglist})\n",
    "    \n",
    "plt.imshow(sample_signs)\n",
    "for i, pred in enumerate(img_predictions):\n",
    "    print (i+1, sign_names[pred])\n",
    "\n",
    "### Load the images and plot them here.\n",
    "### Feel free to use as many code cells as needed."
   ]
  },
  {
   "cell_type": "markdown",
   "metadata": {
    "deletable": true,
    "editable": true
   },
   "source": [
    "### Analyze Performance"
   ]
  },
  {
   "cell_type": "code",
   "execution_count": 43,
   "metadata": {
    "collapsed": false,
    "deletable": true,
    "editable": true
   },
   "outputs": [
    {
     "name": "stdout",
     "output_type": "stream",
     "text": [
      "Accuracy on validation data: 0.5950000286102295\n"
     ]
    }
   ],
   "source": [
    "### Calculate the accuracy for these 5 new images. \n",
    "### For example, if the model predicted 1 out of 5 signs correctly, it's 20% accurate on these new images.\n",
    "\n",
    "\n",
    "# Instead of this, i'm doing a full test on the validation data.\n",
    "# After this, I do anouther test on testing data, BUT ONLY after i have the final model.\n",
    "\n",
    "\n",
    "with tf.Session() as session:\n",
    "    saver.restore(session, './trained_model')\n",
    "    acc = session.run(accuracy, feed_dict={x : X_valid, y : y_valid})\n",
    "    print('Accuracy on validation data: {}'.format(acc))\n"
   ]
  },
  {
   "cell_type": "markdown",
   "metadata": {
    "deletable": true,
    "editable": true
   },
   "source": [
    "### Output Top 5 Softmax Probabilities For Each Image Found on the Web"
   ]
  },
  {
   "cell_type": "markdown",
   "metadata": {
    "deletable": true,
    "editable": true
   },
   "source": [
    "For each of the new images, print out the model's softmax probabilities to show the **certainty** of the model's predictions (limit the output to the top 5 probabilities for each image). [`tf.nn.top_k`](https://www.tensorflow.org/versions/r0.12/api_docs/python/nn.html#top_k) could prove helpful here. \n",
    "\n",
    "The example below demonstrates how tf.nn.top_k can be used to find the top k predictions for each image.\n",
    "\n",
    "`tf.nn.top_k` will return the values and indices (class ids) of the top k predictions. So if k=3, for each sign, it'll return the 3 largest probabilities (out of a possible 43) and the correspoding class ids.\n",
    "\n",
    "Take this numpy array as an example. The values in the array represent predictions. The array contains softmax probabilities for five candidate images with six possible classes. `tk.nn.top_k` is used to choose the three classes with the highest probability:\n",
    "\n",
    "```\n",
    "# (5, 6) array\n",
    "a = np.array([[ 0.24879643,  0.07032244,  0.12641572,  0.34763842,  0.07893497,\n",
    "         0.12789202],\n",
    "       [ 0.28086119,  0.27569815,  0.08594638,  0.0178669 ,  0.18063401,\n",
    "         0.15899337],\n",
    "       [ 0.26076848,  0.23664738,  0.08020603,  0.07001922,  0.1134371 ,\n",
    "         0.23892179],\n",
    "       [ 0.11943333,  0.29198961,  0.02605103,  0.26234032,  0.1351348 ,\n",
    "         0.16505091],\n",
    "       [ 0.09561176,  0.34396535,  0.0643941 ,  0.16240774,  0.24206137,\n",
    "         0.09155967]])\n",
    "```\n",
    "\n",
    "Running it through `sess.run(tf.nn.top_k(tf.constant(a), k=3))` produces:\n",
    "\n",
    "```\n",
    "TopKV2(values=array([[ 0.34763842,  0.24879643,  0.12789202],\n",
    "       [ 0.28086119,  0.27569815,  0.18063401],\n",
    "       [ 0.26076848,  0.23892179,  0.23664738],\n",
    "       [ 0.29198961,  0.26234032,  0.16505091],\n",
    "       [ 0.34396535,  0.24206137,  0.16240774]]), indices=array([[3, 0, 5],\n",
    "       [0, 1, 4],\n",
    "       [0, 5, 1],\n",
    "       [1, 3, 5],\n",
    "       [1, 4, 3]], dtype=int32))\n",
    "```\n",
    "\n",
    "Looking just at the first row we get `[ 0.34763842,  0.24879643,  0.12789202]`, you can confirm these are the 3 largest probabilities in `a`. You'll also notice `[3, 0, 5]` are the corresponding indices."
   ]
  },
  {
   "cell_type": "code",
   "execution_count": 12,
   "metadata": {
    "collapsed": false,
    "deletable": true,
    "editable": true
   },
   "outputs": [
    {
     "name": "stdout",
     "output_type": "stream",
     "text": [
      "model restored.\n",
      "----------------------\n",
      "\n",
      "[ 1 38 25 38 38 17 35 38  1]\n",
      "TopKV2(values=array([[ 10557845.  ,   8951315.  ,   8094156.  ],\n",
      "       [  3934571.75,   2962153.25,   2400469.5 ],\n",
      "       [  7643405.  ,   6521197.5 ,   6413110.  ],\n",
      "       [  3384078.75,   2268733.5 ,   2031559.  ],\n",
      "       [  3567052.5 ,   3063436.  ,   2975853.  ],\n",
      "       [ 39496604.  ,  31774704.  ,  21718636.  ],\n",
      "       [  4910139.5 ,   2307329.5 ,   2178468.  ],\n",
      "       [  5746715.  ,   3775801.25,   3674567.25],\n",
      "       [  3961105.25,   3692676.  ,   3547906.75]], dtype=float32), indices=array([[ 1,  5, 39],\n",
      "       [38, 35, 39],\n",
      "       [25, 30, 38],\n",
      "       [38, 35, 10],\n",
      "       [38, 15, 31],\n",
      "       [17, 14,  8],\n",
      "       [35, 18, 34],\n",
      "       [38,  6, 30],\n",
      "       [ 1,  4,  8]], dtype=int32))\n",
      "1    Speed limit (20km/h) ,   Speed limit (70km/h) ,   Keep right ,   \n",
      "2    Go straight or left ,   Turn left ahead ,   Keep right ,   \n",
      "3    Road narrows on the right ,   Bicycles crossing ,   Go straight or left ,   \n",
      "4    Go straight or left ,   Turn left ahead ,   No passing ,   \n",
      "5    Go straight or left ,   Stop ,   Beware of ice/snow ,   \n",
      "6    Vehicles over 3.5 metric tons prohibited ,   Yield ,   Speed limit (100km/h) ,   \n",
      "7    Turn left ahead ,   No entry ,   Turn right ahead ,   \n",
      "8    Go straight or left ,   Speed limit (80km/h) ,   Bicycles crossing ,   \n",
      "9    Speed limit (20km/h) ,   Speed limit (60km/h) ,   Speed limit (100km/h) ,   \n"
     ]
    },
    {
     "data": {
      "image/png": "[encoded data removed]",
      "text/plain": [
       "<matplotlib.figure.Figure at 0x12df42b70>"
      ]
     },
     "metadata": {},
     "output_type": "display_data"
    }
   ],
   "source": [
    "### Print out the top five softmax probabilities for the predictions on the German traffic sign images found on the web. \n",
    "### Feel free to use as many code cells as needed.\n",
    "top_k = tf.nn.top_k(logits, k=3)\n",
    "with tf.Session() as session:\n",
    "    saver.restore(session, \"./trained_model\")\n",
    "    print (\"model restored.\\n----------------------\\n\")\n",
    "    top_pred = session.run(top_k, feed_dict = {x : imglist})\n",
    "\n",
    "print(img_predictions)\n",
    "print(top_pred)\n",
    "\n",
    "plt.imshow(sample_signs)\n",
    "for i, top_preds in enumerate(top_pred[1]):\n",
    "    print(i+1,'   ',end='')\n",
    "    for pred in top_preds:\n",
    "        print (sign_names[pred], ',   ', end='')\n",
    "    print('')"
   ]
  },
  {
   "cell_type": "markdown",
   "metadata": {
    "deletable": true,
    "editable": true
   },
   "source": [
    "---\n",
    "\n",
    "## Step 4: Visualize the Neural Network's State with Test Images\n",
    "\n",
    " This Section is not required to complete but acts as an additional excersise for understaning the output of a neural network's weights. While neural networks can be a great learning device they are often referred to as a black box. We can understand what the weights of a neural network look like better by plotting their feature maps. After successfully training your neural network you can see what it's feature maps look like by plotting the output of the network's weight layers in response to a test stimuli image. From these plotted feature maps, it's possible to see what characteristics of an image the network finds interesting. For a sign, maybe the inner network feature maps react with high activation to the sign's boundary outline or to the contrast in the sign's painted symbol.\n",
    "\n",
    " Provided for you below is the function code that allows you to get the visualization output of any tensorflow weight layer you want. The inputs to the function should be a stimuli image, one used during training or a new one you provided, and then the tensorflow variable name that represents the layer's state during the training process, for instance if you wanted to see what the [LeNet lab's](https://classroom.udacity.com/nanodegrees/nd013/parts/fbf77062-5703-404e-b60c-95b78b2f3f9e/modules/6df7ae49-c61c-4bb2-a23e-6527e69209ec/lessons/601ae704-1035-4287-8b11-e2c2716217ad/concepts/d4aca031-508f-4e0b-b493-e7b706120f81) feature maps looked like for it's second convolutional layer you could enter conv2 as the tf_activation variable.\n",
    "\n",
    "For an example of what feature map outputs look like, check out NVIDIA's results in their paper [End-to-End Deep Learning for Self-Driving Cars](https://devblogs.nvidia.com/parallelforall/deep-learning-self-driving-cars/) in the section Visualization of internal CNN State. NVIDIA was able to show that their network's inner weights had high activations to road boundary lines by comparing feature maps from an image with a clear path to one without. Try experimenting with a similar test to show that your trained network's weights are looking for interesting features, whether it's looking at differences in feature maps from images with or without a sign, or even what feature maps look like in a trained network vs a completely untrained one on the same sign image.\n",
    "\n",
    "<figure>\n",
    " <img src=\"visualize_cnn.png\" width=\"380\" alt=\"Combined Image\" />\n",
    " <figcaption>\n",
    " <p></p> \n",
    " <p style=\"text-align: center;\"> Your output should look something like this (above)</p> \n",
    " </figcaption>\n",
    "</figure>\n",
    " <p></p> \n"
   ]
  },
  {
   "cell_type": "code",
   "execution_count": 29,
   "metadata": {
    "collapsed": false,
    "deletable": true,
    "editable": true
   },
   "outputs": [
    {
     "data": {
      "image/png": "[encoded data removed]",
      "text/plain": [
       "<matplotlib.figure.Figure at 0x12e0477f0>"
      ]
     },
     "metadata": {},
     "output_type": "display_data"
    }
   ],
   "source": [
    "### Visualize your network's feature maps here.\n",
    "### Feel free to use as many code cells as needed.\n",
    "\n",
    "# image_input: the test image being fed into the network to produce the feature maps\n",
    "# tf_activation: should be a tf variable name used during your training procedure that represents the calculated state of a specific weight layer\n",
    "# activation_min/max: can be used to view the activation contrast in more detail, by default matplot sets min and max to the actual min and max values of the output\n",
    "# plt_num: used to plot out multiple different weight feature map sets on the same block, just extend the plt number for each new feature map entry\n",
    "\n",
    "def outputFeatureMap(image_input, tf_activation, activation_min=-1, activation_max=-1 ,plt_num=1):\n",
    "    # Here make sure to preprocess your image_input in a way your network expects\n",
    "    # with size, normalization, ect if needed\n",
    "    # image_input =\n",
    "    # Note: x should be the same name as your network's tensorflow data placeholder variable\n",
    "    # If you get an error tf_activation is not defined it maybe having trouble accessing the variable from inside a function\n",
    "    activation = tf_activation.eval(session=session ) #,feed_dict={x : image_input})\n",
    "    featuremaps = activation.shape[3]\n",
    "    plt.figure(plt_num, figsize=(15,15))\n",
    "    for featuremap in range(featuremaps):\n",
    "        plt.subplot(6,8, featuremap+1) # sets the number of feature maps to show on each row and column\n",
    "        plt.title('FeatureMap ' + str(featuremap)) # displays the feature map number\n",
    "        if activation_min != -1 & activation_max != -1:\n",
    "            plt.imshow(activation[0,:,:, featuremap], interpolation=\"nearest\", vmin =activation_min, vmax=activation_max, cmap=\"gray\")\n",
    "        elif activation_max != -1:\n",
    "            plt.imshow(activation[0,:,:, featuremap], interpolation=\"nearest\", vmax=activation_max, cmap=\"gray\")\n",
    "        elif activation_min !=-1:\n",
    "            plt.imshow(activation[0,:,:, featuremap], interpolation=\"nearest\", vmin=activation_min, cmap=\"gray\")\n",
    "        else:\n",
    "            plt.imshow(activation[0,:,:, featuremap], interpolation=\"nearest\", cmap=\"gray\")\n",
    "            \n",
    "    \n",
    "\n",
    "#outputFeatureMap(X_train[1].reshape(1,32,32,3), weights[3]) \n",
    "with tf.Session() as session:\n",
    "    saver.restore(session, \"./trained_model\")\n",
    "    outputFeatureMap(imglist, weights[0]) \n",
    "    #outputFeatureMap(X_train[1].reshape(1,32,32,3), weights[0])\n",
    "    \n"
   ]
  },
  {
   "cell_type": "markdown",
   "metadata": {
    "deletable": true,
    "editable": true
   },
   "source": [
    "### Question 9\n",
    "\n",
    "Discuss how you used the visual output of your trained network's feature maps to show that it had learned to look for interesting characteristics in traffic sign images\n"
   ]
  },
  {
   "cell_type": "markdown",
   "metadata": {
    "deletable": true,
    "editable": true
   },
   "source": [
    "**Answer:**"
   ]
  },
  {
   "cell_type": "markdown",
   "metadata": {
    "deletable": true,
    "editable": true
   },
   "source": [
    "> **Note**: Once you have completed all of the code implementations and successfully answered each question above, you may finalize your work by exporting the iPython Notebook as an HTML document. You can do this by using the menu above and navigating to  \\n\",\n",
    "    \"**File -> Download as -> HTML (.html)**. Include the finished document along with this notebook as your submission."
   ]
  },
  {
   "cell_type": "markdown",
   "metadata": {
    "deletable": true,
    "editable": true
   },
   "source": [
    "### Project Writeup\n",
    "\n",
    "Once you have completed the code implementation, document your results in a project writeup using this [template](https://github.com/udacity/CarND-Traffic-Sign-Classifier-Project/blob/master/writeup_template.md) as a guide. The writeup can be in a markdown or pdf file. "
   ]
  }
 ],
 "metadata": {
  "anaconda-cloud": {},
  "kernelspec": {
   "display_name": "Python 3",
   "language": "python",
   "name": "python3"
  },
  "language_info": {
   "codemirror_mode": {
    "name": "ipython",
    "version": 3
   },
   "file_extension": ".py",
   "mimetype": "text/x-python",
   "name": "python",
   "nbconvert_exporter": "python",
   "pygments_lexer": "ipython3",
   "version": "3.5.2"
  },
  "widgets": {
   "state": {},
   "version": "1.1.2"
  }
 },
 "nbformat": 4,
 "nbformat_minor": 1
}
