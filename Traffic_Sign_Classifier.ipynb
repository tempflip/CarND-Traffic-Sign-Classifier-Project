{
 "cells": [
  {
   "cell_type": "markdown",
   "metadata": {
    "deletable": true,
    "editable": true
   },
   "source": [
    "# Self-Driving Car Engineer Nanodegree\n",
    "\n",
    "## Deep Learning\n",
    "\n",
    "## Project: Build a Traffic Sign Recognition Classifier\n",
    "\n",
    "In this notebook, a template is provided for you to implement your functionality in stages, which is required to successfully complete this project. If additional code is required that cannot be included in the notebook, be sure that the Python code is successfully imported and included in your submission if necessary. \n",
    "\n",
    "> **Note**: Once you have completed all of the code implementations, you need to finalize your work by exporting the iPython Notebook as an HTML document. Before exporting the notebook to html, all of the code cells need to have been run so that reviewers can see the final implementation and output. You can then export the notebook by using the menu above and navigating to  \\n\",\n",
    "    \"**File -> Download as -> HTML (.html)**. Include the finished document along with this notebook as your submission. \n",
    "\n",
    "In addition to implementing code, there is a writeup to complete. The writeup should be completed in a separate file, which can be either a markdown file or a pdf document. There is a [write up template](https://github.com/udacity/CarND-Traffic-Sign-Classifier-Project/blob/master/writeup_template.md) that can be used to guide the writing process. Completing the code template and writeup template will cover all of the [rubric points](https://review.udacity.com/#!/rubrics/481/view) for this project.\n",
    "\n",
    "The [rubric](https://review.udacity.com/#!/rubrics/481/view) contains \"Stand Out Suggestions\" for enhancing the project beyond the minimum requirements. The stand out suggestions are optional. If you decide to pursue the \"stand out suggestions\", you can include the code in this Ipython notebook and also discuss the results in the writeup file.\n",
    "\n",
    "\n",
    ">**Note:** Code and Markdown cells can be executed using the **Shift + Enter** keyboard shortcut. In addition, Markdown cells can be edited by typically double-clicking the cell to enter edit mode."
   ]
  },
  {
   "cell_type": "markdown",
   "metadata": {
    "deletable": true,
    "editable": true
   },
   "source": [
    "---\n",
    "## Step 0: Load The Data"
   ]
  },
  {
   "cell_type": "code",
   "execution_count": 28,
   "metadata": {
    "collapsed": false,
    "deletable": true,
    "editable": true
   },
   "outputs": [],
   "source": [
    "# Load pickled data\n",
    "import pickle\n",
    "\n",
    "# TODO: Fill this in based on where you saved the training and testing data\n",
    "\n",
    "training_file = './data/traffic-signs-data/train.p'\n",
    "validation_file='./data/traffic-signs-data/valid.p'\n",
    "testing_file = './data/traffic-signs-data/test.p'\n",
    "\n",
    "with open(training_file, mode='rb') as f:\n",
    "    train = pickle.load(f)\n",
    "with open(validation_file, mode='rb') as f:\n",
    "    valid = pickle.load(f)\n",
    "with open(testing_file, mode='rb') as f:\n",
    "    test = pickle.load(f)\n",
    "    \n",
    "X_train, y_train = train['features'], train['labels']\n",
    "X_valid, y_valid = valid['features'], valid['labels']\n",
    "X_test, y_test = test['features'], test['labels']\n"
   ]
  },
  {
   "cell_type": "code",
   "execution_count": 29,
   "metadata": {
    "collapsed": false,
    "deletable": true,
    "editable": true
   },
   "outputs": [
    {
     "name": "stdout",
     "output_type": "stream",
     "text": [
      "(34799, 32, 32, 3)\n",
      "(4410, 32, 32, 3)\n",
      "(34799,)\n",
      "(4410,)\n"
     ]
    },
    {
     "data": {
      "text/plain": [
       "<matplotlib.image.AxesImage at 0x7fc3cd1d9f98>"
      ]
     },
     "execution_count": 29,
     "metadata": {},
     "output_type": "execute_result"
    },
    {
     "data": {
      "image/png": "[encoded data removed]",
      "text/plain": [
       "<matplotlib.figure.Figure at 0x7fc3ce45ff98>"
      ]
     },
     "metadata": {},
     "output_type": "display_data"
    }
   ],
   "source": [
    "# discovering the format\n",
    "import matplotlib.pyplot as plt\n",
    "%matplotlib inline\n",
    "i = 10\n",
    "print (X_train.shape)\n",
    "print (X_valid.shape)\n",
    "print (y_train.shape)\n",
    "print (y_valid.shape)\n",
    "\n",
    "plt.imshow(X_train[i])\n"
   ]
  },
  {
   "cell_type": "markdown",
   "metadata": {
    "deletable": true,
    "editable": true
   },
   "source": [
    "---\n",
    "\n",
    "## Step 1: Dataset Summary & Exploration\n",
    "\n",
    "The pickled data is a dictionary with 4 key/value pairs:\n",
    "\n",
    "- `'features'` is a 4D array containing raw pixel data of the traffic sign images, (num examples, width, height, channels).\n",
    "- `'labels'` is a 1D array containing the label/class id of the traffic sign. The file `signnames.csv` contains id -> name mappings for each id.\n",
    "- `'sizes'` is a list containing tuples, (width, height) representing the the original width and height the image.\n",
    "- `'coords'` is a list containing tuples, (x1, y1, x2, y2) representing coordinates of a bounding box around the sign in the image. **THESE COORDINATES ASSUME THE ORIGINAL IMAGE. THE PICKLED DATA CONTAINS RESIZED VERSIONS (32 by 32) OF THESE IMAGES**\n",
    "\n",
    "Complete the basic data summary below. Use python, numpy and/or pandas methods to calculate the data summary rather than hard coding the results. For example, the [pandas shape method](http://pandas.pydata.org/pandas-docs/stable/generated/pandas.DataFrame.shape.html) might be useful for calculating some of the summary results. "
   ]
  },
  {
   "cell_type": "markdown",
   "metadata": {
    "deletable": true,
    "editable": true
   },
   "source": [
    "### Provide a Basic Summary of the Data Set Using Python, Numpy and/or Pandas"
   ]
  },
  {
   "cell_type": "code",
   "execution_count": 30,
   "metadata": {
    "collapsed": false,
    "deletable": true,
    "editable": true
   },
   "outputs": [
    {
     "name": "stdout",
     "output_type": "stream",
     "text": [
      "Number of training examples = 34799\n",
      "Number of testing examples = 12630\n",
      "Image data shape = (32, 32)\n",
      "Number of classes = 43\n"
     ]
    }
   ],
   "source": [
    "### Replace each question mark with the appropriate value. \n",
    "### Use python, pandas or numpy methods rather than hard coding the results\n",
    "\n",
    "# TODO: Number of training examples\n",
    "n_train = X_train.shape[0]\n",
    "\n",
    "# TODO: Number of testing examples.\n",
    "n_test = X_test.shape[0]\n",
    "\n",
    "# TODO: What's the shape of an traffic sign image?\n",
    "image_shape = X_train.shape[1], X_train.shape[2]\n",
    "\n",
    "# TODO: How many unique classes/labels there are in the dataset.\n",
    "n_classes = len(set(y_train.flatten()))\n",
    "\n",
    "print(\"Number of training examples =\", n_train)\n",
    "print(\"Number of testing examples =\", n_test)\n",
    "print(\"Image data shape =\", image_shape)\n",
    "print(\"Number of classes =\", n_classes)"
   ]
  },
  {
   "cell_type": "markdown",
   "metadata": {
    "deletable": true,
    "editable": true
   },
   "source": [
    "### Include an exploratory visualization of the dataset"
   ]
  },
  {
   "cell_type": "markdown",
   "metadata": {
    "deletable": true,
    "editable": true
   },
   "source": [
    "Visualize the German Traffic Signs Dataset using the pickled file(s). This is open ended, suggestions include: plotting traffic sign images, plotting the count of each sign, etc.\n",
    "\n",
    "The [Matplotlib](http://matplotlib.org/) [examples](http://matplotlib.org/examples/index.html) and [gallery](http://matplotlib.org/gallery.html) pages are a great resource for doing visualizations in Python.\n",
    "\n",
    "**NOTE:** It's recommended you start with something simple first. If you wish to do more, come back to it after you've completed the rest of the sections."
   ]
  },
  {
   "cell_type": "code",
   "execution_count": 31,
   "metadata": {
    "collapsed": false,
    "deletable": true,
    "editable": true
   },
   "outputs": [
    {
     "data": {
      "text/plain": [
       "<matplotlib.image.AxesImage at 0x7fc3ce14d7b8>"
      ]
     },
     "execution_count": 31,
     "metadata": {},
     "output_type": "execute_result"
    },
    {
     "data": {
      "image/png": "[encoded data removed]",
      "text/plain": [
       "<matplotlib.figure.Figure at 0x7fc3cd1f9ac8>"
      ]
     },
     "metadata": {},
     "output_type": "display_data"
    }
   ],
   "source": [
    "### Data exploration visualization code goes here.\n",
    "### Feel free to use as many code cells as needed.\n",
    "import matplotlib.pyplot as plt\n",
    "import numpy as np\n",
    "from skimage import transform\n",
    "# Visualizations will be shown in the notebook.\n",
    "%matplotlib inline\n",
    "size = 10\n",
    "img_map = {}\n",
    "for i in range(len(X_train)):\n",
    "    if (y_train[i] not in img_map) : img_map[y_train[i]] = []\n",
    "    if (len(img_map[y_train[i]]) >= size) : continue\n",
    "    img_map[y_train[i]].append(X_train[i])\n",
    "\n",
    "\n",
    "img = np.zeros((0, size * 32, 3))\n",
    "for k in img_map:\n",
    "    col = np.zeros((32,0,3))\n",
    "    for sign in img_map[k]:\n",
    "        col = np.concatenate((col, sign), axis = 1)\n",
    "    img = np.concatenate((img, col), axis = 0)\n",
    "\n",
    "plt.imshow(img)\n",
    "    "
   ]
  },
  {
   "cell_type": "markdown",
   "metadata": {
    "deletable": true,
    "editable": true
   },
   "source": [
    "----\n",
    "\n",
    "## Step 2: Design and Test a Model Architecture\n",
    "\n",
    "Design and implement a deep learning model that learns to recognize traffic signs. Train and test your model on the [German Traffic Sign Dataset](http://benchmark.ini.rub.de/?section=gtsrb&subsection=dataset).\n",
    "\n",
    "There are various aspects to consider when thinking about this problem:\n",
    "\n",
    "- Neural network architecture\n",
    "- Play around preprocessing techniques (normalization, rgb to grayscale, etc)\n",
    "- Number of examples per label (some have more than others).\n",
    "- Generate fake data.\n",
    "\n",
    "Here is an example of a [published baseline model on this problem](http://yann.lecun.com/exdb/publis/pdf/sermanet-ijcnn-11.pdf). It's not required to be familiar with the approach used in the paper but, it's good practice to try to read papers like these.\n",
    "\n",
    "**NOTE:** The LeNet-5 implementation shown in the [classroom](https://classroom.udacity.com/nanodegrees/nd013/parts/fbf77062-5703-404e-b60c-95b78b2f3f9e/modules/6df7ae49-c61c-4bb2-a23e-6527e69209ec/lessons/601ae704-1035-4287-8b11-e2c2716217ad/concepts/d4aca031-508f-4e0b-b493-e7b706120f81) at the end of the CNN lesson is a solid starting point. You'll have to change the number of classes and possibly the preprocessing, but aside from that it's plug and play!"
   ]
  },
  {
   "cell_type": "markdown",
   "metadata": {
    "deletable": true,
    "editable": true
   },
   "source": [
    "### Pre-process the Data Set (normalization, grayscale, etc.)"
   ]
  },
  {
   "cell_type": "markdown",
   "metadata": {
    "deletable": true,
    "editable": true
   },
   "source": [
    "Use the code cell (or multiple code cells, if necessary) to implement the first step of your project."
   ]
  },
  {
   "cell_type": "code",
   "execution_count": 32,
   "metadata": {
    "collapsed": false,
    "deletable": true,
    "editable": true
   },
   "outputs": [
    {
     "name": "stdout",
     "output_type": "stream",
     "text": [
      "(2000, 32, 32, 3) (500, 32, 32, 3)\n",
      "(500, 32, 32, 3) (500,)\n",
      "[[[ 121.  142.  183.]\n",
      "  [ 120.  142.  183.]\n",
      "  [ 121.  142.  183.]\n",
      "  ..., \n",
      "  [ 121.  147.  185.]\n",
      "  [ 118.  144.  182.]\n",
      "  [ 120.  144.  181.]]\n",
      "\n",
      " [[ 121.  146.  188.]\n",
      "  [ 119.  144.  185.]\n",
      "  [ 120.  142.  184.]\n",
      "  ..., \n",
      "  [ 120.  143.  182.]\n",
      "  [ 119.  143.  180.]\n",
      "  [ 119.  143.  180.]]\n",
      "\n",
      " [[ 116.  142.  182.]\n",
      "  [ 117.  142.  182.]\n",
      "  [ 120.  144.  184.]\n",
      "  ..., \n",
      "  [ 119.  143.  182.]\n",
      "  [ 120.  144.  180.]\n",
      "  [ 120.  145.  181.]]\n",
      "\n",
      " ..., \n",
      " [[  95.   82.   83.]\n",
      "  [  97.   89.   93.]\n",
      "  [  91.   90.   92.]\n",
      "  ..., \n",
      "  [ 109.  103.  104.]\n",
      "  [ 109.  105.  107.]\n",
      "  [ 109.  105.  107.]]\n",
      "\n",
      " [[ 103.   90.   85.]\n",
      "  [ 108.   98.   96.]\n",
      "  [ 104.  100.   92.]\n",
      "  ..., \n",
      "  [ 118.  110.  104.]\n",
      "  [ 116.  109.  107.]\n",
      "  [ 117.  109.  107.]]\n",
      "\n",
      " [[  96.   87.   79.]\n",
      "  [  97.   88.   83.]\n",
      "  [  89.   82.   73.]\n",
      "  ..., \n",
      "  [ 117.  107.   97.]\n",
      "  [ 106.   99.   92.]\n",
      "  [ 109.  100.   95.]]]\n"
     ]
    }
   ],
   "source": [
    "### Preprocess the data here. Preprocessing steps could include normalization, converting to grayscale, etc.\n",
    "### Feel free to use as many code cells as needed.\n",
    "from sklearn.utils import shuffle\n",
    "import cv2\n",
    "n = len(X_train)\n",
    "nv = len(X_valid)\n",
    "n = 2000\n",
    "nv = 500\n",
    "\n",
    "X_train, y_train = shuffle(X_train, y_train)\n",
    "X_valid, y_valid = shuffle(X_valid, y_valid)\n",
    "\n",
    "\n",
    "xt = np.array(X_train, dtype=np.float32)[:n]\n",
    "yt = y_train[:n]\n",
    "\n",
    "xv = np.array(X_valid, dtype=np.float32)[:nv]\n",
    "yv =  y_valid[:nv]\n",
    "\n",
    "print(xt.shape, xv.shape)\n",
    "print(xv.shape, yv.shape)\n",
    "\n",
    "print(xt[10])\n"
   ]
  },
  {
   "cell_type": "markdown",
   "metadata": {
    "deletable": true,
    "editable": true
   },
   "source": [
    "### Model Architecture"
   ]
  },
  {
   "cell_type": "code",
   "execution_count": 33,
   "metadata": {
    "collapsed": false,
    "deletable": true,
    "editable": true
   },
   "outputs": [
    {
     "name": "stdout",
     "output_type": "stream",
     "text": [
      "Tensor(\"Add_24:0\", shape=(1, 43), dtype=float32)\n"
     ]
    }
   ],
   "source": [
    "import tensorflow as tf\n",
    "### Define your architecture here.\n",
    "### Feel free to use as many code cells as needed.\n",
    "\n",
    "\n",
    "def model(x):\n",
    "    #convolutional layer #1\n",
    "    L1_w =  tf.Variable(tf.random_normal([4,4,3,60]))\n",
    "    L1_b = tf.Variable(tf.random_normal([60]))\n",
    "    conv1 = tf.nn.conv2d(x, L1_w, [1,1,1,1], 'VALID') + L1_b\n",
    "    relu1 = tf.nn.relu(conv1)\n",
    "    pool1 = tf.nn.max_pool(relu1, [1,2,2,1], [1,2,2,1], 'VALID')\n",
    "    \n",
    "        \n",
    "    L2_w = tf.Variable(tf.random_normal([4,4,60,120]))\n",
    "    L2_b = tf.Variable(tf.random_normal([120]))\n",
    "    conv2 = tf.nn.conv2d(pool1, L2_w, [1,1,1,1], 'VALID') + L2_b\n",
    "    relu2 = tf.nn.relu(conv2)\n",
    "    pool2 = tf.nn.max_pool(relu2, [1,2,2,1], [1,2,2,1], 'VALID')  \n",
    "      \n",
    "    L3_w = tf.Variable(tf.random_normal([3,3,120,240]))\n",
    "    L3_b = tf.Variable(tf.random_normal([240]))\n",
    "    conv3 = tf.nn.conv2d(pool2, L3_w, [1,1,1,1], 'VALID') + L3_b\n",
    "    relu3 = tf.nn.relu(conv3)\n",
    "    pool3 = tf.nn.max_pool(relu3, [1,2,2,1], [1,2,2,1], 'VALID') \n",
    "\n",
    "    \n",
    "    flat =tf.contrib.layers.flatten(pool3)\n",
    "\n",
    "    \n",
    "    F1_w = tf.Variable(tf.random_normal([240,120]))\n",
    "    F1_b = tf.Variable(tf.random_normal([120]))\n",
    "    \n",
    "    full1 = tf.add(tf.matmul(flat, F1_w), F1_b)\n",
    "    \n",
    "    F2_w = tf.Variable(tf.random_normal([120, 60]))\n",
    "    F2_b = tf.Variable(tf.random_normal([60]))\n",
    "    full2 = tf.add(tf.matmul(full1, F2_w), F2_b)\n",
    "    \n",
    "    \n",
    "    F3_w = tf.Variable(tf.random_normal([60, 43]))\n",
    "    F3_b = tf.Variable(tf.random_normal([43]))\n",
    "    full3 = tf.add(tf.matmul(full2, F3_w), F3_b)\n",
    "    return full3\n",
    "    \n",
    "\n",
    "\n",
    "print (model(np.array(X_train[1], dtype=np.float32).reshape(1,32,32,3)))"
   ]
  },
  {
   "cell_type": "markdown",
   "metadata": {
    "deletable": true,
    "editable": true
   },
   "source": [
    "### Train, Validate and Test the Model"
   ]
  },
  {
   "cell_type": "markdown",
   "metadata": {
    "deletable": true,
    "editable": true
   },
   "source": [
    "A validation set can be used to assess how well the model is performing. A low accuracy on the training and validation\n",
    "sets imply underfitting. A high accuracy on the training set but low accuracy on the validation set implies overfitting."
   ]
  },
  {
   "cell_type": "code",
   "execution_count": null,
   "metadata": {
    "collapsed": true,
    "deletable": true,
    "editable": true
   },
   "outputs": [],
   "source": []
  },
  {
   "cell_type": "code",
   "execution_count": 34,
   "metadata": {
    "collapsed": false,
    "deletable": true,
    "editable": true
   },
   "outputs": [],
   "source": [
    "### Train your model here.\n",
    "### Calculate and report the accuracy on the training and validation set.\n",
    "### Once a final model architecture is selected, \n",
    "### the accuracy on the test set should be calculated and reported as well.\n",
    "### Feel free to use as many code cells as needed.\n",
    "x = tf.placeholder(tf.float32, (None, 32, 32, 3), name=\"X_train\")\n",
    "y = tf.placeholder(tf.int32, (None), name=\"y_train\")\n",
    "one_hot_y = tf.one_hot(y, 43, name = 'one_hot')\n",
    "\n",
    "rate = 0.01\n",
    "logits = model(x)\n",
    "# cost and optimizer\n",
    "cross_entropy = tf.nn.softmax_cross_entropy_with_logits(logits = logits, labels = one_hot_y, name=\"entropy\")\n",
    "cost = tf.reduce_mean(cross_entropy, name=\"cost\")\n",
    "optimizer = tf.train.AdamOptimizer(learning_rate = rate, name=\"optimizer\").minimize(cost)\n",
    "\n",
    "correct_pred = tf.equal(tf.argmax(logits, 1), tf.argmax(one_hot_y, 1))\n",
    "accuracy = tf.reduce_mean(tf.cast(correct_pred, tf.float32))\n",
    "\n"
   ]
  },
  {
   "cell_type": "code",
   "execution_count": 36,
   "metadata": {
    "collapsed": false,
    "deletable": true,
    "editable": true
   },
   "outputs": [
    {
     "name": "stdout",
     "output_type": "stream",
     "text": [
      "starting...\n",
      "run...\n",
      "Epoch: 0/10\t Batch : 0/20\t loss: 896975872.0\t acc: 0.009999999776482582 0.01600000075995922\n",
      "Epoch: 0/10\t Batch : 1/20\t loss: 794677568.0\t acc: 0.0 0.004000000189989805\n",
      "Epoch: 0/10\t Batch : 2/20\t loss: 573713280.0\t acc: 0.043624162673950195 0.026000002399086952\n",
      "Epoch: 0/10\t Batch : 3/20\t loss: 512927872.0\t acc: 0.05037783086299896 0.036000002175569534\n",
      "Epoch: 0/10\t Batch : 4/20\t loss: 429660896.0\t acc: 0.032258063554763794 0.03800000250339508\n",
      "Epoch: 0/10\t Batch : 5/20\t loss: 355664128.0\t acc: 0.016806723549962044 0.01600000075995922\n",
      "Epoch: 0/10\t Batch : 6/20\t loss: 292763648.0\t acc: 0.037463974207639694 0.03200000151991844\n",
      "Epoch: 0/10\t Batch : 7/20\t loss: 226963520.0\t acc: 0.04413619264960289 0.046000003814697266\n",
      "Epoch: 0/10\t Batch : 8/20\t loss: 181882080.0\t acc: 0.06838565319776535 0.06400000303983688\n",
      "Epoch: 0/10\t Batch : 9/20\t loss: 152534176.0\t acc: 0.08879919350147247 0.085999995470047\n",
      "Epoch: 0/10\t Batch : 10/20\t loss: 139353184.0\t acc: 0.09266054630279541 0.09400000423192978\n",
      "Epoch: 0/10\t Batch : 11/20\t loss: 125238008.0\t acc: 0.08662742376327515 0.08799999952316284\n",
      "Epoch: 0/10\t Batch : 12/20\t loss: 103850680.0\t acc: 0.10636645555496216 0.06600000709295273\n",
      "Epoch: 0/10\t Batch : 13/20\t loss: 90935872.0\t acc: 0.10237923264503479 0.07000000029802322\n",
      "Epoch: 0/10\t Batch : 14/20\t loss: 84000496.0\t acc: 0.1211305558681488 0.10199999809265137\n",
      "Epoch: 0/10\t Batch : 15/20\t loss: 78718056.0\t acc: 0.13880124688148499 0.10200000554323196\n",
      "Epoch: 0/10\t Batch : 16/20\t loss: 72883056.0\t acc: 0.13182897865772247 0.10999999940395355\n",
      "Epoch: 0/10\t Batch : 17/20\t loss: 66757552.0\t acc: 0.14189569652080536 0.12200000882148743\n",
      "Epoch: 0/10\t Batch : 18/20\t loss: 62898116.0\t acc: 0.158342182636261 0.12400000542402267\n",
      "Epoch: 0/10\t Batch : 19/20\t loss: 59510512.0\t acc: 0.1731448918581009 0.12999999523162842\n",
      "Epoch: 1/10\t Batch : 0/20\t loss: 45491124.0\t acc: 0.13999998569488525 0.13600000739097595\n",
      "Epoch: 1/10\t Batch : 1/20\t loss: 43362932.0\t acc: 0.2361808866262436 0.15199999511241913\n",
      "Epoch: 1/10\t Batch : 2/20\t loss: 40775172.0\t acc: 0.224832221865654 0.156000018119812\n",
      "Epoch: 1/10\t Batch : 3/20\t loss: 39901524.0\t acc: 0.20151132345199585 0.18199999630451202\n",
      "Epoch: 1/10\t Batch : 4/20\t loss: 38129592.0\t acc: 0.2358870804309845 0.18000000715255737\n",
      "Epoch: 1/10\t Batch : 5/20\t loss: 36296536.0\t acc: 0.24369747936725616 0.1720000058412552\n",
      "Epoch: 1/10\t Batch : 6/20\t loss: 34158664.0\t acc: 0.2608069181442261 0.19199998676776886\n",
      "Epoch: 1/10\t Batch : 7/20\t loss: 31547254.0\t acc: 0.28625473380088806 0.19199998676776886\n",
      "Epoch: 1/10\t Batch : 8/20\t loss: 30158256.0\t acc: 0.29147982597351074 0.2019999921321869\n",
      "Epoch: 1/10\t Batch : 9/20\t loss: 29666464.0\t acc: 0.29162463545799255 0.18800000846385956\n",
      "Epoch: 1/10\t Batch : 10/20\t loss: 29231054.0\t acc: 0.28073394298553467 0.18000000715255737\n",
      "Epoch: 1/10\t Batch : 11/20\t loss: 27715524.0\t acc: 0.2876366674900055 0.18800000846385956\n",
      "Epoch: 1/10\t Batch : 12/20\t loss: 26238230.0\t acc: 0.29192546010017395 0.18400000035762787\n",
      "Epoch: 1/10\t Batch : 13/20\t loss: 25179342.0\t acc: 0.2927180528640747 0.1979999840259552\n",
      "Epoch: 1/10\t Batch : 14/20\t loss: 23729468.0\t acc: 0.2913862466812134 0.20999997854232788\n",
      "Epoch: 1/10\t Batch : 15/20\t loss: 23336920.0\t acc: 0.2977917790412903 0.20999999344348907\n",
      "Epoch: 1/10\t Batch : 16/20\t loss: 23076720.0\t acc: 0.2969121038913727 0.21599997580051422\n",
      "Epoch: 1/10\t Batch : 17/20\t loss: 22002772.0\t acc: 0.3011777997016907 0.21000000834465027\n",
      "Epoch: 1/10\t Batch : 18/20\t loss: 21130200.0\t acc: 0.3081827759742737 0.19599999487400055\n",
      "Epoch: 1/10\t Batch : 19/20\t loss: 20447620.0\t acc: 0.3160020112991333 0.19999998807907104\n",
      "Epoch: 2/10\t Batch : 0/20\t loss: 14825457.0\t acc: 0.3799999952316284 0.20800000429153442\n",
      "Epoch: 2/10\t Batch : 1/20\t loss: 13083472.0\t acc: 0.43718594312667847 0.21199998259544373\n",
      "Epoch: 2/10\t Batch : 2/20\t loss: 12859940.0\t acc: 0.43624162673950195 0.22600001096725464\n",
      "Epoch: 2/10\t Batch : 3/20\t loss: 12202699.0\t acc: 0.4408060312271118 0.24399998784065247\n",
      "Epoch: 2/10\t Batch : 4/20\t loss: 12007900.0\t acc: 0.4516129195690155 0.2639999985694885\n",
      "Epoch: 2/10\t Batch : 5/20\t loss: 11695598.0\t acc: 0.4621849060058594 0.25999999046325684\n",
      "Epoch: 2/10\t Batch : 6/20\t loss: 12022045.0\t acc: 0.4582132399082184 0.2580000162124634\n",
      "Epoch: 2/10\t Batch : 7/20\t loss: 11764390.0\t acc: 0.4514501988887787 0.2679999768733978\n",
      "Epoch: 2/10\t Batch : 8/20\t loss: 11794578.0\t acc: 0.44955164194107056 0.27399998903274536\n",
      "Epoch: 2/10\t Batch : 9/20\t loss: 12086097.0\t acc: 0.4419777989387512 0.265999972820282\n",
      "Epoch: 2/10\t Batch : 10/20\t loss: 12196628.0\t acc: 0.4403669834136963 0.25999999046325684\n",
      "Epoch: 2/10\t Batch : 11/20\t loss: 11965046.0\t acc: 0.44154754281044006 0.26600000262260437\n",
      "Epoch: 2/10\t Batch : 12/20\t loss: 11680177.0\t acc: 0.44720497727394104 0.26999998092651367\n",
      "Epoch: 2/10\t Batch : 13/20\t loss: 11539142.0\t acc: 0.44772887229919434 0.2719999849796295\n",
      "Epoch: 2/10\t Batch : 14/20\t loss: 11013330.0\t acc: 0.4502018690109253 0.26999998092651367\n",
      "Epoch: 2/10\t Batch : 15/20\t loss: 11058839.0\t acc: 0.4517350196838379 0.2759999930858612\n",
      "Epoch: 2/10\t Batch : 16/20\t loss: 11095677.0\t acc: 0.44893115758895874 0.28200000524520874\n",
      "Epoch: 2/10\t Batch : 17/20\t loss: 10691895.0\t acc: 0.44643861055374146 0.2760000228881836\n",
      "Epoch: 2/10\t Batch : 18/20\t loss: 10612467.0\t acc: 0.45164716243743896 0.2720000147819519\n",
      "Epoch: 2/10\t Batch : 19/20\t loss: 10420458.0\t acc: 0.45734477043151855 0.2639999985694885\n",
      "Epoch: 3/10\t Batch : 0/20\t loss: 3576380.75\t acc: 0.6899999380111694 0.27000001072883606\n",
      "Epoch: 3/10\t Batch : 1/20\t loss: 3550617.75\t acc: 0.6733667850494385 0.2800000011920929\n",
      "Epoch: 3/10\t Batch : 2/20\t loss: 4131886.25\t acc: 0.6308726072311401 0.2879999876022339\n",
      "Epoch: 3/10\t Batch : 3/20\t loss: 4069117.25\t acc: 0.6498740315437317 0.2919999957084656\n",
      "Epoch: 3/10\t Batch : 4/20\t loss: 4219804.5\t acc: 0.6693547964096069 0.3019999861717224\n",
      "Epoch: 3/10\t Batch : 5/20\t loss: 4355414.5\t acc: 0.6571428775787354 0.30400002002716064\n",
      "Epoch: 3/10\t Batch : 6/20\t loss: 4508918.0\t acc: 0.6498558521270752 0.31200000643730164\n",
      "Epoch: 3/10\t Batch : 7/20\t loss: 4596320.5\t acc: 0.633039116859436 0.3199999928474426\n",
      "Epoch: 3/10\t Batch : 8/20\t loss: 4899362.5\t acc: 0.6143497824668884 0.32999998331069946\n",
      "Epoch: 3/10\t Batch : 9/20\t loss: 5139051.5\t acc: 0.6054490804672241 0.33799999952316284\n",
      "Epoch: 3/10\t Batch : 10/20\t loss: 5284617.0\t acc: 0.6100916862487793 0.33399999141693115\n",
      "Epoch: 3/10\t Batch : 11/20\t loss: 5322538.0\t acc: 0.6131201982498169 0.3440000116825104\n",
      "Epoch: 3/10\t Batch : 12/20\t loss: 5380508.5\t acc: 0.6203415989875793 0.35199999809265137\n",
      "Epoch: 3/10\t Batch : 13/20\t loss: 5571743.0\t acc: 0.6135544180870056 0.35999998450279236\n",
      "Epoch: 3/10\t Batch : 14/20\t loss: 5366588.0\t acc: 0.6117092967033386 0.3699999749660492\n",
      "Epoch: 3/10\t Batch : 15/20\t loss: 5538328.0\t acc: 0.605678141117096 0.36800000071525574\n",
      "Epoch: 3/10\t Batch : 16/20\t loss: 5726772.5\t acc: 0.6015439629554749 0.3660000264644623\n",
      "Epoch: 3/10\t Batch : 17/20\t loss: 5647216.0\t acc: 0.6017947793006897 0.3620000183582306\n",
      "Epoch: 3/10\t Batch : 18/20\t loss: 5818418.0\t acc: 0.5977683067321777 0.3620000183582306\n",
      "Epoch: 3/10\t Batch : 19/20\t loss: 5766679.0\t acc: 0.5991923809051514 0.3620000183582306\n",
      "Epoch: 4/10\t Batch : 0/20\t loss: 1422570.875\t acc: 0.8299999833106995 0.36400002241134644\n",
      "Epoch: 4/10\t Batch : 1/20\t loss: 1391599.375\t acc: 0.839195966720581 0.35600000619888306\n",
      "Epoch: 4/10\t Batch : 2/20\t loss: 1404732.0\t acc: 0.8087248802185059 0.3580000102519989\n",
      "Epoch: 4/10\t Batch : 3/20\t loss: 1334950.25\t acc: 0.826196551322937 0.36800000071525574\n",
      "Epoch: 4/10\t Batch : 4/20\t loss: 1615152.0\t acc: 0.8245968222618103 0.36399999260902405\n",
      "Epoch: 4/10\t Batch : 5/20\t loss: 1802559.5\t acc: 0.7966386675834656 0.3760000169277191\n",
      "Epoch: 4/10\t Batch : 6/20\t loss: 1815907.25\t acc: 0.7867435216903687 0.3800000250339508\n",
      "Epoch: 4/10\t Batch : 7/20\t loss: 1903370.75\t acc: 0.7742748856544495 0.38999998569488525\n",
      "Epoch: 4/10\t Batch : 8/20\t loss: 2148422.0\t acc: 0.7612108588218689 0.39400002360343933\n",
      "Epoch: 4/10\t Batch : 9/20\t loss: 2307209.25\t acc: 0.7537840604782104 0.3920000195503235\n",
      "Epoch: 4/10\t Batch : 10/20\t loss: 2409368.75\t acc: 0.7467889785766602 0.3840000331401825\n",
      "Epoch: 4/10\t Batch : 11/20\t loss: 2424768.25\t acc: 0.7451640367507935 0.3880000114440918\n",
      "Epoch: 4/10\t Batch : 12/20\t loss: 2493007.5\t acc: 0.7430124878883362 0.3919999897480011\n",
      "Epoch: 4/10\t Batch : 13/20\t loss: 2691605.5\t acc: 0.7339581251144409 0.3959999978542328\n",
      "Epoch: 4/10\t Batch : 14/20\t loss: 2652754.25\t acc: 0.7294750213623047 0.3919999897480011\n",
      "Epoch: 4/10\t Batch : 15/20\t loss: 2851077.5\t acc: 0.7223973870277405 0.3960000276565552\n",
      "Epoch: 4/10\t Batch : 16/20\t loss: 3156033.25\t acc: 0.720902681350708 0.39399999380111694\n",
      "Epoch: 4/10\t Batch : 17/20\t loss: 3185199.5\t acc: 0.7077958583831787 0.4020000100135803\n",
      "Epoch: 4/10\t Batch : 18/20\t loss: 3435028.5\t acc: 0.6923484802246094 0.40400001406669617\n",
      "Epoch: 4/10\t Batch : 19/20\t loss: 3552551.5\t acc: 0.692074716091156 0.4059999883174896\n",
      "Epoch: 5/10\t Batch : 0/20\t loss: 558940.125\t acc: 0.8899999856948853 0.41200003027915955\n",
      "Epoch: 5/10\t Batch : 1/20\t loss: 660343.6875\t acc: 0.8944723606109619 0.4180000126361847\n",
      "Epoch: 5/10\t Batch : 2/20\t loss: 514928.75\t acc: 0.889261782169342 0.41999998688697815\n",
      "Epoch: 5/10\t Batch : 3/20\t loss: 445612.8125\t acc: 0.9068011045455933 0.41200000047683716\n",
      "Epoch: 5/10\t Batch : 4/20\t loss: 695152.6875\t acc: 0.9112902879714966 0.421999990940094\n",
      "Epoch: 5/10\t Batch : 5/20\t loss: 783455.625\t acc: 0.8941176533699036 0.4179999828338623\n",
      "Epoch: 5/10\t Batch : 6/20\t loss: 791785.5625\t acc: 0.878962516784668 0.4100000262260437\n",
      "Epoch: 5/10\t Batch : 7/20\t loss: 852258.375\t acc: 0.8789408206939697 0.40799999237060547\n",
      "Epoch: 5/10\t Batch : 8/20\t loss: 980182.875\t acc: 0.8632286787033081 0.4020000100135803\n",
      "Epoch: 5/10\t Batch : 9/20\t loss: 1153432.25\t acc: 0.8446013331413269 0.4020000100135803\n",
      "Epoch: 5/10\t Batch : 10/20\t loss: 1223472.5\t acc: 0.8339450359344482 0.406000018119812\n",
      "Epoch: 5/10\t Batch : 11/20\t loss: 1214712.75\t acc: 0.8334735035896301 0.4059999883174896\n",
      "Epoch: 5/10\t Batch : 12/20\t loss: 1253986.0\t acc: 0.8299689292907715 0.406000018119812\n",
      "Epoch: 5/10\t Batch : 13/20\t loss: 1388789.625\t acc: 0.8204758167266846 0.4020000100135803\n",
      "Epoch: 5/10\t Batch : 14/20\t loss: 1407253.0\t acc: 0.8169583082199097 0.40000003576278687\n",
      "Epoch: 5/10\t Batch : 15/20\t loss: 1592953.875\t acc: 0.7993690371513367 0.4020000100135803\n",
      "Epoch: 5/10\t Batch : 16/20\t loss: 1872675.0\t acc: 0.7891924381256104 0.414000004529953\n",
      "Epoch: 5/10\t Batch : 17/20\t loss: 1947133.0\t acc: 0.7840718030929565 0.421999990940094\n",
      "Epoch: 5/10\t Batch : 18/20\t loss: 2201679.5\t acc: 0.7741763591766357 0.4179999828338623\n",
      "Epoch: 5/10\t Batch : 19/20\t loss: 2351614.25\t acc: 0.7647652626037598 0.41600000858306885\n",
      "Epoch: 6/10\t Batch : 0/20\t loss: 71087.078125\t acc: 0.9500000476837158 0.414000004529953\n",
      "Epoch: 6/10\t Batch : 1/20\t loss: 330811.71875\t acc: 0.929648220539093 0.4259999692440033\n",
      "Epoch: 6/10\t Batch : 2/20\t loss: 258339.546875\t acc: 0.9194631576538086 0.42000001668930054\n",
      "Epoch: 6/10\t Batch : 3/20\t loss: 206957.03125\t acc: 0.9445844888687134 0.42399999499320984\n",
      "Epoch: 6/10\t Batch : 4/20\t loss: 391477.90625\t acc: 0.9294354915618896 0.42800000309944153\n",
      "Epoch: 6/10\t Batch : 5/20\t loss: 436464.125\t acc: 0.9109243750572205 0.43800002336502075\n",
      "Epoch: 6/10\t Batch : 6/20\t loss: 422517.0\t acc: 0.9149855971336365 0.4360000193119049\n",
      "Epoch: 6/10\t Batch : 7/20\t loss: 440838.4375\t acc: 0.9117276072502136 0.43199998140335083\n",
      "Epoch: 6/10\t Batch : 8/20\t loss: 483553.5\t acc: 0.8968610763549805 0.43199998140335083\n",
      "Epoch: 6/10\t Batch : 9/20\t loss: 528755.1875\t acc: 0.8950555324554443 0.42800000309944153\n",
      "Epoch: 6/10\t Batch : 10/20\t loss: 585959.75\t acc: 0.8935779333114624 0.42799997329711914\n",
      "Epoch: 6/10\t Batch : 11/20\t loss: 591823.1875\t acc: 0.8856180906295776 0.4259999692440033\n",
      "Epoch: 6/10\t Batch : 12/20\t loss: 661240.375\t acc: 0.8742235898971558 0.4399999976158142\n",
      "Epoch: 6/10\t Batch : 13/20\t loss: 743376.5625\t acc: 0.860129714012146 0.4440000057220459\n",
      "Epoch: 6/10\t Batch : 14/20\t loss: 792260.8125\t acc: 0.853970468044281 0.4440000057220459\n",
      "Epoch: 6/10\t Batch : 15/20\t loss: 936840.4375\t acc: 0.8548895716667175 0.4480000436306\n",
      "Epoch: 6/10\t Batch : 16/20\t loss: 1130832.875\t acc: 0.845605731010437 0.44999998807907104\n",
      "Epoch: 6/10\t Batch : 17/20\t loss: 1211018.625\t acc: 0.8390353322029114 0.4400000274181366\n",
      "Epoch: 6/10\t Batch : 18/20\t loss: 1442081.5\t acc: 0.824123203754425 0.4440000057220459\n",
      "Epoch: 6/10\t Batch : 19/20\t loss: 1587752.75\t acc: 0.8142351508140564 0.44600000977516174\n",
      "Epoch: 7/10\t Batch : 0/20\t loss: 25397.33984375\t acc: 0.9700000286102295 0.4519999623298645\n",
      "Epoch: 7/10\t Batch : 1/20\t loss: 149416.359375\t acc: 0.969849169254303 0.46399998664855957\n",
      "Epoch: 7/10\t Batch : 2/20\t loss: 95202.640625\t acc: 0.9731543064117432 0.4619999825954437\n",
      "Epoch: 7/10\t Batch : 3/20\t loss: 79597.8203125\t acc: 0.9722923040390015 0.4659999907016754\n",
      "Epoch: 7/10\t Batch : 4/20\t loss: 135112.21875\t acc: 0.9596774578094482 0.4659999907016754\n",
      "Epoch: 7/10\t Batch : 5/20\t loss: 156544.890625\t acc: 0.9478991627693176 0.46399998664855957\n",
      "Epoch: 7/10\t Batch : 6/20\t loss: 162599.5\t acc: 0.9524495005607605 0.4620000123977661\n",
      "Epoch: 7/10\t Batch : 7/20\t loss: 180706.703125\t acc: 0.94577556848526 0.4519999921321869\n",
      "Epoch: 7/10\t Batch : 8/20\t loss: 203842.125\t acc: 0.9360986948013306 0.46000000834465027\n",
      "Epoch: 7/10\t Batch : 9/20\t loss: 222272.90625\t acc: 0.9273461103439331 0.45799997448921204\n",
      "Epoch: 7/10\t Batch : 10/20\t loss: 274862.90625\t acc: 0.9220184087753296 0.4560000002384186\n",
      "Epoch: 7/10\t Batch : 11/20\t loss: 275520.4375\t acc: 0.9217830300331116 0.44999998807907104\n",
      "Epoch: 7/10\t Batch : 12/20\t loss: 351026.90625\t acc: 0.9145963191986084 0.4479999840259552\n",
      "Epoch: 7/10\t Batch : 13/20\t loss: 398487.40625\t acc: 0.9098774194717407 0.4519999921321869\n",
      "Epoch: 7/10\t Batch : 14/20\t loss: 456952.375\t acc: 0.8977118730545044 0.4520000219345093\n",
      "Epoch: 7/10\t Batch : 15/20\t loss: 592214.1875\t acc: 0.8864352703094482 0.4520000219345093\n",
      "Epoch: 7/10\t Batch : 16/20\t loss: 715926.0\t acc: 0.87885981798172 0.45799997448921204\n",
      "Epoch: 7/10\t Batch : 17/20\t loss: 786699.3125\t acc: 0.867638885974884 0.4560000002384186\n",
      "Epoch: 7/10\t Batch : 18/20\t loss: 977321.75\t acc: 0.8554729223251343 0.4559999704360962\n",
      "Epoch: 7/10\t Batch : 19/20\t loss: 1131227.25\t acc: 0.8455325365066528 0.4520000219345093\n",
      "Epoch: 8/10\t Batch : 0/20\t loss: 5569.1201171875\t acc: 0.9800000190734863 0.4480000138282776\n",
      "Epoch: 8/10\t Batch : 1/20\t loss: 48434.5078125\t acc: 0.9748743176460266 0.4519999921321869\n",
      "Epoch: 8/10\t Batch : 2/20\t loss: 37609.46875\t acc: 0.9630872011184692 0.4540000259876251\n",
      "Epoch: 8/10\t Batch : 3/20\t loss: 30113.03515625\t acc: 0.9798488616943359 0.45399999618530273\n",
      "Epoch: 8/10\t Batch : 4/20\t loss: 48788.3359375\t acc: 0.9798387289047241 0.4540000259876251\n",
      "Epoch: 8/10\t Batch : 5/20\t loss: 79909.46875\t acc: 0.9764705896377563 0.44999998807907104\n",
      "Epoch: 8/10\t Batch : 6/20\t loss: 85721.9609375\t acc: 0.9726224541664124 0.44999998807907104\n",
      "Epoch: 8/10\t Batch : 7/20\t loss: 100858.8046875\t acc: 0.959646999835968 0.44599997997283936\n",
      "Epoch: 8/10\t Batch : 8/20\t loss: 101455.65625\t acc: 0.9607623815536499 0.44999998807907104\n",
      "Epoch: 8/10\t Batch : 9/20\t loss: 106603.4921875\t acc: 0.9576185941696167 0.4479999542236328\n",
      "Epoch: 8/10\t Batch : 10/20\t loss: 169057.6875\t acc: 0.9504587650299072 0.4580000042915344\n",
      "Epoch: 8/10\t Batch : 11/20\t loss: 170898.828125\t acc: 0.9512195587158203 0.4559999704360962\n",
      "Epoch: 8/10\t Batch : 12/20\t loss: 224952.609375\t acc: 0.9464285969734192 0.4580000042915344\n",
      "Epoch: 8/10\t Batch : 13/20\t loss: 257774.34375\t acc: 0.9358327388763428 0.4580000042915344\n",
      "Epoch: 8/10\t Batch : 14/20\t loss: 294114.0\t acc: 0.9279946684837341 0.4580000042915344\n",
      "Epoch: 8/10\t Batch : 15/20\t loss: 381771.53125\t acc: 0.9179810285568237 0.46000000834465027\n",
      "Epoch: 8/10\t Batch : 16/20\t loss: 456536.4375\t acc: 0.9079572558403015 0.4560000002384186\n",
      "Epoch: 8/10\t Batch : 17/20\t loss: 522748.1875\t acc: 0.8990465402603149 0.4520000219345093\n",
      "Epoch: 8/10\t Batch : 18/20\t loss: 680279.375\t acc: 0.887353777885437 0.4520000219345093\n",
      "Epoch: 8/10\t Batch : 19/20\t loss: 843441.5\t acc: 0.8758202195167542 0.4520000219345093\n",
      "Epoch: 9/10\t Batch : 0/20\t loss: 0.0\t acc: 1.0 0.45399999618530273\n",
      "Epoch: 9/10\t Batch : 1/20\t loss: 32015.130859375\t acc: 0.9798994660377502 0.4560000002384186\n",
      "Epoch: 9/10\t Batch : 2/20\t loss: 46831.76953125\t acc: 0.9664430022239685 0.4599999785423279\n",
      "Epoch: 9/10\t Batch : 3/20\t loss: 36327.59765625\t acc: 0.9722923040390015 0.4519999921321869\n",
      "Epoch: 9/10\t Batch : 4/20\t loss: 38831.765625\t acc: 0.975806474685669 0.4360000193119049\n",
      "Epoch: 9/10\t Batch : 5/20\t loss: 71439.3203125\t acc: 0.9630252122879028 0.44200003147125244\n",
      "Epoch: 9/10\t Batch : 6/20\t loss: 81752.8984375\t acc: 0.9654178023338318 0.4520000219345093\n",
      "Epoch: 9/10\t Batch : 7/20\t loss: 85241.6875\t acc: 0.9495586156845093 0.45399999618530273\n",
      "Epoch: 9/10\t Batch : 8/20\t loss: 77700.0546875\t acc: 0.9473093748092651 0.4519999623298645\n",
      "Epoch: 9/10\t Batch : 9/20\t loss: 72453.234375\t acc: 0.9424824118614197 0.4580000042915344\n",
      "Epoch: 9/10\t Batch : 10/20\t loss: 114722.125\t acc: 0.9440367221832275 0.46799999475479126\n",
      "Epoch: 9/10\t Batch : 11/20\t loss: 114934.171875\t acc: 0.9529016017913818 0.46799999475479126\n",
      "Epoch: 9/10\t Batch : 12/20\t loss: 160464.0625\t acc: 0.9526396989822388 0.4739999771118164\n",
      "Epoch: 9/10\t Batch : 13/20\t loss: 187339.40625\t acc: 0.9444844722747803 0.4699999690055847\n",
      "Epoch: 9/10\t Batch : 14/20\t loss: 219774.0625\t acc: 0.9340511560440063 0.4620000123977661\n",
      "Epoch: 9/10\t Batch : 15/20\t loss: 297915.4375\t acc: 0.916088342666626 0.4620000123977661\n",
      "Epoch: 9/10\t Batch : 16/20\t loss: 334123.5\t acc: 0.9144893288612366 0.4580000042915344\n",
      "Epoch: 9/10\t Batch : 17/20\t loss: 377010.59375\t acc: 0.9164330363273621 0.45399999618530273\n",
      "Epoch: 9/10\t Batch : 18/20\t loss: 504907.0625\t acc: 0.9080764651298523 0.4599999785423279\n",
      "Epoch: 9/10\t Batch : 19/20\t loss: 644265.1875\t acc: 0.8944976925849915 0.4599999785423279\n",
      "OK, saved.\n"
     ]
    },
    {
     "data": {
      "text/plain": [
       "[<matplotlib.lines.Line2D at 0x7fc3cbd9c0b8>]"
      ]
     },
     "execution_count": 36,
     "metadata": {},
     "output_type": "execute_result"
    },
    {
     "data": {
      "image/png": "[encoded data removed]",
      "text/plain": [
       "<matplotlib.figure.Figure at 0x7fc3cbd9c048>"
      ]
     },
     "metadata": {},
     "output_type": "display_data"
    }
   ],
   "source": [
    "saver = tf.train.Saver()\n",
    "init = tf.global_variables_initializer()\n",
    "print ('starting...')\n",
    "batch_size = 100\n",
    "batch_numbers = int(len(xt)/batch_size)\n",
    "epochs = 10\n",
    "a_b = []\n",
    "a_v = []\n",
    "with tf.Session() as sess:\n",
    "    print('run...')\n",
    "    sess.run(init)\n",
    "    for e in range(epochs):\n",
    "        for n in range(batch_numbers):\n",
    "            x_batch, y_batch = xt[n:(n+1) * batch_size], yt[n:(n+1) * batch_size]\n",
    "\n",
    "            sess.run(optimizer, feed_dict = {x : x_batch, y : y_batch})\n",
    "\n",
    "            loss = sess.run(cost, feed_dict = {x : x_batch, y : y_batch})\n",
    "\n",
    "            batch_acc = sess.run(accuracy, feed_dict = {x : x_batch, y : y_batch})\n",
    "            valid_acc = sess.run(accuracy, feed_dict = {x : xv, y : yv})\n",
    "            print (\"Epoch: {}/{}\\t Batch : {}/{}\\t loss: {}\\t acc: {} {}\".format(e, epochs, n, batch_numbers, loss, batch_acc, valid_acc))\n",
    "            a_b.append(batch_acc)\n",
    "            a_v.append(valid_acc)\n",
    "\n",
    "    saver.save(sess, \"./trained_model\")\n",
    "    print('OK, saved.')\n",
    "    \n",
    "plt.plot(a_b)\n",
    "plt.plot(a_v)"
   ]
  },
  {
   "cell_type": "markdown",
   "metadata": {
    "deletable": true,
    "editable": true
   },
   "source": [
    "---\n",
    "\n",
    "## Step 3: Test a Model on New Images\n",
    "\n",
    "To give yourself more insight into how your model is working, download at least five pictures of German traffic signs from the web and use your model to predict the traffic sign type.\n",
    "\n",
    "You may find `signnames.csv` useful as it contains mappings from the class id (integer) to the actual sign name."
   ]
  },
  {
   "cell_type": "markdown",
   "metadata": {
    "deletable": true,
    "editable": true
   },
   "source": [
    "### Load and Output the Images"
   ]
  },
  {
   "cell_type": "code",
   "execution_count": 59,
   "metadata": {
    "collapsed": false,
    "deletable": true,
    "editable": true
   },
   "outputs": [],
   "source": [
    "from scipy.misc import imread, imresize\n",
    "import csv\n",
    "import os\n",
    "\n",
    "#the csv\n",
    "sign_names = []\n",
    "with open('./signnames.csv') as f:\n",
    "    c = csv.reader(f)\n",
    "    for row in c:\n",
    "        sign_names.append(row[1])\n",
    "   \n",
    "#loading some images\n",
    "\n",
    "imglist = []\n",
    "TEST_DIR = './test_images/'\n",
    "for imfile in os.listdir(TEST_DIR):\n",
    "    i = imresize(imread(TEST_DIR + imfile), (32,32))\n",
    "    imglist.append(i)\n",
    "\n",
    "imglist = np.array(imglist, dtype=np.float32)\n",
    "\n",
    "\n"
   ]
  },
  {
   "cell_type": "markdown",
   "metadata": {
    "deletable": true,
    "editable": true
   },
   "source": [
    "### Predict the Sign Type for Each Image"
   ]
  },
  {
   "cell_type": "code",
   "execution_count": 60,
   "metadata": {
    "collapsed": false,
    "deletable": true,
    "editable": true
   },
   "outputs": [
    {
     "name": "stdout",
     "output_type": "stream",
     "text": [
      "model restored.\n",
      "----------------------\n",
      "\n",
      "1 Bicycles crossing\n",
      "2 Speed limit (20km/h)\n",
      "3 Bumpy road\n",
      "4 Bicycles crossing\n",
      "5 Right-of-way at the next intersection\n",
      "6 Bicycles crossing\n",
      "7 Speed limit (20km/h)\n"
     ]
    },
    {
     "data": {
      "image/png": "[encoded data removed]",
      "text/plain": [
       "<matplotlib.figure.Figure at 0x7fc3f0fe1358>"
      ]
     },
     "metadata": {},
     "output_type": "display_data"
    }
   ],
   "source": [
    "### Run the predictions here and use the model to output the prediction for each image.\n",
    "### Make sure to pre-process the images with the same pre-processing pipeline used earlier.\n",
    "### Feel free to use as many code cells as needed.\n",
    "#loading the saved model\n",
    "saver = tf.train.Saver()\n",
    "%matplotlib inline\n",
    "\n",
    "softmax = tf.nn.softmax(logits)\n",
    "index = tf.argmax(softmax, axis = 1)\n",
    "with tf.Session() as session:\n",
    "    saver.restore(session, \"./trained_model\")\n",
    "    print (\"model restored.\\n----------------------\\n\")\n",
    "    img_predictions = session.run(index, feed_dict = {x : imglist})\n",
    "    \n",
    "l = len(imglist)\n",
    "\n",
    "for i, pred in enumerate(img_predictions):\n",
    "    plt.subplot(1,l,i+1)\n",
    "    plt.imshow(imglist[i])\n",
    "    print (i+1, sign_names[pred])\n",
    "\n",
    "### Load the images and plot them here.\n",
    "### Feel free to use as many code cells as needed."
   ]
  },
  {
   "cell_type": "markdown",
   "metadata": {
    "deletable": true,
    "editable": true
   },
   "source": [
    "### Analyze Performance"
   ]
  },
  {
   "cell_type": "code",
   "execution_count": 61,
   "metadata": {
    "collapsed": false,
    "deletable": true,
    "editable": true
   },
   "outputs": [
    {
     "name": "stdout",
     "output_type": "stream",
     "text": [
      "Accuracy on validation data: 0.46167802810668945\n"
     ]
    }
   ],
   "source": [
    "### Calculate the accuracy for these 5 new images. \n",
    "### For example, if the model predicted 1 out of 5 signs correctly, it's 20% accurate on these new images.\n",
    "\n",
    "\n",
    "# Instead of this, i'm doing a full test on the validation data.\n",
    "# After this, I do anouther test on testing data, BUT ONLY after i have the final model.\n",
    "\n",
    "\n",
    "with tf.Session() as session:\n",
    "    saver.restore(session, './trained_model')\n",
    "    acc = session.run(accuracy, feed_dict={x : X_valid, y : y_valid})\n",
    "    print('Accuracy on validation data: {}'.format(acc))\n",
    "    #acc_t = acc = session.run(accuracy, feed_dict={x : X_test, y : y_test})\n",
    "    #print('Accuracy on test data: {}'.format(acc_t))"
   ]
  },
  {
   "cell_type": "markdown",
   "metadata": {
    "deletable": true,
    "editable": true
   },
   "source": [
    "### Output Top 5 Softmax Probabilities For Each Image Found on the Web"
   ]
  },
  {
   "cell_type": "markdown",
   "metadata": {
    "deletable": true,
    "editable": true
   },
   "source": [
    "For each of the new images, print out the model's softmax probabilities to show the **certainty** of the model's predictions (limit the output to the top 5 probabilities for each image). [`tf.nn.top_k`](https://www.tensorflow.org/versions/r0.12/api_docs/python/nn.html#top_k) could prove helpful here. \n",
    "\n",
    "The example below demonstrates how tf.nn.top_k can be used to find the top k predictions for each image.\n",
    "\n",
    "`tf.nn.top_k` will return the values and indices (class ids) of the top k predictions. So if k=3, for each sign, it'll return the 3 largest probabilities (out of a possible 43) and the correspoding class ids.\n",
    "\n",
    "Take this numpy array as an example. The values in the array represent predictions. The array contains softmax probabilities for five candidate images with six possible classes. `tk.nn.top_k` is used to choose the three classes with the highest probability:\n",
    "\n",
    "```\n",
    "# (5, 6) array\n",
    "a = np.array([[ 0.24879643,  0.07032244,  0.12641572,  0.34763842,  0.07893497,\n",
    "         0.12789202],\n",
    "       [ 0.28086119,  0.27569815,  0.08594638,  0.0178669 ,  0.18063401,\n",
    "         0.15899337],\n",
    "       [ 0.26076848,  0.23664738,  0.08020603,  0.07001922,  0.1134371 ,\n",
    "         0.23892179],\n",
    "       [ 0.11943333,  0.29198961,  0.02605103,  0.26234032,  0.1351348 ,\n",
    "         0.16505091],\n",
    "       [ 0.09561176,  0.34396535,  0.0643941 ,  0.16240774,  0.24206137,\n",
    "         0.09155967]])\n",
    "```\n",
    "\n",
    "Running it through `sess.run(tf.nn.top_k(tf.constant(a), k=3))` produces:\n",
    "\n",
    "```\n",
    "TopKV2(values=array([[ 0.34763842,  0.24879643,  0.12789202],\n",
    "       [ 0.28086119,  0.27569815,  0.18063401],\n",
    "       [ 0.26076848,  0.23892179,  0.23664738],\n",
    "       [ 0.29198961,  0.26234032,  0.16505091],\n",
    "       [ 0.34396535,  0.24206137,  0.16240774]]), indices=array([[3, 0, 5],\n",
    "       [0, 1, 4],\n",
    "       [0, 5, 1],\n",
    "       [1, 3, 5],\n",
    "       [1, 4, 3]], dtype=int32))\n",
    "```\n",
    "\n",
    "Looking just at the first row we get `[ 0.34763842,  0.24879643,  0.12789202]`, you can confirm these are the 3 largest probabilities in `a`. You'll also notice `[3, 0, 5]` are the corresponding indices."
   ]
  },
  {
   "cell_type": "code",
   "execution_count": 62,
   "metadata": {
    "collapsed": false,
    "deletable": true,
    "editable": true
   },
   "outputs": [
    {
     "name": "stdout",
     "output_type": "stream",
     "text": [
      "model restored.\n",
      "----------------------\n",
      "\n",
      "[30  1 23 30 12 30  1]\n",
      "TopKV2(values=array([[  2.43000464e+08,   2.39557296e+08,   1.93631056e+08],\n",
      "       [  1.53487472e+08,   1.32604168e+08,   1.28782248e+08],\n",
      "       [  8.52466960e+07,   8.01360880e+07,   8.01204640e+07],\n",
      "       [  1.57512192e+08,   1.04791400e+08,   9.17718880e+07],\n",
      "       [  1.74523760e+08,   1.63577968e+08,   1.28730040e+08],\n",
      "       [  2.43000464e+08,   2.39557296e+08,   1.93631056e+08],\n",
      "       [  1.77524256e+08,   1.28639808e+08,   9.95818560e+07]], dtype=float32), indices=array([[30, 26, 27],\n",
      "       [ 1, 23, 17],\n",
      "       [23,  2, 20],\n",
      "       [30, 14, 40],\n",
      "       [12, 10, 26],\n",
      "       [30, 26, 27],\n",
      "       [ 1, 23, 25]], dtype=int32))\n",
      "1    Bicycles crossing ,   Road work ,   Traffic signals ,   \n",
      "2    Speed limit (20km/h) ,   Bumpy road ,   Vehicles over 3.5 metric tons prohibited ,   \n",
      "3    Bumpy road ,   Speed limit (30km/h) ,   Dangerous curve to the left ,   \n",
      "4    Bicycles crossing ,   Yield ,   Keep left ,   \n",
      "5    Right-of-way at the next intersection ,   No passing ,   Road work ,   \n",
      "6    Bicycles crossing ,   Road work ,   Traffic signals ,   \n",
      "7    Speed limit (20km/h) ,   Bumpy road ,   Road narrows on the right ,   \n"
     ]
    },
    {
     "data": {
      "image/png": "[encoded data removed]",
      "text/plain": [
       "<matplotlib.figure.Figure at 0x7fc40bf78a90>"
      ]
     },
     "metadata": {},
     "output_type": "display_data"
    }
   ],
   "source": [
    "### Print out the top five softmax probabilities for the predictions on the German traffic sign images found on the web. \n",
    "### Feel free to use as many code cells as needed.\n",
    "top_k = tf.nn.top_k(logits, k=3)\n",
    "with tf.Session() as session:\n",
    "    saver.restore(session, \"./trained_model\")\n",
    "    print (\"model restored.\\n----------------------\\n\")\n",
    "    top_pred = session.run(top_k, feed_dict = {x : imglist})\n",
    "\n",
    "print(img_predictions)\n",
    "print(top_pred)\n",
    "\n",
    "l = len(imglist)\n",
    "\n",
    "for i, top_preds in enumerate(top_pred[1]):\n",
    "    plt.subplot(1,l,i+1)\n",
    "    plt.imshow(imglist[i])\n",
    "    print(i+1,'   ',end='')\n",
    "    for pred in top_preds:\n",
    "        print (sign_names[pred], ',   ', end='')\n",
    "    print('')"
   ]
  },
  {
   "cell_type": "markdown",
   "metadata": {
    "deletable": true,
    "editable": true
   },
   "source": [
    "---\n",
    "\n",
    "## Step 4: Visualize the Neural Network's State with Test Images\n",
    "\n",
    " This Section is not required to complete but acts as an additional excersise for understaning the output of a neural network's weights. While neural networks can be a great learning device they are often referred to as a black box. We can understand what the weights of a neural network look like better by plotting their feature maps. After successfully training your neural network you can see what it's feature maps look like by plotting the output of the network's weight layers in response to a test stimuli image. From these plotted feature maps, it's possible to see what characteristics of an image the network finds interesting. For a sign, maybe the inner network feature maps react with high activation to the sign's boundary outline or to the contrast in the sign's painted symbol.\n",
    "\n",
    " Provided for you below is the function code that allows you to get the visualization output of any tensorflow weight layer you want. The inputs to the function should be a stimuli image, one used during training or a new one you provided, and then the tensorflow variable name that represents the layer's state during the training process, for instance if you wanted to see what the [LeNet lab's](https://classroom.udacity.com/nanodegrees/nd013/parts/fbf77062-5703-404e-b60c-95b78b2f3f9e/modules/6df7ae49-c61c-4bb2-a23e-6527e69209ec/lessons/601ae704-1035-4287-8b11-e2c2716217ad/concepts/d4aca031-508f-4e0b-b493-e7b706120f81) feature maps looked like for it's second convolutional layer you could enter conv2 as the tf_activation variable.\n",
    "\n",
    "For an example of what feature map outputs look like, check out NVIDIA's results in their paper [End-to-End Deep Learning for Self-Driving Cars](https://devblogs.nvidia.com/parallelforall/deep-learning-self-driving-cars/) in the section Visualization of internal CNN State. NVIDIA was able to show that their network's inner weights had high activations to road boundary lines by comparing feature maps from an image with a clear path to one without. Try experimenting with a similar test to show that your trained network's weights are looking for interesting features, whether it's looking at differences in feature maps from images with or without a sign, or even what feature maps look like in a trained network vs a completely untrained one on the same sign image.\n",
    "\n",
    "<figure>\n",
    " <img src=\"visualize_cnn.png\" width=\"380\" alt=\"Combined Image\" />\n",
    " <figcaption>\n",
    " <p></p> \n",
    " <p style=\"text-align: center;\"> Your output should look something like this (above)</p> \n",
    " </figcaption>\n",
    "</figure>\n",
    " <p></p> \n"
   ]
  },
  {
   "cell_type": "code",
   "execution_count": 29,
   "metadata": {
    "collapsed": false,
    "deletable": true,
    "editable": true
   },
   "outputs": [
    {
     "data": {
      "image/png": "[encoded data removed]",
      "text/plain": [
       "<matplotlib.figure.Figure at 0x12e0477f0>"
      ]
     },
     "metadata": {},
     "output_type": "display_data"
    }
   ],
   "source": [
    "### Visualize your network's feature maps here.\n",
    "### Feel free to use as many code cells as needed.\n",
    "\n",
    "# image_input: the test image being fed into the network to produce the feature maps\n",
    "# tf_activation: should be a tf variable name used during your training procedure that represents the calculated state of a specific weight layer\n",
    "# activation_min/max: can be used to view the activation contrast in more detail, by default matplot sets min and max to the actual min and max values of the output\n",
    "# plt_num: used to plot out multiple different weight feature map sets on the same block, just extend the plt number for each new feature map entry\n",
    "\n",
    "def outputFeatureMap(image_input, tf_activation, activation_min=-1, activation_max=-1 ,plt_num=1):\n",
    "    # Here make sure to preprocess your image_input in a way your network expects\n",
    "    # with size, normalization, ect if needed\n",
    "    # image_input =\n",
    "    # Note: x should be the same name as your network's tensorflow data placeholder variable\n",
    "    # If you get an error tf_activation is not defined it maybe having trouble accessing the variable from inside a function\n",
    "    activation = tf_activation.eval(session=session ) #,feed_dict={x : image_input})\n",
    "    featuremaps = activation.shape[3]\n",
    "    plt.figure(plt_num, figsize=(15,15))\n",
    "    for featuremap in range(featuremaps):\n",
    "        plt.subplot(6,8, featuremap+1) # sets the number of feature maps to show on each row and column\n",
    "        plt.title('FeatureMap ' + str(featuremap)) # displays the feature map number\n",
    "        if activation_min != -1 & activation_max != -1:\n",
    "            plt.imshow(activation[0,:,:, featuremap], interpolation=\"nearest\", vmin =activation_min, vmax=activation_max, cmap=\"gray\")\n",
    "        elif activation_max != -1:\n",
    "            plt.imshow(activation[0,:,:, featuremap], interpolation=\"nearest\", vmax=activation_max, cmap=\"gray\")\n",
    "        elif activation_min !=-1:\n",
    "            plt.imshow(activation[0,:,:, featuremap], interpolation=\"nearest\", vmin=activation_min, cmap=\"gray\")\n",
    "        else:\n",
    "            plt.imshow(activation[0,:,:, featuremap], interpolation=\"nearest\", cmap=\"gray\")\n",
    "            \n",
    "    \n",
    "\n",
    "#outputFeatureMap(X_train[1].reshape(1,32,32,3), weights[3]) \n",
    "with tf.Session() as session:\n",
    "    saver.restore(session, \"./trained_model\")\n",
    "    outputFeatureMap(imglist, weights[0]) \n",
    "    #outputFeatureMap(X_train[1].reshape(1,32,32,3), weights[0])\n",
    "    \n"
   ]
  },
  {
   "cell_type": "markdown",
   "metadata": {
    "deletable": true,
    "editable": true
   },
   "source": [
    "### Question 9\n",
    "\n",
    "Discuss how you used the visual output of your trained network's feature maps to show that it had learned to look for interesting characteristics in traffic sign images\n"
   ]
  },
  {
   "cell_type": "markdown",
   "metadata": {
    "deletable": true,
    "editable": true
   },
   "source": [
    "**Answer:**"
   ]
  },
  {
   "cell_type": "markdown",
   "metadata": {
    "deletable": true,
    "editable": true
   },
   "source": [
    "> **Note**: Once you have completed all of the code implementations and successfully answered each question above, you may finalize your work by exporting the iPython Notebook as an HTML document. You can do this by using the menu above and navigating to  \\n\",\n",
    "    \"**File -> Download as -> HTML (.html)**. Include the finished document along with this notebook as your submission."
   ]
  },
  {
   "cell_type": "markdown",
   "metadata": {
    "deletable": true,
    "editable": true
   },
   "source": [
    "### Project Writeup\n",
    "\n",
    "Once you have completed the code implementation, document your results in a project writeup using this [template](https://github.com/udacity/CarND-Traffic-Sign-Classifier-Project/blob/master/writeup_template.md) as a guide. The writeup can be in a markdown or pdf file. "
   ]
  }
 ],
 "metadata": {
  "anaconda-cloud": {},
  "kernelspec": {
   "display_name": "Python 3",
   "language": "python",
   "name": "python3"
  },
  "language_info": {
   "codemirror_mode": {
    "name": "ipython",
    "version": 3
   },
   "file_extension": ".py",
   "mimetype": "text/x-python",
   "name": "python",
   "nbconvert_exporter": "python",
   "pygments_lexer": "ipython3",
   "version": "3.5.2"
  },
  "widgets": {
   "state": {},
   "version": "1.1.2"
  }
 },
 "nbformat": 4,
 "nbformat_minor": 1
}
