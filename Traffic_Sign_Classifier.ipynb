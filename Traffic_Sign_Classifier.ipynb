{
 "cells": [
  {
   "cell_type": "markdown",
   "metadata": {
    "deletable": true,
    "editable": true
   },
   "source": [
    "# Self-Driving Car Engineer Nanodegree\n",
    "\n",
    "## Deep Learning\n",
    "\n",
    "## Project: Build a Traffic Sign Recognition Classifier\n",
    "\n",
    "In this notebook, a template is provided for you to implement your functionality in stages, which is required to successfully complete this project. If additional code is required that cannot be included in the notebook, be sure that the Python code is successfully imported and included in your submission if necessary. \n",
    "\n",
    "> **Note**: Once you have completed all of the code implementations, you need to finalize your work by exporting the iPython Notebook as an HTML document. Before exporting the notebook to html, all of the code cells need to have been run so that reviewers can see the final implementation and output. You can then export the notebook by using the menu above and navigating to  \\n\",\n",
    "    \"**File -> Download as -> HTML (.html)**. Include the finished document along with this notebook as your submission. \n",
    "\n",
    "In addition to implementing code, there is a writeup to complete. The writeup should be completed in a separate file, which can be either a markdown file or a pdf document. There is a [write up template](https://github.com/udacity/CarND-Traffic-Sign-Classifier-Project/blob/master/writeup_template.md) that can be used to guide the writing process. Completing the code template and writeup template will cover all of the [rubric points](https://review.udacity.com/#!/rubrics/481/view) for this project.\n",
    "\n",
    "The [rubric](https://review.udacity.com/#!/rubrics/481/view) contains \"Stand Out Suggestions\" for enhancing the project beyond the minimum requirements. The stand out suggestions are optional. If you decide to pursue the \"stand out suggestions\", you can include the code in this Ipython notebook and also discuss the results in the writeup file.\n",
    "\n",
    "\n",
    ">**Note:** Code and Markdown cells can be executed using the **Shift + Enter** keyboard shortcut. In addition, Markdown cells can be edited by typically double-clicking the cell to enter edit mode."
   ]
  },
  {
   "cell_type": "markdown",
   "metadata": {
    "deletable": true,
    "editable": true
   },
   "source": [
    "---\n",
    "## Step 0: Load The Data"
   ]
  },
  {
   "cell_type": "code",
   "execution_count": 31,
   "metadata": {
    "collapsed": false,
    "deletable": true,
    "editable": true
   },
   "outputs": [],
   "source": [
    "# Load pickled data\n",
    "import pickle\n",
    "\n",
    "# TODO: Fill this in based on where you saved the training and testing data\n",
    "\n",
    "training_file = './data/traffic-signs-data/train.p'\n",
    "validation_file='./data/traffic-signs-data/valid.p'\n",
    "testing_file = './data/traffic-signs-data/test.p'\n",
    "\n",
    "with open(training_file, mode='rb') as f:\n",
    "    train = pickle.load(f)\n",
    "with open(validation_file, mode='rb') as f:\n",
    "    valid = pickle.load(f)\n",
    "with open(testing_file, mode='rb') as f:\n",
    "    test = pickle.load(f)\n",
    "    \n",
    "X_train, y_train = train['features'], train['labels']\n",
    "X_valid, y_valid = valid['features'], valid['labels']\n",
    "X_test, y_test = test['features'], test['labels']\n"
   ]
  },
  {
   "cell_type": "code",
   "execution_count": 32,
   "metadata": {
    "collapsed": false,
    "deletable": true,
    "editable": true
   },
   "outputs": [
    {
     "name": "stdout",
     "output_type": "stream",
     "text": [
      "(34799, 32, 32, 3)\n",
      "(4410, 32, 32, 3)\n",
      "(34799,)\n",
      "(4410,)\n"
     ]
    },
    {
     "data": {
      "text/plain": [
       "<matplotlib.image.AxesImage at 0x1140f7a90>"
      ]
     },
     "execution_count": 32,
     "metadata": {},
     "output_type": "execute_result"
    },
    {
     "data": {
      "image/png": "[encoded data removed]",
      "text/plain": [
       "<matplotlib.figure.Figure at 0x113dfc668>"
      ]
     },
     "metadata": {},
     "output_type": "display_data"
    }
   ],
   "source": [
    "# discovering the format\n",
    "import matplotlib.pyplot as plt\n",
    "%matplotlib inline\n",
    "i = 10\n",
    "print (X_train.shape)\n",
    "print (X_valid.shape)\n",
    "print (y_train.shape)\n",
    "print (y_valid.shape)\n",
    "\n",
    "plt.imshow(X_train[i])\n"
   ]
  },
  {
   "cell_type": "markdown",
   "metadata": {
    "deletable": true,
    "editable": true
   },
   "source": [
    "---\n",
    "\n",
    "## Step 1: Dataset Summary & Exploration\n",
    "\n",
    "The pickled data is a dictionary with 4 key/value pairs:\n",
    "\n",
    "- `'features'` is a 4D array containing raw pixel data of the traffic sign images, (num examples, width, height, channels).\n",
    "- `'labels'` is a 1D array containing the label/class id of the traffic sign. The file `signnames.csv` contains id -> name mappings for each id.\n",
    "- `'sizes'` is a list containing tuples, (width, height) representing the the original width and height the image.\n",
    "- `'coords'` is a list containing tuples, (x1, y1, x2, y2) representing coordinates of a bounding box around the sign in the image. **THESE COORDINATES ASSUME THE ORIGINAL IMAGE. THE PICKLED DATA CONTAINS RESIZED VERSIONS (32 by 32) OF THESE IMAGES**\n",
    "\n",
    "Complete the basic data summary below. Use python, numpy and/or pandas methods to calculate the data summary rather than hard coding the results. For example, the [pandas shape method](http://pandas.pydata.org/pandas-docs/stable/generated/pandas.DataFrame.shape.html) might be useful for calculating some of the summary results. "
   ]
  },
  {
   "cell_type": "markdown",
   "metadata": {
    "deletable": true,
    "editable": true
   },
   "source": [
    "### Provide a Basic Summary of the Data Set Using Python, Numpy and/or Pandas"
   ]
  },
  {
   "cell_type": "code",
   "execution_count": 33,
   "metadata": {
    "collapsed": false,
    "deletable": true,
    "editable": true
   },
   "outputs": [
    {
     "name": "stdout",
     "output_type": "stream",
     "text": [
      "Number of training examples = 34799\n",
      "Number of testing examples = 12630\n",
      "Image data shape = (32, 32)\n",
      "Number of classes = 43\n"
     ]
    }
   ],
   "source": [
    "### Replace each question mark with the appropriate value. \n",
    "### Use python, pandas or numpy methods rather than hard coding the results\n",
    "\n",
    "# TODO: Number of training examples\n",
    "n_train = X_train.shape[0]\n",
    "\n",
    "# TODO: Number of testing examples.\n",
    "n_test = X_test.shape[0]\n",
    "\n",
    "# TODO: What's the shape of an traffic sign image?\n",
    "image_shape = X_train.shape[1], X_train.shape[2]\n",
    "\n",
    "# TODO: How many unique classes/labels there are in the dataset.\n",
    "n_classes = len(set(y_train.flatten()))\n",
    "\n",
    "print(\"Number of training examples =\", n_train)\n",
    "print(\"Number of testing examples =\", n_test)\n",
    "print(\"Image data shape =\", image_shape)\n",
    "print(\"Number of classes =\", n_classes)"
   ]
  },
  {
   "cell_type": "markdown",
   "metadata": {
    "deletable": true,
    "editable": true
   },
   "source": [
    "### Include an exploratory visualization of the dataset"
   ]
  },
  {
   "cell_type": "markdown",
   "metadata": {
    "deletable": true,
    "editable": true
   },
   "source": [
    "Visualize the German Traffic Signs Dataset using the pickled file(s). This is open ended, suggestions include: plotting traffic sign images, plotting the count of each sign, etc.\n",
    "\n",
    "The [Matplotlib](http://matplotlib.org/) [examples](http://matplotlib.org/examples/index.html) and [gallery](http://matplotlib.org/gallery.html) pages are a great resource for doing visualizations in Python.\n",
    "\n",
    "**NOTE:** It's recommended you start with something simple first. If you wish to do more, come back to it after you've completed the rest of the sections."
   ]
  },
  {
   "cell_type": "code",
   "execution_count": 34,
   "metadata": {
    "collapsed": false,
    "deletable": true,
    "editable": true
   },
   "outputs": [
    {
     "data": {
      "text/plain": [
       "<matplotlib.image.AxesImage at 0x113d47470>"
      ]
     },
     "execution_count": 34,
     "metadata": {},
     "output_type": "execute_result"
    },
    {
     "data": {
      "image/png": "[encoded data removed]",
      "text/plain": [
       "<matplotlib.figure.Figure at 0x10febebe0>"
      ]
     },
     "metadata": {},
     "output_type": "display_data"
    }
   ],
   "source": [
    "### Data exploration visualization code goes here.\n",
    "### Feel free to use as many code cells as needed.\n",
    "import matplotlib.pyplot as plt\n",
    "import numpy as np\n",
    "from skimage import transform\n",
    "# Visualizations will be shown in the notebook.\n",
    "%matplotlib inline\n",
    "size = 10\n",
    "img_map = {}\n",
    "for i in range(len(X_train)):\n",
    "    if (y_train[i] not in img_map) : img_map[y_train[i]] = []\n",
    "    if (len(img_map[y_train[i]]) >= size) : continue\n",
    "    img_map[y_train[i]].append(X_train[i])\n",
    "\n",
    "\n",
    "img = np.zeros((0, size * 32, 3))\n",
    "for k in img_map:\n",
    "    col = np.zeros((32,0,3))\n",
    "    for sign in img_map[k]:\n",
    "        col = np.concatenate((col, sign), axis = 1)\n",
    "    img = np.concatenate((img, col), axis = 0)\n",
    "\n",
    "plt.imshow(img)\n",
    "    "
   ]
  },
  {
   "cell_type": "markdown",
   "metadata": {
    "deletable": true,
    "editable": true
   },
   "source": [
    "----\n",
    "\n",
    "## Step 2: Design and Test a Model Architecture\n",
    "\n",
    "Design and implement a deep learning model that learns to recognize traffic signs. Train and test your model on the [German Traffic Sign Dataset](http://benchmark.ini.rub.de/?section=gtsrb&subsection=dataset).\n",
    "\n",
    "There are various aspects to consider when thinking about this problem:\n",
    "\n",
    "- Neural network architecture\n",
    "- Play around preprocessing techniques (normalization, rgb to grayscale, etc)\n",
    "- Number of examples per label (some have more than others).\n",
    "- Generate fake data.\n",
    "\n",
    "Here is an example of a [published baseline model on this problem](http://yann.lecun.com/exdb/publis/pdf/sermanet-ijcnn-11.pdf). It's not required to be familiar with the approach used in the paper but, it's good practice to try to read papers like these.\n",
    "\n",
    "**NOTE:** The LeNet-5 implementation shown in the [classroom](https://classroom.udacity.com/nanodegrees/nd013/parts/fbf77062-5703-404e-b60c-95b78b2f3f9e/modules/6df7ae49-c61c-4bb2-a23e-6527e69209ec/lessons/601ae704-1035-4287-8b11-e2c2716217ad/concepts/d4aca031-508f-4e0b-b493-e7b706120f81) at the end of the CNN lesson is a solid starting point. You'll have to change the number of classes and possibly the preprocessing, but aside from that it's plug and play!"
   ]
  },
  {
   "cell_type": "markdown",
   "metadata": {
    "deletable": true,
    "editable": true
   },
   "source": [
    "### Pre-process the Data Set (normalization, grayscale, etc.)"
   ]
  },
  {
   "cell_type": "markdown",
   "metadata": {
    "deletable": true,
    "editable": true
   },
   "source": [
    "Use the code cell (or multiple code cells, if necessary) to implement the first step of your project."
   ]
  },
  {
   "cell_type": "code",
   "execution_count": 35,
   "metadata": {
    "collapsed": false,
    "deletable": true,
    "editable": true
   },
   "outputs": [
    {
     "name": "stdout",
     "output_type": "stream",
     "text": [
      "(3000, 32, 32, 3) (300, 32, 32, 3)\n",
      "(3000,) (300,)\n"
     ]
    }
   ],
   "source": [
    "### Preprocess the data here. Preprocessing steps could include normalization, converting to grayscale, etc.\n",
    "### Feel free to use as many code cells as needed.\n",
    "from sklearn.utils import shuffle\n",
    "n = 3000\n",
    "nv = 300\n",
    "X_train, y_train = shuffle(X_train, y_train)\n",
    "X_valid, y_valid = shuffle(X_valid, y_valid)\n",
    "\n",
    "X_train = np.array(X_train, dtype=np.float32)[:n]\n",
    "y_train = y_train[:n]\n",
    "\n",
    "X_valid = np.array(X_valid, dtype=np.float32)[:nv]\n",
    "y_valid =  y_valid[:nv]\n",
    "print(X_train.shape, X_valid.shape)\n",
    "print(y_train.shape, y_valid.shape)\n"
   ]
  },
  {
   "cell_type": "markdown",
   "metadata": {
    "deletable": true,
    "editable": true
   },
   "source": [
    "### Model Architecture"
   ]
  },
  {
   "cell_type": "code",
   "execution_count": 36,
   "metadata": {
    "collapsed": false,
    "deletable": true,
    "editable": true
   },
   "outputs": [
    {
     "name": "stdout",
     "output_type": "stream",
     "text": [
      "Tensor(\"Add_38:0\", shape=(1, 43), dtype=float32)\n"
     ]
    }
   ],
   "source": [
    "import tensorflow as tf\n",
    "### Define your architecture here.\n",
    "### Feel free to use as many code cells as needed.\n",
    "def model(x):\n",
    "    #convolutional layer #1\n",
    "    L1_w = tf.Variable(tf.random_normal([4,4,3,10]))\n",
    "    L1_b = tf.Variable(tf.random_normal([10]))\n",
    "    \n",
    "    conv1 = tf.nn.conv2d(x, L1_w, [1,1,1,1], 'VALID') + L1_b\n",
    "    relu1 = tf.nn.relu(conv1)\n",
    "    pool1 = tf.nn.max_pool(relu1, [1,2,2,1], [1,2,2,1], 'VALID')\n",
    "    \n",
    "    #convolutional layer #1\n",
    "\n",
    "    L2_w = tf.Variable(tf.random_normal([3,3,10,30]))\n",
    "    L2_b = tf.Variable(tf.random_normal([30]))\n",
    "    conv2 = tf.nn.conv2d(pool1, L2_w, [1,1,1,1], 'VALID') + L2_b\n",
    "    relu2 = tf.nn.relu(conv2)\n",
    "    pool2 = tf.nn.max_pool(relu2, [1,2,2,1], [1,2,2,1], 'VALID')\n",
    "    \n",
    "        \n",
    "    flat = tf.contrib.layers.flatten(pool2)\n",
    "    \n",
    "    #fully connected1\n",
    "    F1_w = tf.Variable(tf.random_normal([1080, 300]))\n",
    "    F1_b = tf.Variable(tf.random_normal([300]))\n",
    "    \n",
    "    full1 = tf.add(tf.matmul(flat, F1_w), F1_b)\n",
    "    \n",
    "    #fully connected2\n",
    "    F2_w = tf.Variable(tf.random_normal([300, 100]))\n",
    "    F2_b = tf.Variable(tf.random_normal([100]))\n",
    "    full2 = tf.add(tf.matmul(full1, F2_w), F2_b)\n",
    "    \n",
    "    #fully connected3\n",
    "    F3_w = tf.Variable(tf.random_normal([100, 43]))\n",
    "    F3_b = tf.Variable(tf.random_normal([43]))\n",
    "    full3 = tf.add(tf.matmul(full2, F3_w), F3_b)\n",
    "    \n",
    "    return full3\n",
    "\n",
    "print (model(np.array(X_train[1], dtype=np.float32).reshape(1,32,32,3)))"
   ]
  },
  {
   "cell_type": "markdown",
   "metadata": {
    "deletable": true,
    "editable": true
   },
   "source": [
    "### Train, Validate and Test the Model"
   ]
  },
  {
   "cell_type": "markdown",
   "metadata": {
    "deletable": true,
    "editable": true
   },
   "source": [
    "A validation set can be used to assess how well the model is performing. A low accuracy on the training and validation\n",
    "sets imply underfitting. A high accuracy on the training set but low accuracy on the validation set implies overfitting."
   ]
  },
  {
   "cell_type": "code",
   "execution_count": 38,
   "metadata": {
    "collapsed": false,
    "deletable": true,
    "editable": true
   },
   "outputs": [
    {
     "name": "stdout",
     "output_type": "stream",
     "text": [
      "ok...\n",
      "starting...\n",
      "run...\n",
      "Epoch: 0/1\t Batch : 0/60\t loss: 30759386.0\t acc: 0.10000000149011612\n",
      "Epoch: 0/1\t Batch : 1/60\t loss: 28290880.0\t acc: 0.10101009905338287\n",
      "Epoch: 0/1\t Batch : 2/60\t loss: 28624826.0\t acc: 0.027027027681469917\n",
      "Epoch: 0/1\t Batch : 3/60\t loss: 29137070.0\t acc: 0.025380710139870644\n",
      "Epoch: 0/1\t Batch : 4/60\t loss: 22208756.0\t acc: 0.056910570710897446\n",
      "Epoch: 0/1\t Batch : 5/60\t loss: 20769974.0\t acc: 0.05423728749155998\n",
      "Epoch: 0/1\t Batch : 6/60\t loss: 17607362.0\t acc: 0.10755813866853714\n",
      "Epoch: 0/1\t Batch : 7/60\t loss: 15991200.0\t acc: 0.11704834550619125\n",
      "Epoch: 0/1\t Batch : 8/60\t loss: 14178389.0\t acc: 0.15610860288143158\n",
      "Epoch: 0/1\t Batch : 9/60\t loss: 13751463.0\t acc: 0.1344195455312729\n",
      "Epoch: 0/1\t Batch : 10/60\t loss: 12188913.0\t acc: 0.15555556118488312\n",
      "Epoch: 0/1\t Batch : 11/60\t loss: 11029633.0\t acc: 0.18675722181797028\n",
      "Epoch: 0/1\t Batch : 12/60\t loss: 10150267.0\t acc: 0.20219436287879944\n",
      "Epoch: 0/1\t Batch : 13/60\t loss: 9187420.0\t acc: 0.1965065449476242\n",
      "Epoch: 0/1\t Batch : 14/60\t loss: 8628495.0\t acc: 0.1929347813129425\n",
      "Epoch: 0/1\t Batch : 15/60\t loss: 8058288.5\t acc: 0.18598726391792297\n",
      "Epoch: 0/1\t Batch : 16/60\t loss: 7069830.0\t acc: 0.19064748287200928\n",
      "Epoch: 0/1\t Batch : 17/60\t loss: 6339372.5\t acc: 0.23103058338165283\n",
      "Epoch: 0/1\t Batch : 18/60\t loss: 5851384.5\t acc: 0.25\n",
      "Epoch: 0/1\t Batch : 19/60\t loss: 5435747.5\t acc: 0.25891947746276855\n",
      "Epoch: 0/1\t Batch : 20/60\t loss: 4943224.5\t acc: 0.2514563202857971\n",
      "Epoch: 0/1\t Batch : 21/60\t loss: 4333449.0\t acc: 0.26135310530662537\n",
      "Epoch: 0/1\t Batch : 22/60\t loss: 4068592.5\t acc: 0.26950353384017944\n",
      "Epoch: 0/1\t Batch : 23/60\t loss: 3862253.0\t acc: 0.2650807201862335\n",
      "Epoch: 0/1\t Batch : 24/60\t loss: 3661639.5\t acc: 0.26345840096473694\n",
      "Epoch: 0/1\t Batch : 25/60\t loss: 3317016.0\t acc: 0.2729411721229553\n",
      "Epoch: 0/1\t Batch : 26/60\t loss: 3045032.25\t acc: 0.280211478471756\n",
      "Epoch: 0/1\t Batch : 27/60\t loss: 2812265.25\t acc: 0.28404954075813293\n",
      "Epoch: 0/1\t Batch : 28/60\t loss: 2605546.25\t acc: 0.2805907130241394\n",
      "Epoch: 0/1\t Batch : 29/60\t loss: 2434070.25\t acc: 0.2909585237503052\n",
      "Epoch: 0/1\t Batch : 30/60\t loss: 2233104.5\t acc: 0.29802632331848145\n",
      "Epoch: 0/1\t Batch : 31/60\t loss: 2090478.875\t acc: 0.31612491607666016\n",
      "Epoch: 0/1\t Batch : 32/60\t loss: 1961910.75\t acc: 0.31953027844429016\n",
      "Epoch: 0/1\t Batch : 33/60\t loss: 1837805.375\t acc: 0.3281343877315521\n",
      "Epoch: 0/1\t Batch : 34/60\t loss: 1703476.125\t acc: 0.3362470865249634\n",
      "Epoch: 0/1\t Batch : 35/60\t loss: 1609519.75\t acc: 0.3461756408214569\n",
      "Epoch: 0/1\t Batch : 36/60\t loss: 1518005.375\t acc: 0.3456449806690216\n",
      "Epoch: 0/1\t Batch : 37/60\t loss: 1432004.5\t acc: 0.35426729917526245\n",
      "Epoch: 0/1\t Batch : 38/60\t loss: 1368667.0\t acc: 0.3603556454181671\n",
      "Epoch: 0/1\t Batch : 39/60\t loss: 1303791.375\t acc: 0.36104029417037964\n",
      "Epoch: 0/1\t Batch : 40/60\t loss: 1243127.375\t acc: 0.37164178490638733\n",
      "Epoch: 0/1\t Batch : 41/60\t loss: 1192238.125\t acc: 0.38173872232437134\n",
      "Epoch: 0/1\t Batch : 42/60\t loss: 1148241.625\t acc: 0.3866223990917206\n",
      "Epoch: 0/1\t Batch : 43/60\t loss: 1110908.125\t acc: 0.3968474864959717\n",
      "Epoch: 0/1\t Batch : 44/60\t loss: 1074033.625\t acc: 0.40435177087783813\n",
      "Epoch: 0/1\t Batch : 45/60\t loss: 1030108.5625\t acc: 0.4168514311313629\n",
      "Epoch: 0/1\t Batch : 46/60\t loss: 988602.6875\t acc: 0.4227430522441864\n",
      "Epoch: 0/1\t Batch : 47/60\t loss: 942207.3125\t acc: 0.43051424622535706\n",
      "Epoch: 0/1\t Batch : 48/60\t loss: 900762.9375\t acc: 0.42714405059814453\n",
      "Epoch: 0/1\t Batch : 49/60\t loss: 873920.3125\t acc: 0.426764577627182\n",
      "Epoch: 0/1\t Batch : 50/60\t loss: 850227.125\t acc: 0.4307999908924103\n",
      "Epoch: 0/1\t Batch : 51/60\t loss: 818008.125\t acc: 0.43546488881111145\n",
      "Epoch: 0/1\t Batch : 52/60\t loss: 790072.125\t acc: 0.4445727467536926\n",
      "Epoch: 0/1\t Batch : 53/60\t loss: 764092.25\t acc: 0.4491877555847168\n",
      "Epoch: 0/1\t Batch : 54/60\t loss: 743196.375\t acc: 0.4562314450740814\n",
      "Epoch: 0/1\t Batch : 55/60\t loss: 719002.5625\t acc: 0.46302369236946106\n",
      "Epoch: 0/1\t Batch : 56/60\t loss: 694482.5\t acc: 0.4699355661869049\n",
      "Epoch: 0/1\t Batch : 57/60\t loss: 670907.5\t acc: 0.47590574622154236\n",
      "Epoch: 0/1\t Batch : 58/60\t loss: 646995.1875\t acc: 0.4792531132698059\n",
      "Epoch: 0/1\t Batch : 59/60\t loss: 622037.5\t acc: 0.489969402551651\n",
      "OK, saved.\n"
     ]
    }
   ],
   "source": [
    "### Train your model here.\n",
    "### Calculate and report the accuracy on the training and validation set.\n",
    "### Once a final model architecture is selected, \n",
    "### the accuracy on the test set should be calculated and reported as well.\n",
    "### Feel free to use as many code cells as needed.\n",
    "print('ok...')\n",
    "x = tf.placeholder(tf.float32, (None, 32, 32, 3), name=\"X_train\")\n",
    "y = tf.placeholder(tf.int32, (None), name=\"y_train\")\n",
    "one_hot_y = tf.one_hot(y, 43, name = 'one_hot')\n",
    "\n",
    "rate = 0.01\n",
    "logits = model(x)\n",
    "# cost and optimizer\n",
    "cross_entropy = tf.nn.softmax_cross_entropy_with_logits(logits = logits, labels = one_hot_y, name=\"entropy\")\n",
    "cost = tf.reduce_mean(cross_entropy, name=\"cost\")\n",
    "optimizer = tf.train.AdamOptimizer(learning_rate = rate, name=\"optimizer\").minimize(cost)\n",
    "\n",
    "correct_pred = tf.equal(tf.argmax(logits, 1), tf.argmax(one_hot_y, 1))\n",
    "accuracy = tf.reduce_mean(tf.cast(correct_pred, tf.float32))\n",
    "\n",
    "saver = tf.train.Saver()\n",
    "init = tf.global_variables_initializer()\n",
    "print ('starting...')\n",
    "batch_size = 50\n",
    "batch_numbers = int(len(X_train)/batch_size)\n",
    "epochs = 1\n",
    "with tf.Session() as sess:\n",
    "    print('run...')\n",
    "    sess.run(init)\n",
    "    for e in range(epochs):\n",
    "        for n in range(batch_numbers):\n",
    "            x_batch, y_batch = X_train[n:(n+1) * batch_size], y_train[n:(n+1) * batch_size]\n",
    "\n",
    "            sess.run(optimizer, feed_dict = {x : x_batch, y : y_batch})\n",
    "\n",
    "            loss = sess.run(cost, feed_dict = {x : x_batch, y : y_batch})\n",
    "\n",
    "            valid_acc = sess.run(accuracy, feed_dict = {x : x_batch, y : y_batch})\n",
    "            print (\"Epoch: {}/{}\\t Batch : {}/{}\\t loss: {}\\t acc: {}\".format(e, epochs, n, batch_numbers, loss, valid_acc))\n",
    "        \n",
    "        \n",
    "    saver.save(sess, \"./trained_model\")\n",
    "    print('OK, saved.')"
   ]
  },
  {
   "cell_type": "markdown",
   "metadata": {
    "deletable": true,
    "editable": true
   },
   "source": [
    "---\n",
    "\n",
    "## Step 3: Test a Model on New Images\n",
    "\n",
    "To give yourself more insight into how your model is working, download at least five pictures of German traffic signs from the web and use your model to predict the traffic sign type.\n",
    "\n",
    "You may find `signnames.csv` useful as it contains mappings from the class id (integer) to the actual sign name."
   ]
  },
  {
   "cell_type": "markdown",
   "metadata": {
    "deletable": true,
    "editable": true
   },
   "source": [
    "### Load and Output the Images"
   ]
  },
  {
   "cell_type": "code",
   "execution_count": 70,
   "metadata": {
    "collapsed": false,
    "deletable": true,
    "editable": true
   },
   "outputs": [
    {
     "name": "stdout",
     "output_type": "stream",
     "text": [
      "(9, 32, 32, 3)\n"
     ]
    },
    {
     "data": {
      "image/png": "[encoded data removed]",
      "text/plain": [
       "<matplotlib.figure.Figure at 0x115396a20>"
      ]
     },
     "metadata": {},
     "output_type": "display_data"
    }
   ],
   "source": [
    "from scipy.misc import imread, imresize\n",
    "import csv\n",
    "\n",
    "#the csv\n",
    "sign_names = []\n",
    "with open('./signnames.csv') as f:\n",
    "    c = csv.reader(f)\n",
    "    for row in c:\n",
    "        sign_names.append(row[1])\n",
    "   \n",
    "#loading some images\n",
    "ims = ['00001','00002','00003','00005','00010','01000', '02000', '02001', '12001']\n",
    "img = np.zeros((32, 0, 3))\n",
    "imglist = []\n",
    "for im in ims:\n",
    "    i = imresize(imread('./data/GTSRB/Final_Test/Images/{}.ppm'.format(im)), (32,32))\n",
    "    imglist.append(i)\n",
    "    img = np.concatenate((img, i), axis = 1)\n",
    "\n",
    "imglist = np.array(imglist, dtype=np.float32)\n",
    "print(imglist.shape)\n",
    "plt.imshow(img)    \n",
    "    \n",
    "\n"
   ]
  },
  {
   "cell_type": "markdown",
   "metadata": {
    "deletable": true,
    "editable": true
   },
   "source": [
    "### Predict the Sign Type for Each Image"
   ]
  },
  {
   "cell_type": "code",
   "execution_count": 71,
   "metadata": {
    "collapsed": false,
    "deletable": true,
    "editable": true
   },
   "outputs": [
    {
     "name": "stdout",
     "output_type": "stream",
     "text": [
      "model restored.\n",
      "[[  4.66585700e+06   8.24728200e+06   2.66990000e+06   5.58151950e+06\n",
      "    5.66535600e+06   5.69987950e+06  -2.76106938e+05   7.50978150e+06\n",
      "    1.26710225e+06   6.37943750e+06   7.39228050e+06   8.47552600e+06\n",
      "   -3.65019625e+06   5.20982906e+05  -2.73635475e+06   3.50881000e+06\n",
      "    5.26103800e+06  -6.48090750e+06   5.34839850e+06   9.74479219e+04\n",
      "    8.76413438e+05  -1.45940425e+06  -1.85957600e+06  -2.78286812e+05\n",
      "    1.01789700e+06   4.81204500e+06  -7.72457062e+05   1.25860250e+06\n",
      "    3.78392225e+06  -4.16707700e+06   3.59286175e+06  -1.16623038e+06\n",
      "   -4.46495350e+06  -4.04223312e+05  -4.76304950e+06   9.02856797e+04\n",
      "    9.57693812e+05  -4.63841650e+06   3.29798938e+05   1.49976362e+06\n",
      "    6.65738875e+05   8.90202051e+03   5.19731850e+06]\n",
      " [ -5.05161000e+06   1.61892300e+06   6.38146250e+05   1.12128800e+06\n",
      "    1.25918100e+06  -1.03547256e+06   2.22355450e+06   1.36308594e+05\n",
      "   -6.30719200e+06   6.99015625e+05   1.34015750e+06   1.64894838e+06\n",
      "    1.98200800e+06   2.52677050e+06  -2.99951750e+05   3.21324344e+05\n",
      "   -8.94842812e+05  -2.96892875e+06   2.04716600e+06  -1.38771862e+06\n",
      "    2.51092225e+06  -1.69733138e+06   4.34663875e+05  -3.44260175e+06\n",
      "   -1.00772481e+06  -1.49419212e+06   2.07599262e+06  -4.78476700e+06\n",
      "   -5.64955300e+06  -9.23538250e+05   1.11977562e+06  -3.68143750e+06\n",
      "    3.93693042e+03   3.68230375e+06   4.70152600e+06   2.34236750e+06\n",
      "    2.88475875e+06   3.85101850e+06   8.66977400e+06   5.23725150e+06\n",
      "    5.05622300e+06   6.77095875e+05   1.21775225e+06]\n",
      " [ -4.81876094e+05  -3.27883825e+06   2.73632600e+06   9.15796500e+06\n",
      "    2.15125225e+06   3.01995425e+06   6.10577050e+06   7.94214125e+05\n",
      "   -4.24657050e+06   2.36065469e+05   1.46906475e+06   4.05699975e+06\n",
      "   -9.39083375e+05   3.54163875e+06   1.26069562e+06   4.39382550e+06\n",
      "    2.00224288e+06  -1.92602525e+06   3.10997850e+06   6.73443562e+05\n",
      "    8.19658500e+05   4.22179500e+06   3.20236700e+06   4.10843906e+04\n",
      "    3.54854750e+06  -4.27750188e+05   2.14264175e+06   1.87904962e+06\n",
      "   -6.58846562e+05  -4.84201188e+05   1.85591862e+06  -5.69085700e+06\n",
      "   -3.45921281e+05   3.66595250e+06   4.46884600e+06   4.28382600e+06\n",
      "    3.40919700e+06   3.11542200e+06   3.30357325e+06   4.56848050e+06\n",
      "    4.15804350e+06  -9.73693375e+05   5.65194700e+06]\n",
      " [ -5.12724900e+06   1.05777062e+06   1.17639175e+06   1.05909688e+06\n",
      "    1.14503412e+06  -1.17774162e+06   1.41480212e+06  -1.64665700e+06\n",
      "   -4.12826775e+06   8.81549688e+05   2.98135656e+05   4.95295352e+04\n",
      "    1.56428138e+06   1.60929250e+06  -6.12340859e+04   1.06537525e+06\n",
      "   -1.33885800e+06  -2.37491350e+06   1.00011194e+06  -1.81687912e+06\n",
      "    1.28417888e+06  -1.37770238e+06  -4.83658250e+05  -3.42905650e+06\n",
      "   -3.70000312e+05  -1.52476750e+06   1.44036850e+06  -4.28518650e+06\n",
      "   -4.44424500e+06  -1.42770138e+06   3.87951500e+05  -2.27284425e+06\n",
      "   -5.81041125e+05   2.21298750e+06   4.27485100e+06   1.14845025e+06\n",
      "    2.87954400e+06   2.88532100e+06   6.72387400e+06   4.38180050e+06\n",
      "    3.50488675e+06  -3.28086625e+05  -2.92762000e+05]\n",
      " [ -5.14355450e+06   2.11616450e+06   7.73947500e+04  -3.69612656e+05\n",
      "    5.22414531e+05  -3.32237578e+04  -9.33546625e+05   1.92586300e+06\n",
      "   -5.48758375e+05  -2.28744031e+05  -1.33713375e+06   1.51307838e+06\n",
      "    5.27473950e+06   1.16579112e+06  -1.14817039e+05  -7.06957938e+05\n",
      "    4.15979062e+05  -1.88340225e+06   2.61851900e+06   2.33080850e+06\n",
      "   -4.66991992e+04  -3.80204750e+06   1.45297100e+06   1.37438125e+06\n",
      "    1.38313125e+06  -9.21696438e+05   2.42152200e+06  -3.60869175e+06\n",
      "   -1.35323225e+06  -4.43280650e+06  -2.04881250e+05  -9.21469125e+05\n",
      "    3.61163000e+06   3.53407525e+06   2.20507050e+06   3.91865700e+06\n",
      "    2.80999275e+06  -2.75375844e+05   3.44003150e+06   3.43463406e+05\n",
      "    2.20228050e+06  -5.76474625e+05   1.08160600e+06]\n",
      " [ -4.25748150e+06   3.50177525e+06  -3.82337000e+05   8.64118203e+04\n",
      "   -3.65844900e+06   1.86298080e+07  -2.19417640e+07   1.61459125e+06\n",
      "    1.42961088e+06  -2.61072400e+06   7.53830400e+06   7.38636400e+06\n",
      "    9.73424900e+06   2.32422025e+06   1.82560380e+07  -3.39885700e+06\n",
      "   -7.35281650e+06   2.75123880e+07   3.21852000e+05   1.35643188e+06\n",
      "   -8.75283600e+06   1.45521225e+06   5.37709850e+06  -7.52510650e+06\n",
      "   -2.88747350e+06   1.61217180e+07   1.15765540e+07   4.34565650e+06\n",
      "   -9.30321938e+05  -1.63730560e+07   4.81219350e+06  -6.88415650e+06\n",
      "    4.86847400e+06  -8.12030500e+06  -1.82452600e+07  -1.27209160e+07\n",
      "   -5.94678300e+06  -1.87898850e+06  -4.78595200e+06  -1.89300860e+07\n",
      "   -8.14321900e+06  -6.22871400e+06  -3.48751525e+06]\n",
      " [ -2.71775450e+06   1.75768912e+06   2.76698375e+05   2.17517800e+06\n",
      "    3.85451025e+06   8.29843625e+05  -1.27308625e+06  -2.18540050e+06\n",
      "   -1.35349850e+06  -2.62095150e+06  -6.64312250e+05   3.42456100e+06\n",
      "   -6.82985688e+05   3.87220650e+06   1.88464200e+06   8.93880312e+05\n",
      "   -3.35734969e+05  -1.74531675e+06   4.41328812e+05  -3.21017775e+06\n",
      "   -3.79199562e+05   9.48309500e+05  -2.18872250e+05   7.72729625e+05\n",
      "   -1.26313175e+06   1.36032588e+06   4.80320594e+05  -1.80202359e+05\n",
      "    3.33123100e+06  -3.58063925e+06   8.17380875e+05   2.25208600e+06\n",
      "    1.81586575e+06   2.55883125e+06   2.95956250e+06   3.37495925e+06\n",
      "    3.47354225e+06   3.55205625e+06   4.10716700e+06  -1.06048425e+06\n",
      "    2.95679450e+06  -2.26192875e+06   2.93787375e+05]\n",
      " [  2.49913575e+06   1.11488600e+06   1.81606200e+06  -9.95978062e+05\n",
      "   -2.78995850e+06   3.17285550e+06  -2.07856888e+06   2.59060200e+06\n",
      "   -9.77265938e+04   3.40760050e+06   3.05010250e+06   2.57610453e+05\n",
      "    1.75009438e+06   1.15480312e+06   6.54366484e+04   1.82434325e+06\n",
      "   -1.06722400e+06  -2.09789125e+06   4.30573200e+06  -2.56523188e+05\n",
      "    1.42087625e+05  -7.57219812e+05  -1.20259662e+06   1.03711888e+06\n",
      "    1.26749734e+05   1.61531125e+05   5.99281562e+05  -2.22524750e+06\n",
      "   -1.45630562e+06  -2.01093800e+06  -4.39916602e+04  -8.18097875e+05\n",
      "   -2.81101925e+06   3.05896725e+06   6.04973350e+06   2.79145050e+06\n",
      "    5.19848750e+06   7.43769150e+06   8.07550300e+06   7.35172438e+05\n",
      "    6.40012650e+06  -2.17912375e+06   3.57898700e+06]\n",
      " [  5.02955344e+05   7.13370950e+06   2.66848175e+06   6.00995000e+06\n",
      "    2.18890925e+06   6.71724900e+06  -4.41398100e+06   3.88485325e+06\n",
      "    8.51550000e+06  -2.33676906e+05   1.58794350e+06  -1.88310738e+06\n",
      "   -9.22361312e+05  -3.81032400e+06  -8.95166328e+04  -1.47650075e+06\n",
      "    3.66712525e+06  -5.59831500e+06  -2.85084525e+06   9.22587266e+04\n",
      "   -5.30465200e+06  -3.82819775e+06  -6.81862300e+06  -3.34413225e+06\n",
      "    3.52878025e+06   1.31034638e+06   8.36641312e+05  -6.13546200e+06\n",
      "    1.50664962e+06  -1.02931162e+06  -3.94178575e+06  -1.88939102e+04\n",
      "   -1.50105938e+06   2.44221188e+05   7.17932938e+05   3.61031250e+06\n",
      "   -1.02998969e+06  -3.10496688e+05  -4.73089400e+06  -6.87221800e+06\n",
      "   -4.38138950e+06  -1.15064338e+06   1.54148525e+06]]\n"
     ]
    }
   ],
   "source": [
    "### Run the predictions here and use the model to output the prediction for each image.\n",
    "### Make sure to pre-process the images with the same pre-processing pipeline used earlier.\n",
    "### Feel free to use as many code cells as needed.\n",
    "#loading the saved model\n",
    "saver = tf.train.Saver()\n",
    "with tf.Session() as session:\n",
    "    saver.restore(session, \"./trained_model\")\n",
    "    print (\"model restored.\")\n",
    "    l = session.run(logits, feed_dict = {x : imglist})\n",
    "    print(l)\n",
    "\n",
    "### Load the images and plot them here.\n",
    "### Feel free to use as many code cells as needed."
   ]
  },
  {
   "cell_type": "markdown",
   "metadata": {
    "deletable": true,
    "editable": true
   },
   "source": [
    "### Analyze Performance"
   ]
  },
  {
   "cell_type": "code",
   "execution_count": 4,
   "metadata": {
    "collapsed": true,
    "deletable": true,
    "editable": true
   },
   "outputs": [],
   "source": [
    "### Calculate the accuracy for these 5 new images. \n",
    "### For example, if the model predicted 1 out of 5 signs correctly, it's 20% accurate on these new images."
   ]
  },
  {
   "cell_type": "markdown",
   "metadata": {
    "deletable": true,
    "editable": true
   },
   "source": [
    "### Output Top 5 Softmax Probabilities For Each Image Found on the Web"
   ]
  },
  {
   "cell_type": "markdown",
   "metadata": {
    "deletable": true,
    "editable": true
   },
   "source": [
    "For each of the new images, print out the model's softmax probabilities to show the **certainty** of the model's predictions (limit the output to the top 5 probabilities for each image). [`tf.nn.top_k`](https://www.tensorflow.org/versions/r0.12/api_docs/python/nn.html#top_k) could prove helpful here. \n",
    "\n",
    "The example below demonstrates how tf.nn.top_k can be used to find the top k predictions for each image.\n",
    "\n",
    "`tf.nn.top_k` will return the values and indices (class ids) of the top k predictions. So if k=3, for each sign, it'll return the 3 largest probabilities (out of a possible 43) and the correspoding class ids.\n",
    "\n",
    "Take this numpy array as an example. The values in the array represent predictions. The array contains softmax probabilities for five candidate images with six possible classes. `tk.nn.top_k` is used to choose the three classes with the highest probability:\n",
    "\n",
    "```\n",
    "# (5, 6) array\n",
    "a = np.array([[ 0.24879643,  0.07032244,  0.12641572,  0.34763842,  0.07893497,\n",
    "         0.12789202],\n",
    "       [ 0.28086119,  0.27569815,  0.08594638,  0.0178669 ,  0.18063401,\n",
    "         0.15899337],\n",
    "       [ 0.26076848,  0.23664738,  0.08020603,  0.07001922,  0.1134371 ,\n",
    "         0.23892179],\n",
    "       [ 0.11943333,  0.29198961,  0.02605103,  0.26234032,  0.1351348 ,\n",
    "         0.16505091],\n",
    "       [ 0.09561176,  0.34396535,  0.0643941 ,  0.16240774,  0.24206137,\n",
    "         0.09155967]])\n",
    "```\n",
    "\n",
    "Running it through `sess.run(tf.nn.top_k(tf.constant(a), k=3))` produces:\n",
    "\n",
    "```\n",
    "TopKV2(values=array([[ 0.34763842,  0.24879643,  0.12789202],\n",
    "       [ 0.28086119,  0.27569815,  0.18063401],\n",
    "       [ 0.26076848,  0.23892179,  0.23664738],\n",
    "       [ 0.29198961,  0.26234032,  0.16505091],\n",
    "       [ 0.34396535,  0.24206137,  0.16240774]]), indices=array([[3, 0, 5],\n",
    "       [0, 1, 4],\n",
    "       [0, 5, 1],\n",
    "       [1, 3, 5],\n",
    "       [1, 4, 3]], dtype=int32))\n",
    "```\n",
    "\n",
    "Looking just at the first row we get `[ 0.34763842,  0.24879643,  0.12789202]`, you can confirm these are the 3 largest probabilities in `a`. You'll also notice `[3, 0, 5]` are the corresponding indices."
   ]
  },
  {
   "cell_type": "code",
   "execution_count": 6,
   "metadata": {
    "collapsed": true,
    "deletable": true,
    "editable": true
   },
   "outputs": [],
   "source": [
    "### Print out the top five softmax probabilities for the predictions on the German traffic sign images found on the web. \n",
    "### Feel free to use as many code cells as needed."
   ]
  },
  {
   "cell_type": "markdown",
   "metadata": {
    "deletable": true,
    "editable": true
   },
   "source": [
    "---\n",
    "\n",
    "## Step 4: Visualize the Neural Network's State with Test Images\n",
    "\n",
    " This Section is not required to complete but acts as an additional excersise for understaning the output of a neural network's weights. While neural networks can be a great learning device they are often referred to as a black box. We can understand what the weights of a neural network look like better by plotting their feature maps. After successfully training your neural network you can see what it's feature maps look like by plotting the output of the network's weight layers in response to a test stimuli image. From these plotted feature maps, it's possible to see what characteristics of an image the network finds interesting. For a sign, maybe the inner network feature maps react with high activation to the sign's boundary outline or to the contrast in the sign's painted symbol.\n",
    "\n",
    " Provided for you below is the function code that allows you to get the visualization output of any tensorflow weight layer you want. The inputs to the function should be a stimuli image, one used during training or a new one you provided, and then the tensorflow variable name that represents the layer's state during the training process, for instance if you wanted to see what the [LeNet lab's](https://classroom.udacity.com/nanodegrees/nd013/parts/fbf77062-5703-404e-b60c-95b78b2f3f9e/modules/6df7ae49-c61c-4bb2-a23e-6527e69209ec/lessons/601ae704-1035-4287-8b11-e2c2716217ad/concepts/d4aca031-508f-4e0b-b493-e7b706120f81) feature maps looked like for it's second convolutional layer you could enter conv2 as the tf_activation variable.\n",
    "\n",
    "For an example of what feature map outputs look like, check out NVIDIA's results in their paper [End-to-End Deep Learning for Self-Driving Cars](https://devblogs.nvidia.com/parallelforall/deep-learning-self-driving-cars/) in the section Visualization of internal CNN State. NVIDIA was able to show that their network's inner weights had high activations to road boundary lines by comparing feature maps from an image with a clear path to one without. Try experimenting with a similar test to show that your trained network's weights are looking for interesting features, whether it's looking at differences in feature maps from images with or without a sign, or even what feature maps look like in a trained network vs a completely untrained one on the same sign image.\n",
    "\n",
    "<figure>\n",
    " <img src=\"visualize_cnn.png\" width=\"380\" alt=\"Combined Image\" />\n",
    " <figcaption>\n",
    " <p></p> \n",
    " <p style=\"text-align: center;\"> Your output should look something like this (above)</p> \n",
    " </figcaption>\n",
    "</figure>\n",
    " <p></p> \n"
   ]
  },
  {
   "cell_type": "code",
   "execution_count": null,
   "metadata": {
    "collapsed": true,
    "deletable": true,
    "editable": true
   },
   "outputs": [],
   "source": [
    "### Visualize your network's feature maps here.\n",
    "### Feel free to use as many code cells as needed.\n",
    "\n",
    "# image_input: the test image being fed into the network to produce the feature maps\n",
    "# tf_activation: should be a tf variable name used during your training procedure that represents the calculated state of a specific weight layer\n",
    "# activation_min/max: can be used to view the activation contrast in more detail, by default matplot sets min and max to the actual min and max values of the output\n",
    "# plt_num: used to plot out multiple different weight feature map sets on the same block, just extend the plt number for each new feature map entry\n",
    "\n",
    "def outputFeatureMap(image_input, tf_activation, activation_min=-1, activation_max=-1 ,plt_num=1):\n",
    "    # Here make sure to preprocess your image_input in a way your network expects\n",
    "    # with size, normalization, ect if needed\n",
    "    # image_input =\n",
    "    # Note: x should be the same name as your network's tensorflow data placeholder variable\n",
    "    # If you get an error tf_activation is not defined it maybe having trouble accessing the variable from inside a function\n",
    "    activation = tf_activation.eval(session=sess,feed_dict={x : image_input})\n",
    "    featuremaps = activation.shape[3]\n",
    "    plt.figure(plt_num, figsize=(15,15))\n",
    "    for featuremap in range(featuremaps):\n",
    "        plt.subplot(6,8, featuremap+1) # sets the number of feature maps to show on each row and column\n",
    "        plt.title('FeatureMap ' + str(featuremap)) # displays the feature map number\n",
    "        if activation_min != -1 & activation_max != -1:\n",
    "            plt.imshow(activation[0,:,:, featuremap], interpolation=\"nearest\", vmin =activation_min, vmax=activation_max, cmap=\"gray\")\n",
    "        elif activation_max != -1:\n",
    "            plt.imshow(activation[0,:,:, featuremap], interpolation=\"nearest\", vmax=activation_max, cmap=\"gray\")\n",
    "        elif activation_min !=-1:\n",
    "            plt.imshow(activation[0,:,:, featuremap], interpolation=\"nearest\", vmin=activation_min, cmap=\"gray\")\n",
    "        else:\n",
    "            plt.imshow(activation[0,:,:, featuremap], interpolation=\"nearest\", cmap=\"gray\")"
   ]
  },
  {
   "cell_type": "markdown",
   "metadata": {
    "deletable": true,
    "editable": true
   },
   "source": [
    "### Question 9\n",
    "\n",
    "Discuss how you used the visual output of your trained network's feature maps to show that it had learned to look for interesting characteristics in traffic sign images\n"
   ]
  },
  {
   "cell_type": "markdown",
   "metadata": {
    "deletable": true,
    "editable": true
   },
   "source": [
    "**Answer:**"
   ]
  },
  {
   "cell_type": "markdown",
   "metadata": {
    "deletable": true,
    "editable": true
   },
   "source": [
    "> **Note**: Once you have completed all of the code implementations and successfully answered each question above, you may finalize your work by exporting the iPython Notebook as an HTML document. You can do this by using the menu above and navigating to  \\n\",\n",
    "    \"**File -> Download as -> HTML (.html)**. Include the finished document along with this notebook as your submission."
   ]
  },
  {
   "cell_type": "markdown",
   "metadata": {
    "deletable": true,
    "editable": true
   },
   "source": [
    "### Project Writeup\n",
    "\n",
    "Once you have completed the code implementation, document your results in a project writeup using this [template](https://github.com/udacity/CarND-Traffic-Sign-Classifier-Project/blob/master/writeup_template.md) as a guide. The writeup can be in a markdown or pdf file. "
   ]
  }
 ],
 "metadata": {
  "anaconda-cloud": {},
  "kernelspec": {
   "display_name": "Python 3",
   "language": "python",
   "name": "python3"
  },
  "language_info": {
   "codemirror_mode": {
    "name": "ipython",
    "version": 3
   },
   "file_extension": ".py",
   "mimetype": "text/x-python",
   "name": "python",
   "nbconvert_exporter": "python",
   "pygments_lexer": "ipython3",
   "version": "3.5.2"
  },
  "widgets": {
   "state": {},
   "version": "1.1.2"
  }
 },
 "nbformat": 4,
 "nbformat_minor": 1
}
