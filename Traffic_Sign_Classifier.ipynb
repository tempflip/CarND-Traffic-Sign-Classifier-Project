{
 "cells": [
  {
   "cell_type": "markdown",
   "metadata": {
    "deletable": true,
    "editable": true
   },
   "source": [
    "# Self-Driving Car Engineer Nanodegree\n",
    "\n",
    "## Deep Learning\n",
    "\n",
    "## Project: Build a Traffic Sign Recognition Classifier\n",
    "\n",
    "In this notebook, a template is provided for you to implement your functionality in stages, which is required to successfully complete this project. If additional code is required that cannot be included in the notebook, be sure that the Python code is successfully imported and included in your submission if necessary. \n",
    "\n",
    "> **Note**: Once you have completed all of the code implementations, you need to finalize your work by exporting the iPython Notebook as an HTML document. Before exporting the notebook to html, all of the code cells need to have been run so that reviewers can see the final implementation and output. You can then export the notebook by using the menu above and navigating to  \\n\",\n",
    "    \"**File -> Download as -> HTML (.html)**. Include the finished document along with this notebook as your submission. \n",
    "\n",
    "In addition to implementing code, there is a writeup to complete. The writeup should be completed in a separate file, which can be either a markdown file or a pdf document. There is a [write up template](https://github.com/udacity/CarND-Traffic-Sign-Classifier-Project/blob/master/writeup_template.md) that can be used to guide the writing process. Completing the code template and writeup template will cover all of the [rubric points](https://review.udacity.com/#!/rubrics/481/view) for this project.\n",
    "\n",
    "The [rubric](https://review.udacity.com/#!/rubrics/481/view) contains \"Stand Out Suggestions\" for enhancing the project beyond the minimum requirements. The stand out suggestions are optional. If you decide to pursue the \"stand out suggestions\", you can include the code in this Ipython notebook and also discuss the results in the writeup file.\n",
    "\n",
    "\n",
    ">**Note:** Code and Markdown cells can be executed using the **Shift + Enter** keyboard shortcut. In addition, Markdown cells can be edited by typically double-clicking the cell to enter edit mode."
   ]
  },
  {
   "cell_type": "markdown",
   "metadata": {
    "deletable": true,
    "editable": true
   },
   "source": [
    "---\n",
    "## Step 0: Load The Data"
   ]
  },
  {
   "cell_type": "code",
   "execution_count": 80,
   "metadata": {
    "collapsed": false,
    "deletable": true,
    "editable": true
   },
   "outputs": [],
   "source": [
    "# Load pickled data\n",
    "import pickle\n",
    "\n",
    "# TODO: Fill this in based on where you saved the training and testing data\n",
    "\n",
    "training_file = './data/traffic-signs-data/train.p'\n",
    "validation_file='./data/traffic-signs-data/valid.p'\n",
    "testing_file = './data/traffic-signs-data/test.p'\n",
    "\n",
    "with open(training_file, mode='rb') as f:\n",
    "    train = pickle.load(f)\n",
    "with open(validation_file, mode='rb') as f:\n",
    "    valid = pickle.load(f)\n",
    "with open(testing_file, mode='rb') as f:\n",
    "    test = pickle.load(f)\n",
    "    \n",
    "X_train, y_train = train['features'], train['labels']\n",
    "X_valid, y_valid = valid['features'], valid['labels']\n",
    "X_test, y_test = test['features'], test['labels']\n"
   ]
  },
  {
   "cell_type": "code",
   "execution_count": 81,
   "metadata": {
    "collapsed": false,
    "deletable": true,
    "editable": true
   },
   "outputs": [
    {
     "name": "stdout",
     "output_type": "stream",
     "text": [
      "(34799, 32, 32, 3)\n",
      "(4410, 32, 32, 3)\n",
      "(34799,)\n",
      "(4410,)\n"
     ]
    },
    {
     "data": {
      "text/plain": [
       "<matplotlib.image.AxesImage at 0x7fc3cbec96a0>"
      ]
     },
     "execution_count": 81,
     "metadata": {},
     "output_type": "execute_result"
    },
    {
     "data": {
      "image/png": "[encoded data removed]",
      "text/plain": [
       "<matplotlib.figure.Figure at 0x7fc3ee26cf60>"
      ]
     },
     "metadata": {},
     "output_type": "display_data"
    }
   ],
   "source": [
    "# discovering the format\n",
    "import matplotlib.pyplot as plt\n",
    "%matplotlib inline\n",
    "i = 10\n",
    "print (X_train.shape)\n",
    "print (X_valid.shape)\n",
    "print (y_train.shape)\n",
    "print (y_valid.shape)\n",
    "\n",
    "plt.imshow(X_train[i])\n"
   ]
  },
  {
   "cell_type": "markdown",
   "metadata": {
    "deletable": true,
    "editable": true
   },
   "source": [
    "---\n",
    "\n",
    "## Step 1: Dataset Summary & Exploration\n",
    "\n",
    "The pickled data is a dictionary with 4 key/value pairs:\n",
    "\n",
    "- `'features'` is a 4D array containing raw pixel data of the traffic sign images, (num examples, width, height, channels).\n",
    "- `'labels'` is a 1D array containing the label/class id of the traffic sign. The file `signnames.csv` contains id -> name mappings for each id.\n",
    "- `'sizes'` is a list containing tuples, (width, height) representing the the original width and height the image.\n",
    "- `'coords'` is a list containing tuples, (x1, y1, x2, y2) representing coordinates of a bounding box around the sign in the image. **THESE COORDINATES ASSUME THE ORIGINAL IMAGE. THE PICKLED DATA CONTAINS RESIZED VERSIONS (32 by 32) OF THESE IMAGES**\n",
    "\n",
    "Complete the basic data summary below. Use python, numpy and/or pandas methods to calculate the data summary rather than hard coding the results. For example, the [pandas shape method](http://pandas.pydata.org/pandas-docs/stable/generated/pandas.DataFrame.shape.html) might be useful for calculating some of the summary results. "
   ]
  },
  {
   "cell_type": "markdown",
   "metadata": {
    "deletable": true,
    "editable": true
   },
   "source": [
    "### Provide a Basic Summary of the Data Set Using Python, Numpy and/or Pandas"
   ]
  },
  {
   "cell_type": "code",
   "execution_count": 82,
   "metadata": {
    "collapsed": false,
    "deletable": true,
    "editable": true
   },
   "outputs": [
    {
     "name": "stdout",
     "output_type": "stream",
     "text": [
      "Number of training examples = 34799\n",
      "Number of testing examples = 12630\n",
      "Image data shape = (32, 32)\n",
      "Number of classes = 43\n"
     ]
    }
   ],
   "source": [
    "### Replace each question mark with the appropriate value. \n",
    "### Use python, pandas or numpy methods rather than hard coding the results\n",
    "\n",
    "# TODO: Number of training examples\n",
    "n_train = X_train.shape[0]\n",
    "\n",
    "# TODO: Number of testing examples.\n",
    "n_test = X_test.shape[0]\n",
    "\n",
    "# TODO: What's the shape of an traffic sign image?\n",
    "image_shape = X_train.shape[1], X_train.shape[2]\n",
    "\n",
    "# TODO: How many unique classes/labels there are in the dataset.\n",
    "n_classes = len(set(y_train.flatten()))\n",
    "\n",
    "print(\"Number of training examples =\", n_train)\n",
    "print(\"Number of testing examples =\", n_test)\n",
    "print(\"Image data shape =\", image_shape)\n",
    "print(\"Number of classes =\", n_classes)"
   ]
  },
  {
   "cell_type": "markdown",
   "metadata": {
    "deletable": true,
    "editable": true
   },
   "source": [
    "### Include an exploratory visualization of the dataset"
   ]
  },
  {
   "cell_type": "markdown",
   "metadata": {
    "deletable": true,
    "editable": true
   },
   "source": [
    "Visualize the German Traffic Signs Dataset using the pickled file(s). This is open ended, suggestions include: plotting traffic sign images, plotting the count of each sign, etc.\n",
    "\n",
    "The [Matplotlib](http://matplotlib.org/) [examples](http://matplotlib.org/examples/index.html) and [gallery](http://matplotlib.org/gallery.html) pages are a great resource for doing visualizations in Python.\n",
    "\n",
    "**NOTE:** It's recommended you start with something simple first. If you wish to do more, come back to it after you've completed the rest of the sections."
   ]
  },
  {
   "cell_type": "code",
   "execution_count": 83,
   "metadata": {
    "collapsed": false,
    "deletable": true,
    "editable": true
   },
   "outputs": [
    {
     "data": {
      "text/plain": [
       "<matplotlib.image.AxesImage at 0x7fc3cc355fd0>"
      ]
     },
     "execution_count": 83,
     "metadata": {},
     "output_type": "execute_result"
    },
    {
     "data": {
      "image/png": "[encoded data removed]",
      "text/plain": [
       "<matplotlib.figure.Figure at 0x7fc3ee260f98>"
      ]
     },
     "metadata": {},
     "output_type": "display_data"
    }
   ],
   "source": [
    "### Data exploration visualization code goes here.\n",
    "### Feel free to use as many code cells as needed.\n",
    "import matplotlib.pyplot as plt\n",
    "import numpy as np\n",
    "from skimage import transform\n",
    "# Visualizations will be shown in the notebook.\n",
    "%matplotlib inline\n",
    "size = 10\n",
    "img_map = {}\n",
    "for i in range(len(X_train)):\n",
    "    if (y_train[i] not in img_map) : img_map[y_train[i]] = []\n",
    "    if (len(img_map[y_train[i]]) >= size) : continue\n",
    "    img_map[y_train[i]].append(X_train[i])\n",
    "\n",
    "\n",
    "img = np.zeros((0, size * 32, 3))\n",
    "for k in img_map:\n",
    "    col = np.zeros((32,0,3))\n",
    "    for sign in img_map[k]:\n",
    "        col = np.concatenate((col, sign), axis = 1)\n",
    "    img = np.concatenate((img, col), axis = 0)\n",
    "\n",
    "plt.imshow(img)\n",
    "    "
   ]
  },
  {
   "cell_type": "markdown",
   "metadata": {
    "deletable": true,
    "editable": true
   },
   "source": [
    "----\n",
    "\n",
    "## Step 2: Design and Test a Model Architecture\n",
    "\n",
    "Design and implement a deep learning model that learns to recognize traffic signs. Train and test your model on the [German Traffic Sign Dataset](http://benchmark.ini.rub.de/?section=gtsrb&subsection=dataset).\n",
    "\n",
    "There are various aspects to consider when thinking about this problem:\n",
    "\n",
    "- Neural network architecture\n",
    "- Play around preprocessing techniques (normalization, rgb to grayscale, etc)\n",
    "- Number of examples per label (some have more than others).\n",
    "- Generate fake data.\n",
    "\n",
    "Here is an example of a [published baseline model on this problem](http://yann.lecun.com/exdb/publis/pdf/sermanet-ijcnn-11.pdf). It's not required to be familiar with the approach used in the paper but, it's good practice to try to read papers like these.\n",
    "\n",
    "**NOTE:** The LeNet-5 implementation shown in the [classroom](https://classroom.udacity.com/nanodegrees/nd013/parts/fbf77062-5703-404e-b60c-95b78b2f3f9e/modules/6df7ae49-c61c-4bb2-a23e-6527e69209ec/lessons/601ae704-1035-4287-8b11-e2c2716217ad/concepts/d4aca031-508f-4e0b-b493-e7b706120f81) at the end of the CNN lesson is a solid starting point. You'll have to change the number of classes and possibly the preprocessing, but aside from that it's plug and play!"
   ]
  },
  {
   "cell_type": "markdown",
   "metadata": {
    "deletable": true,
    "editable": true
   },
   "source": [
    "### Pre-process the Data Set (normalization, grayscale, etc.)"
   ]
  },
  {
   "cell_type": "markdown",
   "metadata": {
    "deletable": true,
    "editable": true
   },
   "source": [
    "Use the code cell (or multiple code cells, if necessary) to implement the first step of your project."
   ]
  },
  {
   "cell_type": "code",
   "execution_count": 84,
   "metadata": {
    "collapsed": false,
    "deletable": true,
    "editable": true
   },
   "outputs": [
    {
     "name": "stdout",
     "output_type": "stream",
     "text": [
      "(3000, 32, 32, 3) (500, 32, 32, 3)\n",
      "(500, 32, 32, 3) (500,)\n",
      "[[[  85.   61.   51.]\n",
      "  [ 103.   81.   63.]\n",
      "  [ 126.  105.   90.]\n",
      "  ..., \n",
      "  [  66.   68.   63.]\n",
      "  [  62.   58.   48.]\n",
      "  [  77.   67.   63.]]\n",
      "\n",
      " [[  90.   64.   55.]\n",
      "  [ 100.   79.   62.]\n",
      "  [ 120.  102.   85.]\n",
      "  ..., \n",
      "  [  66.   63.   61.]\n",
      "  [  67.   62.   56.]\n",
      "  [  82.   75.   73.]]\n",
      "\n",
      " [[  90.   62.   54.]\n",
      "  [  98.   77.   62.]\n",
      "  [ 113.   99.   84.]\n",
      "  ..., \n",
      "  [  73.   65.   62.]\n",
      "  [  71.   65.   59.]\n",
      "  [  80.   76.   73.]]\n",
      "\n",
      " ..., \n",
      " [[  65.   47.   42.]\n",
      "  [  75.   61.   52.]\n",
      "  [  87.   75.   66.]\n",
      "  ..., \n",
      "  [  78.   68.   61.]\n",
      "  [  81.   73.   68.]\n",
      "  [  84.   78.   71.]]\n",
      "\n",
      " [[  68.   48.   44.]\n",
      "  [  81.   68.   62.]\n",
      "  [  73.   67.   61.]\n",
      "  ..., \n",
      "  [  96.   88.   81.]\n",
      "  [  93.   88.   84.]\n",
      "  [  86.   84.   79.]]\n",
      "\n",
      " [[  60.   49.   47.]\n",
      "  [  66.   60.   56.]\n",
      "  [  56.   56.   52.]\n",
      "  ..., \n",
      "  [  56.   52.   44.]\n",
      "  [  54.   51.   48.]\n",
      "  [  52.   50.   47.]]]\n"
     ]
    }
   ],
   "source": [
    "### Preprocess the data here. Preprocessing steps could include normalization, converting to grayscale, etc.\n",
    "### Feel free to use as many code cells as needed.\n",
    "from sklearn.utils import shuffle\n",
    "import cv2\n",
    "n = len(X_train)\n",
    "nv = len(X_valid)\n",
    "n = 3000\n",
    "nv = 500\n",
    "\n",
    "X_train, y_train = shuffle(X_train, y_train)\n",
    "X_valid, y_valid = shuffle(X_valid, y_valid)\n",
    "\n",
    "\n",
    "xt = np.array(X_train, dtype=np.float32)[:n]\n",
    "yt = y_train[:n]\n",
    "\n",
    "xv = np.array(X_valid, dtype=np.float32)[:nv]\n",
    "yv =  y_valid[:nv]\n",
    "\n",
    "print(xt.shape, xv.shape)\n",
    "print(xv.shape, yv.shape)\n",
    "\n",
    "print(xt[10])\n"
   ]
  },
  {
   "cell_type": "markdown",
   "metadata": {
    "deletable": true,
    "editable": true
   },
   "source": [
    "### Model Architecture"
   ]
  },
  {
   "cell_type": "code",
   "execution_count": 85,
   "metadata": {
    "collapsed": false,
    "deletable": true,
    "editable": true
   },
   "outputs": [
    {
     "name": "stdout",
     "output_type": "stream",
     "text": [
      "Tensor(\"Add_42:0\", shape=(1, 43), dtype=float32)\n"
     ]
    }
   ],
   "source": [
    "import tensorflow as tf\n",
    "### Define your architecture here.\n",
    "### Feel free to use as many code cells as needed.\n",
    "\n",
    "\n",
    "def model(x):\n",
    "    #convolutional layer #1\n",
    "    L1_w =  tf.Variable(tf.random_normal([4,4,3,60]))\n",
    "    L1_b = tf.Variable(tf.random_normal([60]))\n",
    "    conv1 = tf.nn.conv2d(x, L1_w, [1,1,1,1], 'VALID') + L1_b\n",
    "    relu1 = tf.nn.relu(conv1)\n",
    "    pool1 = tf.nn.max_pool(relu1, [1,2,2,1], [1,2,2,1], 'VALID')\n",
    "    \n",
    "        \n",
    "    L2_w = tf.Variable(tf.random_normal([4,4,60,120]))\n",
    "    L2_b = tf.Variable(tf.random_normal([120]))\n",
    "    conv2 = tf.nn.conv2d(pool1, L2_w, [1,1,1,1], 'VALID') + L2_b\n",
    "    relu2 = tf.nn.relu(conv2)\n",
    "    pool2 = tf.nn.max_pool(relu2, [1,2,2,1], [1,2,2,1], 'VALID')  \n",
    "      \n",
    "    L3_w = tf.Variable(tf.random_normal([3,3,120,240]))\n",
    "    L3_b = tf.Variable(tf.random_normal([240]))\n",
    "    conv3 = tf.nn.conv2d(pool2, L3_w, [1,1,1,1], 'VALID') + L3_b\n",
    "    relu3 = tf.nn.relu(conv3)\n",
    "    pool3 = tf.nn.max_pool(relu3, [1,2,2,1], [1,2,2,1], 'VALID') \n",
    "\n",
    "    \n",
    "    flat =tf.contrib.layers.flatten(pool3)\n",
    "\n",
    "    \n",
    "    F1_w = tf.Variable(tf.random_normal([240,120]))\n",
    "    F1_b = tf.Variable(tf.random_normal([120]))\n",
    "    \n",
    "    full1 = tf.add(tf.matmul(flat, F1_w), F1_b)\n",
    "    \n",
    "    F2_w = tf.Variable(tf.random_normal([120, 60]))\n",
    "    F2_b = tf.Variable(tf.random_normal([60]))\n",
    "    full2 = tf.add(tf.matmul(full1, F2_w), F2_b)\n",
    "    \n",
    "    \n",
    "    F3_w = tf.Variable(tf.random_normal([60, 43]))\n",
    "    F3_b = tf.Variable(tf.random_normal([43]))\n",
    "    full3 = tf.add(tf.matmul(full2, F3_w), F3_b)\n",
    "    return full3\n",
    "    \n",
    "\n",
    "\n",
    "print (model(np.array(X_train[1], dtype=np.float32).reshape(1,32,32,3)))"
   ]
  },
  {
   "cell_type": "markdown",
   "metadata": {
    "deletable": true,
    "editable": true
   },
   "source": [
    "### Train, Validate and Test the Model"
   ]
  },
  {
   "cell_type": "markdown",
   "metadata": {
    "deletable": true,
    "editable": true
   },
   "source": [
    "A validation set can be used to assess how well the model is performing. A low accuracy on the training and validation\n",
    "sets imply underfitting. A high accuracy on the training set but low accuracy on the validation set implies overfitting."
   ]
  },
  {
   "cell_type": "code",
   "execution_count": null,
   "metadata": {
    "collapsed": true,
    "deletable": true,
    "editable": true
   },
   "outputs": [],
   "source": []
  },
  {
   "cell_type": "code",
   "execution_count": 86,
   "metadata": {
    "collapsed": false,
    "deletable": true,
    "editable": true
   },
   "outputs": [],
   "source": [
    "### Train your model here.\n",
    "### Calculate and report the accuracy on the training and validation set.\n",
    "### Once a final model architecture is selected, \n",
    "### the accuracy on the test set should be calculated and reported as well.\n",
    "### Feel free to use as many code cells as needed.\n",
    "x = tf.placeholder(tf.float32, (None, 32, 32, 3), name=\"X_train\")\n",
    "y = tf.placeholder(tf.int32, (None), name=\"y_train\")\n",
    "one_hot_y = tf.one_hot(y, 43, name = 'one_hot')\n",
    "\n",
    "rate = 0.01\n",
    "logits = model(x)\n",
    "# cost and optimizer\n",
    "cross_entropy = tf.nn.softmax_cross_entropy_with_logits(logits = logits, labels = one_hot_y, name=\"entropy\")\n",
    "cost = tf.reduce_mean(cross_entropy, name=\"cost\")\n",
    "optimizer = tf.train.AdamOptimizer(learning_rate = rate, name=\"optimizer\").minimize(cost)\n",
    "\n",
    "correct_pred = tf.equal(tf.argmax(logits, 1), tf.argmax(one_hot_y, 1))\n",
    "accuracy = tf.reduce_mean(tf.cast(correct_pred, tf.float32))\n",
    "\n"
   ]
  },
  {
   "cell_type": "code",
   "execution_count": 99,
   "metadata": {
    "collapsed": false,
    "deletable": true,
    "editable": true
   },
   "outputs": [
    {
     "name": "stdout",
     "output_type": "stream",
     "text": [
      "starting...\n",
      "run...\n",
      "Epoch: 0/60\t Batch : 0/7\t loss: 917926784.0\t acc: 0.0024999999441206455 0.00800000037997961\n",
      "Epoch: 0/60\t Batch : 1/7\t loss: 796969984.0\t acc: 0.008760951459407806 0.006000000052154064\n",
      "Epoch: 0/60\t Batch : 2/7\t loss: 572470464.0\t acc: 0.05258764326572418 0.06600000709295273\n",
      "Epoch: 0/60\t Batch : 3/7\t loss: 532843616.0\t acc: 0.055729493498802185 0.03800000250339508\n",
      "Epoch: 0/60\t Batch : 4/7\t loss: 535248448.0\t acc: 0.04058115929365158 0.04400000348687172\n",
      "Epoch: 0/60\t Batch : 5/7\t loss: 479455872.0\t acc: 0.05511482059955597 0.08799999952316284\n",
      "Epoch: 0/60\t Batch : 6/7\t loss: 420235552.0\t acc: 0.051896918565034866 0.04800000414252281\n",
      "Epoch: 1/60\t Batch : 0/7\t loss: 375224256.0\t acc: 0.057499997317790985 0.05800000578165054\n",
      "Epoch: 1/60\t Batch : 1/7\t loss: 331999680.0\t acc: 0.08510638773441315 0.09200000017881393\n",
      "Epoch: 1/60\t Batch : 2/7\t loss: 315273152.0\t acc: 0.09098497033119202 0.09400000423192978\n",
      "Epoch: 1/60\t Batch : 3/7\t loss: 263763664.0\t acc: 0.08766437321901321 0.10400000959634781\n",
      "Epoch: 1/60\t Batch : 4/7\t loss: 247175136.0\t acc: 0.06863727420568466 0.07999999821186066\n",
      "Epoch: 1/60\t Batch : 5/7\t loss: 228862176.0\t acc: 0.08225469291210175 0.08799999952316284\n",
      "Epoch: 1/60\t Batch : 6/7\t loss: 185599568.0\t acc: 0.10021474212408066 0.09800000488758087\n",
      "Epoch: 2/60\t Batch : 0/7\t loss: 137065472.0\t acc: 0.13249999284744263 0.10399999469518661\n",
      "Epoch: 2/60\t Batch : 1/7\t loss: 130968432.0\t acc: 0.14142678678035736 0.15199999511241913\n",
      "Epoch: 2/60\t Batch : 2/7\t loss: 128168144.0\t acc: 0.14106842875480652 0.15199999511241913\n",
      "Epoch: 2/60\t Batch : 3/7\t loss: 117406240.0\t acc: 0.1377582848072052 0.14800000190734863\n",
      "Epoch: 2/60\t Batch : 4/7\t loss: 108183720.0\t acc: 0.13326653838157654 0.13199999928474426\n",
      "Epoch: 2/60\t Batch : 5/7\t loss: 104146696.0\t acc: 0.1131523922085762 0.10999999195337296\n",
      "Epoch: 2/60\t Batch : 6/7\t loss: 100377912.0\t acc: 0.10522548109292984 0.09799999743700027\n",
      "Epoch: 3/60\t Batch : 0/7\t loss: 79906304.0\t acc: 0.1599999964237213 0.1120000034570694\n",
      "Epoch: 3/60\t Batch : 1/7\t loss: 76194488.0\t acc: 0.1576971411705017 0.12200000137090683\n",
      "Epoch: 3/60\t Batch : 2/7\t loss: 67048496.0\t acc: 0.18948246538639069 0.1420000195503235\n",
      "Epoch: 3/60\t Batch : 3/7\t loss: 62441672.0\t acc: 0.199123352766037 0.17000000178813934\n",
      "Epoch: 3/60\t Batch : 4/7\t loss: 63802068.0\t acc: 0.19088175892829895 0.17999999225139618\n",
      "Epoch: 3/60\t Batch : 5/7\t loss: 62181440.0\t acc: 0.19457200169563293 0.18199999630451202\n",
      "Epoch: 3/60\t Batch : 6/7\t loss: 57794940.0\t acc: 0.19863994419574738 0.19199998676776886\n",
      "Epoch: 4/60\t Batch : 0/7\t loss: 46481300.0\t acc: 0.20999997854232788 0.20400001108646393\n",
      "Epoch: 4/60\t Batch : 1/7\t loss: 48261876.0\t acc: 0.21526911854743958 0.20800000429153442\n",
      "Epoch: 4/60\t Batch : 2/7\t loss: 46070760.0\t acc: 0.21869783103466034 0.2120000123977661\n",
      "Epoch: 4/60\t Batch : 3/7\t loss: 43966832.0\t acc: 0.2235441505908966 0.22200000286102295\n",
      "Epoch: 4/60\t Batch : 4/7\t loss: 43352868.0\t acc: 0.23096191883087158 0.2200000137090683\n",
      "Epoch: 4/60\t Batch : 5/7\t loss: 41325848.0\t acc: 0.23966597020626068 0.22600002586841583\n",
      "Epoch: 4/60\t Batch : 6/7\t loss: 38256008.0\t acc: 0.2551896870136261 0.25599998235702515\n",
      "Epoch: 5/60\t Batch : 0/7\t loss: 30952406.0\t acc: 0.29499998688697815 0.25999999046325684\n",
      "Epoch: 5/60\t Batch : 1/7\t loss: 31830816.0\t acc: 0.2866082787513733 0.27399998903274536\n",
      "Epoch: 5/60\t Batch : 2/7\t loss: 30318692.0\t acc: 0.2963272035121918 0.28199997544288635\n",
      "Epoch: 5/60\t Batch : 3/7\t loss: 29672864.0\t acc: 0.30118975043296814 0.27399998903274536\n",
      "Epoch: 5/60\t Batch : 4/7\t loss: 29450712.0\t acc: 0.30260521173477173 0.27399998903274536\n",
      "Epoch: 5/60\t Batch : 5/7\t loss: 28423814.0\t acc: 0.30855950713157654 0.2879999876022339\n",
      "Epoch: 5/60\t Batch : 6/7\t loss: 27320998.0\t acc: 0.3138868808746338 0.2879999876022339\n",
      "Epoch: 6/60\t Batch : 0/7\t loss: 20322730.0\t acc: 0.3700000047683716 0.29999998211860657\n",
      "Epoch: 6/60\t Batch : 1/7\t loss: 21890686.0\t acc: 0.3529411554336548 0.3059999942779541\n",
      "Epoch: 6/60\t Batch : 2/7\t loss: 21469852.0\t acc: 0.35308849811553955 0.3199999928474426\n",
      "Epoch: 6/60\t Batch : 3/7\t loss: 21693512.0\t acc: 0.34690043330192566 0.3240000009536743\n",
      "Epoch: 6/60\t Batch : 4/7\t loss: 21909184.0\t acc: 0.3486974239349365 0.3179999887943268\n",
      "Epoch: 6/60\t Batch : 5/7\t loss: 21453822.0\t acc: 0.3594989478588104 0.31800001859664917\n",
      "Epoch: 6/60\t Batch : 6/7\t loss: 20902432.0\t acc: 0.36542588472366333 0.320000022649765\n",
      "Epoch: 7/60\t Batch : 0/7\t loss: 14349923.0\t acc: 0.42750000953674316 0.32200002670288086\n",
      "Epoch: 7/60\t Batch : 1/7\t loss: 16322686.0\t acc: 0.4030037820339203 0.32199999690055847\n",
      "Epoch: 7/60\t Batch : 2/7\t loss: 15604849.0\t acc: 0.4156927764415741 0.3319999873638153\n",
      "Epoch: 7/60\t Batch : 3/7\t loss: 15931529.0\t acc: 0.41014403104782104 0.33400002121925354\n",
      "Epoch: 7/60\t Batch : 4/7\t loss: 16442391.0\t acc: 0.40731462836265564 0.3319999873638153\n",
      "Epoch: 7/60\t Batch : 5/7\t loss: 16672096.0\t acc: 0.42087680101394653 0.3279999792575836\n",
      "Epoch: 7/60\t Batch : 6/7\t loss: 16684403.0\t acc: 0.41839656233787537 0.335999995470047\n",
      "Epoch: 8/60\t Batch : 0/7\t loss: 10608138.0\t acc: 0.5149999260902405 0.3479999899864197\n",
      "Epoch: 8/60\t Batch : 1/7\t loss: 11906644.0\t acc: 0.5018773674964905 0.3540000021457672\n",
      "Epoch: 8/60\t Batch : 2/7\t loss: 11597388.0\t acc: 0.5075125098228455 0.3619999885559082\n",
      "Epoch: 8/60\t Batch : 3/7\t loss: 12141919.0\t acc: 0.48465871810913086 0.3659999668598175\n",
      "Epoch: 8/60\t Batch : 4/7\t loss: 12760250.0\t acc: 0.4749498963356018 0.3619999885559082\n",
      "Epoch: 8/60\t Batch : 5/7\t loss: 13083770.0\t acc: 0.4672233760356903 0.35600000619888306\n",
      "Epoch: 8/60\t Batch : 6/7\t loss: 13272305.0\t acc: 0.46170365810394287 0.3659999966621399\n",
      "Epoch: 9/60\t Batch : 0/7\t loss: 6959704.5\t acc: 0.5974999666213989 0.3700000047683716\n",
      "Epoch: 9/60\t Batch : 1/7\t loss: 8418484.0\t acc: 0.5644556283950806 0.3659999966621399\n",
      "Epoch: 9/60\t Batch : 2/7\t loss: 8431696.0\t acc: 0.5584306716918945 0.36400002241134644\n",
      "Epoch: 9/60\t Batch : 3/7\t loss: 9150141.0\t acc: 0.5335003137588501 0.3659999966621399\n",
      "Epoch: 9/60\t Batch : 4/7\t loss: 9733391.0\t acc: 0.5205410718917847 0.36400002241134644\n",
      "Epoch: 9/60\t Batch : 5/7\t loss: 10249706.0\t acc: 0.5131524205207825 0.36399999260902405\n",
      "Epoch: 9/60\t Batch : 6/7\t loss: 10615244.0\t acc: 0.5064423680305481 0.37199997901916504\n",
      "Epoch: 10/60\t Batch : 0/7\t loss: 4657497.0\t acc: 0.6775000095367432 0.37400001287460327\n",
      "Epoch: 10/60\t Batch : 1/7\t loss: 5932885.0\t acc: 0.6320400238037109 0.3720000088214874\n",
      "Epoch: 10/60\t Batch : 2/7\t loss: 6233512.5\t acc: 0.6135225296020508 0.36800000071525574\n",
      "Epoch: 10/60\t Batch : 3/7\t loss: 6982241.5\t acc: 0.5804634094238281 0.36800000071525574\n",
      "Epoch: 10/60\t Batch : 4/7\t loss: 7569750.0\t acc: 0.5741482973098755 0.3700000047683716\n",
      "Epoch: 10/60\t Batch : 5/7\t loss: 8076148.5\t acc: 0.5653444528579712 0.37599998712539673\n",
      "Epoch: 10/60\t Batch : 6/7\t loss: 8454770.0\t acc: 0.5529706478118896 0.38600000739097595\n",
      "Epoch: 11/60\t Batch : 0/7\t loss: 3087967.0\t acc: 0.7374999523162842 0.3879999816417694\n",
      "Epoch: 11/60\t Batch : 1/7\t loss: 4177037.0\t acc: 0.6808511018753052 0.3839999735355377\n",
      "Epoch: 11/60\t Batch : 2/7\t loss: 4436497.5\t acc: 0.6727879643440247 0.39800000190734863\n",
      "Epoch: 11/60\t Batch : 3/7\t loss: 5172546.5\t acc: 0.6462116241455078 0.40400001406669617\n",
      "Epoch: 11/60\t Batch : 4/7\t loss: 5826721.5\t acc: 0.6352705359458923 0.40800002217292786\n",
      "Epoch: 11/60\t Batch : 5/7\t loss: 6468765.5\t acc: 0.6250522136688232 0.40800002217292786\n",
      "Epoch: 11/60\t Batch : 6/7\t loss: 7010970.0\t acc: 0.609162449836731 0.406000018119812\n",
      "Epoch: 12/60\t Batch : 0/7\t loss: 2083870.25\t acc: 0.8049999475479126 0.40799999237060547\n",
      "Epoch: 12/60\t Batch : 1/7\t loss: 3008001.5\t acc: 0.7459324598312378 0.40799999237060547\n",
      "Epoch: 12/60\t Batch : 2/7\t loss: 3323919.75\t acc: 0.7287144660949707 0.40799999237060547\n",
      "Epoch: 12/60\t Batch : 3/7\t loss: 4021448.5\t acc: 0.7069505453109741 0.4179999828338623\n",
      "Epoch: 12/60\t Batch : 4/7\t loss: 4658480.0\t acc: 0.6823647022247314 0.4180000424385071\n",
      "Epoch: 12/60\t Batch : 5/7\t loss: 5379796.5\t acc: 0.6626304984092712 0.4259999990463257\n",
      "Epoch: 12/60\t Batch : 6/7\t loss: 5963235.0\t acc: 0.643521785736084 0.4240000247955322\n",
      "Epoch: 13/60\t Batch : 0/7\t loss: 1555367.25\t acc: 0.8500000238418579 0.41200000047683716\n",
      "Epoch: 13/60\t Batch : 1/7\t loss: 2300731.0\t acc: 0.7947434782981873 0.41600000858306885\n",
      "Epoch: 13/60\t Batch : 2/7\t loss: 2594656.25\t acc: 0.7637729048728943 0.40400004386901855\n",
      "Epoch: 13/60\t Batch : 3/7\t loss: 3272621.0\t acc: 0.7489042282104492 0.41200000047683716\n",
      "Epoch: 13/60\t Batch : 4/7\t loss: 3817951.0\t acc: 0.7264528274536133 0.4180000126361847\n",
      "Epoch: 13/60\t Batch : 5/7\t loss: 4516427.0\t acc: 0.7018789649009705 0.4280000329017639\n",
      "Epoch: 13/60\t Batch : 6/7\t loss: 5173441.0\t acc: 0.6707229614257812 0.4360000491142273\n",
      "Epoch: 14/60\t Batch : 0/7\t loss: 1221336.125\t acc: 0.8549999594688416 0.4439999759197235\n",
      "Epoch: 14/60\t Batch : 1/7\t loss: 1784829.25\t acc: 0.8197748064994812 0.4300000071525574\n",
      "Epoch: 14/60\t Batch : 2/7\t loss: 2031606.25\t acc: 0.8055091500282288 0.421999990940094\n",
      "Epoch: 14/60\t Batch : 3/7\t loss: 2686787.5\t acc: 0.7783344388008118 0.41600000858306885\n",
      "Epoch: 14/60\t Batch : 4/7\t loss: 3188824.0\t acc: 0.7520039677619934 0.42399999499320984\n",
      "Epoch: 14/60\t Batch : 5/7\t loss: 3816955.5\t acc: 0.7344468235969543 0.43400001525878906\n",
      "Epoch: 14/60\t Batch : 6/7\t loss: 4436470.5\t acc: 0.7015031576156616 0.43400001525878906\n",
      "Epoch: 15/60\t Batch : 0/7\t loss: 916918.0\t acc: 0.877500057220459 0.4359999895095825\n",
      "Epoch: 15/60\t Batch : 1/7\t loss: 1425597.625\t acc: 0.8423029184341431 0.4440000057220459\n",
      "Epoch: 15/60\t Batch : 2/7\t loss: 1620615.75\t acc: 0.831385612487793 0.4399999976158142\n",
      "Epoch: 15/60\t Batch : 3/7\t loss: 2183068.0\t acc: 0.8071383833885193 0.4399999976158142\n",
      "Epoch: 15/60\t Batch : 4/7\t loss: 2616258.75\t acc: 0.7720440626144409 0.43199998140335083\n",
      "Epoch: 15/60\t Batch : 5/7\t loss: 3235270.25\t acc: 0.7465553283691406 0.429999977350235\n",
      "Epoch: 15/60\t Batch : 6/7\t loss: 3792991.5\t acc: 0.725125253200531 0.437999963760376\n",
      "Epoch: 16/60\t Batch : 0/7\t loss: 639536.25\t acc: 0.9025000929832458 0.4440000057220459\n",
      "Epoch: 16/60\t Batch : 1/7\t loss: 1097324.375\t acc: 0.8535670638084412 0.4399999976158142\n",
      "Epoch: 16/60\t Batch : 2/7\t loss: 1291749.375\t acc: 0.8430717587471008 0.4359999895095825\n",
      "Epoch: 16/60\t Batch : 3/7\t loss: 1796731.375\t acc: 0.8184095621109009 0.4320000410079956\n",
      "Epoch: 16/60\t Batch : 4/7\t loss: 2101134.25\t acc: 0.7940881252288818 0.4320000112056732\n",
      "Epoch: 16/60\t Batch : 5/7\t loss: 2684943.5\t acc: 0.7803757786750793 0.4320000410079956\n",
      "Epoch: 16/60\t Batch : 6/7\t loss: 3273597.25\t acc: 0.7458840012550354 0.44200000166893005\n",
      "Epoch: 17/60\t Batch : 0/7\t loss: 444762.21875\t acc: 0.9100000262260437 0.4359999895095825\n",
      "Epoch: 17/60\t Batch : 1/7\t loss: 815219.5625\t acc: 0.8823530077934265 0.44200000166893005\n",
      "Epoch: 17/60\t Batch : 2/7\t loss: 999613.8125\t acc: 0.8639398813247681 0.44200000166893005\n",
      "Epoch: 17/60\t Batch : 3/7\t loss: 1395350.375\t acc: 0.8365685939788818 0.4439999759197235\n",
      "Epoch: 17/60\t Batch : 4/7\t loss: 1651589.125\t acc: 0.8146292567253113 0.44999995827674866\n",
      "Epoch: 17/60\t Batch : 5/7\t loss: 2206271.25\t acc: 0.7954071760177612 0.45399996638298035\n",
      "Epoch: 17/60\t Batch : 6/7\t loss: 2748165.0\t acc: 0.767000675201416 0.4519999921321869\n",
      "Epoch: 18/60\t Batch : 0/7\t loss: 229858.4375\t acc: 0.9300000667572021 0.45399999618530273\n",
      "Epoch: 18/60\t Batch : 1/7\t loss: 543110.4375\t acc: 0.897371768951416 0.44200000166893005\n",
      "Epoch: 18/60\t Batch : 2/7\t loss: 755709.5625\t acc: 0.8772954344749451 0.45000001788139343\n",
      "Epoch: 18/60\t Batch : 3/7\t loss: 1084299.75\t acc: 0.859736979007721 0.4520000219345093\n",
      "Epoch: 18/60\t Batch : 4/7\t loss: 1298393.0\t acc: 0.8406813144683838 0.4580000042915344\n",
      "Epoch: 18/60\t Batch : 5/7\t loss: 1814229.125\t acc: 0.8121085166931152 0.46799999475479126\n",
      "Epoch: 18/60\t Batch : 6/7\t loss: 2340313.5\t acc: 0.7788117527961731 0.46399998664855957\n",
      "Epoch: 19/60\t Batch : 0/7\t loss: 158885.328125\t acc: 0.9449999928474426 0.4580000042915344\n",
      "Epoch: 19/60\t Batch : 1/7\t loss: 368138.03125\t acc: 0.918648362159729 0.46000000834465027\n",
      "Epoch: 19/60\t Batch : 2/7\t loss: 561743.1875\t acc: 0.9040066003799438 0.4660000205039978\n",
      "Epoch: 19/60\t Batch : 3/7\t loss: 836694.8125\t acc: 0.8778960704803467 0.4619999825954437\n",
      "Epoch: 19/60\t Batch : 4/7\t loss: 1038349.0625\t acc: 0.8557113409042358 0.4660000205039978\n",
      "Epoch: 19/60\t Batch : 5/7\t loss: 1487585.25\t acc: 0.8417536616325378 0.4659999907016754\n",
      "Epoch: 19/60\t Batch : 6/7\t loss: 1974005.75\t acc: 0.7995704412460327 0.46399998664855957\n",
      "Epoch: 20/60\t Batch : 0/7\t loss: 121330.28125\t acc: 0.9450000524520874 0.46399998664855957\n",
      "Epoch: 20/60\t Batch : 1/7\t loss: 274811.25\t acc: 0.9311639666557312 0.4620000123977661\n",
      "Epoch: 20/60\t Batch : 2/7\t loss: 461870.1875\t acc: 0.9123539328575134 0.46400001645088196\n",
      "Epoch: 20/60\t Batch : 3/7\t loss: 664510.6875\t acc: 0.8935503959655762 0.4620000123977661\n",
      "Epoch: 20/60\t Batch : 4/7\t loss: 836972.8125\t acc: 0.8767535090446472 0.4740000069141388\n",
      "Epoch: 20/60\t Batch : 5/7\t loss: 1250566.875\t acc: 0.8563674688339233 0.46799999475479126\n",
      "Epoch: 20/60\t Batch : 6/7\t loss: 1719392.625\t acc: 0.8260558247566223 0.46399998664855957\n",
      "Epoch: 21/60\t Batch : 0/7\t loss: 77939.359375\t acc: 0.9649999737739563 0.47999998927116394\n",
      "Epoch: 21/60\t Batch : 1/7\t loss: 200424.140625\t acc: 0.9336671829223633 0.4700000286102295\n",
      "Epoch: 21/60\t Batch : 2/7\t loss: 376173.78125\t acc: 0.9190317392349243 0.48000001907348633\n",
      "Epoch: 21/60\t Batch : 3/7\t loss: 536877.3125\t acc: 0.9079524278640747 0.4779999852180481\n",
      "Epoch: 21/60\t Batch : 4/7\t loss: 707429.4375\t acc: 0.8877755403518677 0.47600001096725464\n",
      "Epoch: 21/60\t Batch : 5/7\t loss: 1078082.75\t acc: 0.8638831377029419 0.48399999737739563\n",
      "Epoch: 21/60\t Batch : 6/7\t loss: 1539448.5\t acc: 0.829276978969574 0.49000000953674316\n",
      "Epoch: 22/60\t Batch : 0/7\t loss: 56894.2578125\t acc: 0.9549999237060547 0.4820000231266022\n",
      "Epoch: 22/60\t Batch : 1/7\t loss: 147267.875\t acc: 0.9436796307563782 0.4880000054836273\n",
      "Epoch: 22/60\t Batch : 2/7\t loss: 288413.90625\t acc: 0.9373956918716431 0.4780000150203705\n",
      "Epoch: 22/60\t Batch : 3/7\t loss: 446258.625\t acc: 0.9204759001731873 0.47199997305870056\n",
      "Epoch: 22/60\t Batch : 4/7\t loss: 598908.375\t acc: 0.8997995853424072 0.47599998116493225\n",
      "Epoch: 22/60\t Batch : 5/7\t loss: 924940.0\t acc: 0.8801671266555786 0.4780000150203705\n",
      "Epoch: 22/60\t Batch : 6/7\t loss: 1342151.75\t acc: 0.8511094450950623 0.484000027179718\n",
      "Epoch: 23/60\t Batch : 0/7\t loss: 39146.125\t acc: 0.9699999690055847 0.48600003123283386\n",
      "Epoch: 23/60\t Batch : 1/7\t loss: 119438.0625\t acc: 0.9574469327926636 0.49199995398521423\n",
      "Epoch: 23/60\t Batch : 2/7\t loss: 242100.5\t acc: 0.9432386755943298 0.4899999797344208\n",
      "Epoch: 23/60\t Batch : 3/7\t loss: 379363.5\t acc: 0.9267376661300659 0.4880000054836273\n",
      "Epoch: 23/60\t Batch : 4/7\t loss: 505171.6875\t acc: 0.9123246073722839 0.4880000054836273\n",
      "Epoch: 23/60\t Batch : 5/7\t loss: 799380.75\t acc: 0.8872652649879456 0.492000013589859\n",
      "Epoch: 23/60\t Batch : 6/7\t loss: 1205412.625\t acc: 0.8546886444091797 0.4959999918937683\n",
      "Epoch: 24/60\t Batch : 0/7\t loss: 37620.8125\t acc: 0.9699999094009399 0.5\n",
      "Epoch: 24/60\t Batch : 1/7\t loss: 108069.421875\t acc: 0.961201548576355 0.4920000433921814\n",
      "Epoch: 24/60\t Batch : 2/7\t loss: 219111.578125\t acc: 0.9499163627624512 0.4880000054836273\n",
      "Epoch: 24/60\t Batch : 3/7\t loss: 342971.71875\t acc: 0.9311208724975586 0.49199995398521423\n",
      "Epoch: 24/60\t Batch : 4/7\t loss: 456929.09375\t acc: 0.914829671382904 0.49799996614456177\n",
      "Epoch: 24/60\t Batch : 5/7\t loss: 698164.0625\t acc: 0.9014614224433899 0.4959999620914459\n",
      "Epoch: 24/60\t Batch : 6/7\t loss: 1067550.875\t acc: 0.8761631846427917 0.49399998784065247\n",
      "Epoch: 25/60\t Batch : 0/7\t loss: 29002.66796875\t acc: 0.9799998998641968 0.5059999823570251\n",
      "Epoch: 25/60\t Batch : 1/7\t loss: 106476.859375\t acc: 0.9536921977996826 0.5019999742507935\n",
      "Epoch: 25/60\t Batch : 2/7\t loss: 193934.46875\t acc: 0.9490817189216614 0.5039999485015869\n",
      "Epoch: 25/60\t Batch : 3/7\t loss: 287812.8125\t acc: 0.938008725643158 0.5019999742507935\n",
      "Epoch: 25/60\t Batch : 4/7\t loss: 399196.09375\t acc: 0.9113226532936096 0.5000000596046448\n",
      "Epoch: 25/60\t Batch : 5/7\t loss: 649324.0\t acc: 0.8997913002967834 0.5080000162124634\n",
      "Epoch: 25/60\t Batch : 6/7\t loss: 978145.8125\t acc: 0.8851109743118286 0.5019999742507935\n",
      "Epoch: 26/60\t Batch : 0/7\t loss: 18029.07421875\t acc: 0.9874999523162842 0.5019999742507935\n",
      "Epoch: 26/60\t Batch : 1/7\t loss: 104617.65625\t acc: 0.9561952948570251 0.4960000514984131\n",
      "Epoch: 26/60\t Batch : 2/7\t loss: 192792.171875\t acc: 0.9474123120307922 0.5079999566078186\n",
      "Epoch: 26/60\t Batch : 3/7\t loss: 263460.75\t acc: 0.9411396384239197 0.5099999904632568\n",
      "Epoch: 26/60\t Batch : 4/7\t loss: 365162.0\t acc: 0.9223447442054749 0.5\n",
      "Epoch: 26/60\t Batch : 5/7\t loss: 598057.4375\t acc: 0.8926931619644165 0.4999999403953552\n",
      "Epoch: 26/60\t Batch : 6/7\t loss: 878653.5625\t acc: 0.8908374905586243 0.5019999742507935\n",
      "Epoch: 27/60\t Batch : 0/7\t loss: 16546.599609375\t acc: 0.9849998950958252 0.5079999566078186\n",
      "Epoch: 27/60\t Batch : 1/7\t loss: 94080.15625\t acc: 0.9549437761306763 0.49800002574920654\n",
      "Epoch: 27/60\t Batch : 2/7\t loss: 172460.890625\t acc: 0.9432386159896851 0.5019999742507935\n",
      "Epoch: 27/60\t Batch : 3/7\t loss: 231012.3125\t acc: 0.9511584043502808 0.5059999823570251\n",
      "Epoch: 27/60\t Batch : 4/7\t loss: 303987.25\t acc: 0.9273546934127808 0.5059999823570251\n",
      "Epoch: 27/60\t Batch : 5/7\t loss: 530393.5\t acc: 0.895198404788971 0.5040000677108765\n",
      "Epoch: 27/60\t Batch : 6/7\t loss: 800706.5625\t acc: 0.8897638320922852 0.5099999904632568\n",
      "Epoch: 28/60\t Batch : 0/7\t loss: 6939.64990234375\t acc: 0.9899998903274536 0.515999972820282\n",
      "Epoch: 28/60\t Batch : 1/7\t loss: 67502.09375\t acc: 0.9762203693389893 0.5099999904632568\n",
      "Epoch: 28/60\t Batch : 2/7\t loss: 154707.046875\t acc: 0.9499164819717407 0.4999999701976776\n",
      "Epoch: 28/60\t Batch : 3/7\t loss: 206933.71875\t acc: 0.9492799043655396 0.5080000162124634\n",
      "Epoch: 28/60\t Batch : 4/7\t loss: 250094.984375\t acc: 0.9453908205032349 0.5019999742507935\n",
      "Epoch: 28/60\t Batch : 5/7\t loss: 435677.6875\t acc: 0.9152401685714722 0.49799999594688416\n",
      "Epoch: 28/60\t Batch : 6/7\t loss: 744166.0\t acc: 0.8926271200180054 0.4960000216960907\n",
      "Epoch: 29/60\t Batch : 0/7\t loss: 12415.8896484375\t acc: 0.9850000143051147 0.4959999918937683\n",
      "Epoch: 29/60\t Batch : 1/7\t loss: 56861.1484375\t acc: 0.9687108993530273 0.5\n",
      "Epoch: 29/60\t Batch : 2/7\t loss: 114244.5390625\t acc: 0.9649416208267212 0.5\n",
      "Epoch: 29/60\t Batch : 3/7\t loss: 181628.875\t acc: 0.9511584043502808 0.5\n",
      "Epoch: 29/60\t Batch : 4/7\t loss: 232439.296875\t acc: 0.9438877105712891 0.5040000081062317\n",
      "Epoch: 29/60\t Batch : 5/7\t loss: 383832.46875\t acc: 0.9302713871002197 0.5139999985694885\n",
      "Epoch: 29/60\t Batch : 6/7\t loss: 652467.5\t acc: 0.9101646542549133 0.5119999647140503\n",
      "Epoch: 30/60\t Batch : 0/7\t loss: 10968.5771484375\t acc: 0.9825000762939453 0.5040000081062317\n",
      "Epoch: 30/60\t Batch : 1/7\t loss: 59079.89453125\t acc: 0.9624531269073486 0.5019999742507935\n",
      "Epoch: 30/60\t Batch : 2/7\t loss: 107754.453125\t acc: 0.9590984582901001 0.5\n",
      "Epoch: 30/60\t Batch : 3/7\t loss: 137717.703125\t acc: 0.9605510234832764 0.5099999904632568\n",
      "Epoch: 30/60\t Batch : 4/7\t loss: 187940.828125\t acc: 0.9569138884544373 0.5139999985694885\n",
      "Epoch: 30/60\t Batch : 5/7\t loss: 332003.0625\t acc: 0.9402922987937927 0.5120000243186951\n",
      "Epoch: 30/60\t Batch : 6/7\t loss: 605935.6875\t acc: 0.9191124439239502 0.5139999985694885\n",
      "Epoch: 31/60\t Batch : 0/7\t loss: 1534.364990234375\t acc: 0.997499942779541 0.5119999647140503\n",
      "Epoch: 31/60\t Batch : 1/7\t loss: 43216.5390625\t acc: 0.9749687314033508 0.5139999985694885\n",
      "Epoch: 31/60\t Batch : 2/7\t loss: 90870.1796875\t acc: 0.9641067981719971 0.5179999470710754\n",
      "Epoch: 31/60\t Batch : 3/7\t loss: 121972.4765625\t acc: 0.9605510234832764 0.5199999809265137\n",
      "Epoch: 31/60\t Batch : 4/7\t loss: 156213.859375\t acc: 0.9594188332557678 0.5119999647140503\n",
      "Epoch: 31/60\t Batch : 5/7\t loss: 278047.0\t acc: 0.9440501928329468 0.5099999904632568\n",
      "Epoch: 31/60\t Batch : 6/7\t loss: 531611.4375\t acc: 0.9234073162078857 0.5119999647140503\n",
      "Epoch: 32/60\t Batch : 0/7\t loss: 1551.159912109375\t acc: 0.9950000047683716 0.5139999985694885\n",
      "Epoch: 32/60\t Batch : 1/7\t loss: 33852.9296875\t acc: 0.9862328767776489 0.5139999985694885\n",
      "Epoch: 32/60\t Batch : 2/7\t loss: 69699.8828125\t acc: 0.9774624109268188 0.5139999985694885\n",
      "Epoch: 32/60\t Batch : 3/7\t loss: 98362.671875\t acc: 0.9730744957923889 0.5099999904632568\n",
      "Epoch: 32/60\t Batch : 4/7\t loss: 133726.640625\t acc: 0.9669338464736938 0.5099999904632568\n",
      "Epoch: 32/60\t Batch : 5/7\t loss: 242650.453125\t acc: 0.9507306814193726 0.5099999904632568\n",
      "Epoch: 32/60\t Batch : 6/7\t loss: 483922.21875\t acc: 0.925912618637085 0.5180000066757202\n",
      "Epoch: 33/60\t Batch : 0/7\t loss: 2654.992431640625\t acc: 0.9899998903274536 0.5239999890327454\n",
      "Epoch: 33/60\t Batch : 1/7\t loss: 28447.2890625\t acc: 0.9787234663963318 0.5180000066757202\n",
      "Epoch: 33/60\t Batch : 2/7\t loss: 60283.609375\t acc: 0.9749582409858704 0.5099999904632568\n",
      "Epoch: 33/60\t Batch : 3/7\t loss: 83142.421875\t acc: 0.9711959958076477 0.5059999823570251\n",
      "Epoch: 33/60\t Batch : 4/7\t loss: 110682.0859375\t acc: 0.9669337868690491 0.5120000243186951\n",
      "Epoch: 33/60\t Batch : 5/7\t loss: 208317.296875\t acc: 0.9565762281417847 0.5080000162124634\n",
      "Epoch: 33/60\t Batch : 6/7\t loss: 436011.625\t acc: 0.9341445565223694 0.5180000066757202\n",
      "Epoch: 34/60\t Batch : 0/7\t loss: 463.9049987792969\t acc: 0.997499942779541 0.5259999632835388\n",
      "Epoch: 34/60\t Batch : 1/7\t loss: 21647.72265625\t acc: 0.9774718880653381 0.5260000228881836\n",
      "Epoch: 34/60\t Batch : 2/7\t loss: 52013.66015625\t acc: 0.9799665212631226 0.5199999809265137\n",
      "Epoch: 34/60\t Batch : 3/7\t loss: 71335.546875\t acc: 0.9793362617492676 0.5220000147819519\n",
      "Epoch: 34/60\t Batch : 4/7\t loss: 95817.375\t acc: 0.9734469056129456 0.5180000066757202\n",
      "Epoch: 34/60\t Batch : 5/7\t loss: 183038.109375\t acc: 0.9586640000343323 0.5180000066757202\n",
      "Epoch: 34/60\t Batch : 6/7\t loss: 394669.78125\t acc: 0.9366499781608582 0.5239999890327454\n",
      "Epoch: 35/60\t Batch : 0/7\t loss: 60.714996337890625\t acc: 0.9950000047683716 0.5260000228881836\n",
      "Epoch: 35/60\t Batch : 1/7\t loss: 15214.4453125\t acc: 0.9874843955039978 0.5299999713897705\n",
      "Epoch: 35/60\t Batch : 2/7\t loss: 44954.984375\t acc: 0.981636106967926 0.5239999890327454\n",
      "Epoch: 35/60\t Batch : 3/7\t loss: 61910.5390625\t acc: 0.9793362021446228 0.527999997138977\n",
      "Epoch: 35/60\t Batch : 4/7\t loss: 82159.75\t acc: 0.9759519100189209 0.5259999632835388\n",
      "Epoch: 35/60\t Batch : 5/7\t loss: 159542.40625\t acc: 0.9645094871520996 0.5300000309944153\n",
      "Epoch: 35/60\t Batch : 6/7\t loss: 362220.34375\t acc: 0.9423765540122986 0.5299999713897705\n",
      "Epoch: 36/60\t Batch : 0/7\t loss: 203.3574981689453\t acc: 0.997499942779541 0.5239999890327454\n",
      "Epoch: 36/60\t Batch : 1/7\t loss: 8535.3466796875\t acc: 0.9924906492233276 0.5180000066757202\n",
      "Epoch: 36/60\t Batch : 2/7\t loss: 37509.390625\t acc: 0.9866443872451782 0.515999972820282\n",
      "Epoch: 36/60\t Batch : 3/7\t loss: 52717.5234375\t acc: 0.9837194681167603 0.5139999985694885\n",
      "Epoch: 36/60\t Batch : 4/7\t loss: 71598.4453125\t acc: 0.9789578914642334 0.5199999809265137\n",
      "Epoch: 36/60\t Batch : 5/7\t loss: 139066.0\t acc: 0.969519853591919 0.5160000324249268\n",
      "Epoch: 36/60\t Batch : 6/7\t loss: 327651.28125\t acc: 0.9488189220428467 0.5260000228881836\n",
      "Epoch: 37/60\t Batch : 0/7\t loss: 0.0\t acc: 0.9999998807907104 0.5299999713897705\n",
      "Epoch: 37/60\t Batch : 1/7\t loss: 9726.46484375\t acc: 0.9887359142303467 0.5320000052452087\n",
      "Epoch: 37/60\t Batch : 2/7\t loss: 34828.7578125\t acc: 0.9874790906906128 0.5300000309944153\n",
      "Epoch: 37/60\t Batch : 3/7\t loss: 49456.9296875\t acc: 0.9824671745300293 0.5320000052452087\n",
      "Epoch: 37/60\t Batch : 4/7\t loss: 63014.21875\t acc: 0.9779558777809143 0.5320000052452087\n",
      "Epoch: 37/60\t Batch : 5/7\t loss: 124433.8828125\t acc: 0.9703549742698669 0.5239999890327454\n",
      "Epoch: 37/60\t Batch : 6/7\t loss: 301529.59375\t acc: 0.9506084322929382 0.5259999632835388\n",
      "Epoch: 38/60\t Batch : 0/7\t loss: 0.0\t acc: 0.9999998807907104 0.5260000228881836\n",
      "Epoch: 38/60\t Batch : 1/7\t loss: 7126.86181640625\t acc: 0.9924906492233276 0.5239999890327454\n",
      "Epoch: 38/60\t Batch : 2/7\t loss: 30272.0859375\t acc: 0.989983320236206 0.5219999551773071\n",
      "Epoch: 38/60\t Batch : 3/7\t loss: 42333.4453125\t acc: 0.9874765872955322 0.5199999809265137\n",
      "Epoch: 38/60\t Batch : 4/7\t loss: 55408.015625\t acc: 0.982965886592865 0.5220000147819519\n",
      "Epoch: 38/60\t Batch : 5/7\t loss: 112913.40625\t acc: 0.9762004613876343 0.5219999551773071\n",
      "Epoch: 38/60\t Batch : 6/7\t loss: 273761.5\t acc: 0.9588403701782227 0.5239999890327454\n",
      "Epoch: 39/60\t Batch : 0/7\t loss: 618.1700439453125\t acc: 0.994999885559082 0.5239999890327454\n",
      "Epoch: 39/60\t Batch : 1/7\t loss: 5759.57958984375\t acc: 0.991239070892334 0.5259999632835388\n",
      "Epoch: 39/60\t Batch : 2/7\t loss: 26925.95703125\t acc: 0.9841402173042297 0.5239999890327454\n",
      "Epoch: 39/60\t Batch : 3/7\t loss: 36713.1875\t acc: 0.9881026744842529 0.5199999809265137\n",
      "Epoch: 39/60\t Batch : 4/7\t loss: 47359.59375\t acc: 0.9834669232368469 0.515999972820282\n",
      "Epoch: 39/60\t Batch : 5/7\t loss: 99931.171875\t acc: 0.9741127490997314 0.5239999890327454\n",
      "Epoch: 39/60\t Batch : 6/7\t loss: 257472.578125\t acc: 0.9574086666107178 0.5239999890327454\n",
      "Epoch: 40/60\t Batch : 0/7\t loss: 40.13999938964844\t acc: 0.997499942779541 0.5260000228881836\n",
      "Epoch: 40/60\t Batch : 1/7\t loss: 6789.642578125\t acc: 0.9924906492233276 0.5239999890327454\n",
      "Epoch: 40/60\t Batch : 2/7\t loss: 24437.265625\t acc: 0.9866443872451782 0.5259999632835388\n",
      "Epoch: 40/60\t Batch : 3/7\t loss: 33454.6796875\t acc: 0.9862241744995117 0.527999997138977\n",
      "Epoch: 40/60\t Batch : 4/7\t loss: 44450.2421875\t acc: 0.9834668636322021 0.5259999632835388\n",
      "Epoch: 40/60\t Batch : 5/7\t loss: 91105.7578125\t acc: 0.9741128087043762 0.5300000309944153\n",
      "Epoch: 40/60\t Batch : 6/7\t loss: 234544.40625\t acc: 0.9588403701782227 0.5320000052452087\n",
      "Epoch: 41/60\t Batch : 0/7\t loss: 0.0\t acc: 0.9999998807907104 0.5360000133514404\n",
      "Epoch: 41/60\t Batch : 1/7\t loss: 3788.575927734375\t acc: 0.9924907088279724 0.5320000052452087\n",
      "Epoch: 41/60\t Batch : 2/7\t loss: 20441.587890625\t acc: 0.986644446849823 0.527999997138977\n",
      "Epoch: 41/60\t Batch : 3/7\t loss: 29789.9140625\t acc: 0.9837195873260498 0.5300000309944153\n",
      "Epoch: 41/60\t Batch : 4/7\t loss: 39219.9140625\t acc: 0.984468936920166 0.5259999632835388\n",
      "Epoch: 41/60\t Batch : 5/7\t loss: 82385.140625\t acc: 0.9757829308509827 0.527999997138977\n",
      "Epoch: 41/60\t Batch : 6/7\t loss: 222484.890625\t acc: 0.9617035984992981 0.5259999632835388\n",
      "Epoch: 42/60\t Batch : 0/7\t loss: 82.62999725341797\t acc: 0.997499942779541 0.5320000052452087\n",
      "Epoch: 42/60\t Batch : 1/7\t loss: 5740.21630859375\t acc: 0.9899875521659851 0.5339999794960022\n",
      "Epoch: 42/60\t Batch : 2/7\t loss: 21019.462890625\t acc: 0.982470691204071 0.5339999794960022\n",
      "Epoch: 42/60\t Batch : 3/7\t loss: 26958.65625\t acc: 0.9862241744995117 0.5339999794960022\n",
      "Epoch: 42/60\t Batch : 4/7\t loss: 34397.55078125\t acc: 0.9859719276428223 0.5360000133514404\n",
      "Epoch: 42/60\t Batch : 5/7\t loss: 75203.9375\t acc: 0.9791231751441956 0.534000039100647\n",
      "Epoch: 42/60\t Batch : 6/7\t loss: 204373.234375\t acc: 0.9659985899925232 0.5400000214576721\n",
      "Epoch: 43/60\t Batch : 0/7\t loss: 0.0\t acc: 0.9999998807907104 0.5419999957084656\n",
      "Epoch: 43/60\t Batch : 1/7\t loss: 3400.21923828125\t acc: 0.9937422275543213 0.5399999618530273\n",
      "Epoch: 43/60\t Batch : 2/7\t loss: 15427.0869140625\t acc: 0.9899832606315613 0.5419999957084656\n",
      "Epoch: 43/60\t Batch : 3/7\t loss: 20407.37890625\t acc: 0.9893550872802734 0.5419999957084656\n",
      "Epoch: 43/60\t Batch : 4/7\t loss: 30686.34375\t acc: 0.9854708909988403 0.5360000133514404\n",
      "Epoch: 43/60\t Batch : 5/7\t loss: 69169.3828125\t acc: 0.976200520992279 0.5400000214576721\n",
      "Epoch: 43/60\t Batch : 6/7\t loss: 189026.140625\t acc: 0.9659985303878784 0.5360000133514404\n",
      "Epoch: 44/60\t Batch : 0/7\t loss: 784.2637329101562\t acc: 0.9950000047683716 0.5360000133514404\n",
      "Epoch: 44/60\t Batch : 1/7\t loss: 3017.1220703125\t acc: 0.9924906492233276 0.5379999876022339\n",
      "Epoch: 44/60\t Batch : 2/7\t loss: 15954.3134765625\t acc: 0.9866443872451782 0.5380000472068787\n",
      "Epoch: 44/60\t Batch : 3/7\t loss: 21278.953125\t acc: 0.9874765276908875 0.5360000729560852\n",
      "Epoch: 44/60\t Batch : 4/7\t loss: 29982.1171875\t acc: 0.9854708909988403 0.5419999957084656\n",
      "Epoch: 44/60\t Batch : 5/7\t loss: 59242.234375\t acc: 0.9820459485054016 0.5400000214576721\n",
      "Epoch: 44/60\t Batch : 6/7\t loss: 174903.203125\t acc: 0.9692197442054749 0.5419999957084656\n",
      "Epoch: 45/60\t Batch : 0/7\t loss: 8300.154296875\t acc: 0.9925000667572021 0.5460000038146973\n",
      "Epoch: 45/60\t Batch : 1/7\t loss: 5899.9521484375\t acc: 0.9887359738349915 0.543999969959259\n",
      "Epoch: 45/60\t Batch : 2/7\t loss: 13553.4091796875\t acc: 0.9899832010269165 0.5460000038146973\n",
      "Epoch: 45/60\t Batch : 3/7\t loss: 17151.966796875\t acc: 0.9906073808670044 0.546000063419342\n",
      "Epoch: 45/60\t Batch : 4/7\t loss: 25590.912109375\t acc: 0.9889780282974243 0.5460000038146973\n",
      "Epoch: 45/60\t Batch : 5/7\t loss: 58515.75\t acc: 0.984551191329956 0.5380000472068787\n",
      "Epoch: 45/60\t Batch : 6/7\t loss: 165806.65625\t acc: 0.9702934622764587 0.5360000133514404\n",
      "Epoch: 46/60\t Batch : 0/7\t loss: 96.91999816894531\t acc: 0.997499942779541 0.5320000052452087\n",
      "Epoch: 46/60\t Batch : 1/7\t loss: 1714.68701171875\t acc: 0.9924906492233276 0.5300000309944153\n",
      "Epoch: 46/60\t Batch : 2/7\t loss: 11548.41796875\t acc: 0.9933221340179443 0.5300000309944153\n",
      "Epoch: 46/60\t Batch : 3/7\t loss: 15853.3076171875\t acc: 0.9924858808517456 0.534000039100647\n",
      "Epoch: 46/60\t Batch : 4/7\t loss: 23281.103515625\t acc: 0.9899799227714539 0.5379999876022339\n",
      "Epoch: 46/60\t Batch : 5/7\t loss: 50773.46875\t acc: 0.9883090257644653 0.5419999957084656\n",
      "Epoch: 46/60\t Batch : 6/7\t loss: 147791.046875\t acc: 0.9724408984184265 0.5460000038146973\n",
      "Epoch: 47/60\t Batch : 0/7\t loss: 397.3199768066406\t acc: 0.997499942779541 0.5520000457763672\n",
      "Epoch: 47/60\t Batch : 1/7\t loss: 534.6746215820312\t acc: 0.9962453842163086 0.550000011920929\n",
      "Epoch: 47/60\t Batch : 2/7\t loss: 9550.751953125\t acc: 0.9874790906906128 0.5440000295639038\n",
      "Epoch: 47/60\t Batch : 3/7\t loss: 13244.7890625\t acc: 0.9899811744689941 0.5460000038146973\n",
      "Epoch: 47/60\t Batch : 4/7\t loss: 18942.84765625\t acc: 0.9904809594154358 0.5399999618530273\n",
      "Epoch: 47/60\t Batch : 5/7\t loss: 44365.30859375\t acc: 0.9874739646911621 0.5360000133514404\n",
      "Epoch: 47/60\t Batch : 6/7\t loss: 132805.8125\t acc: 0.9713672399520874 0.5379999876022339\n",
      "Epoch: 48/60\t Batch : 0/7\t loss: 0.0\t acc: 0.9999998807907104 0.5379999876022339\n",
      "Epoch: 48/60\t Batch : 1/7\t loss: 1131.403076171875\t acc: 0.9962453842163086 0.5379999876022339\n",
      "Epoch: 48/60\t Batch : 2/7\t loss: 8958.611328125\t acc: 0.9933221340179443 0.5379999876022339\n",
      "Epoch: 48/60\t Batch : 3/7\t loss: 12449.150390625\t acc: 0.9912335872650146 0.5339999794960022\n",
      "Epoch: 48/60\t Batch : 4/7\t loss: 17735.771484375\t acc: 0.9929860234260559 0.5359999537467957\n",
      "Epoch: 48/60\t Batch : 5/7\t loss: 40308.7421875\t acc: 0.9887266159057617 0.5400000214576721\n",
      "Epoch: 48/60\t Batch : 6/7\t loss: 118574.46875\t acc: 0.9781675338745117 0.5400000214576721\n",
      "Epoch: 49/60\t Batch : 0/7\t loss: 0.0\t acc: 0.9999998807907104 0.5400000214576721\n",
      "Epoch: 49/60\t Batch : 1/7\t loss: 295.5281677246094\t acc: 0.9962453842163086 0.5400000214576721\n",
      "Epoch: 49/60\t Batch : 2/7\t loss: 6990.03515625\t acc: 0.9949915409088135 0.5399999618530273\n",
      "Epoch: 49/60\t Batch : 3/7\t loss: 9229.78125\t acc: 0.9949905872344971 0.5399999618530273\n",
      "Epoch: 49/60\t Batch : 4/7\t loss: 14974.740234375\t acc: 0.9929859638214111 0.5380000472068787\n",
      "Epoch: 49/60\t Batch : 5/7\t loss: 34624.58203125\t acc: 0.9878915548324585 0.5400000214576721\n",
      "Epoch: 49/60\t Batch : 6/7\t loss: 104682.484375\t acc: 0.9799569845199585 0.5379999876022339\n",
      "Epoch: 50/60\t Batch : 0/7\t loss: 0.0\t acc: 0.9999998807907104 0.5399999618530273\n",
      "Epoch: 50/60\t Batch : 1/7\t loss: 74.24092864990234\t acc: 0.9974969625473022 0.5379999876022339\n",
      "Epoch: 50/60\t Batch : 2/7\t loss: 6247.30908203125\t acc: 0.9949915409088135 0.5360000133514404\n",
      "Epoch: 50/60\t Batch : 3/7\t loss: 9153.5341796875\t acc: 0.9956167340278625 0.5360000133514404\n",
      "Epoch: 50/60\t Batch : 4/7\t loss: 14836.427734375\t acc: 0.9944890141487122 0.5379999876022339\n",
      "Epoch: 50/60\t Batch : 5/7\t loss: 31353.009765625\t acc: 0.9903967380523682 0.5339999794960022\n",
      "Epoch: 50/60\t Batch : 6/7\t loss: 94480.1640625\t acc: 0.9774516820907593 0.5339999794960022\n",
      "Epoch: 51/60\t Batch : 0/7\t loss: 0.0\t acc: 0.9999998807907104 0.5300000309944153\n",
      "Epoch: 51/60\t Batch : 1/7\t loss: 1040.0576171875\t acc: 0.9949938058853149 0.5379999876022339\n",
      "Epoch: 51/60\t Batch : 2/7\t loss: 6221.2744140625\t acc: 0.9941568374633789 0.5400000214576721\n",
      "Epoch: 51/60\t Batch : 3/7\t loss: 7980.3349609375\t acc: 0.9924860000610352 0.5379999876022339\n",
      "Epoch: 51/60\t Batch : 4/7\t loss: 13078.6708984375\t acc: 0.9899799823760986 0.5360000133514404\n",
      "Epoch: 51/60\t Batch : 5/7\t loss: 26625.974609375\t acc: 0.9895616769790649 0.5339999794960022\n",
      "Epoch: 51/60\t Batch : 6/7\t loss: 83094.8515625\t acc: 0.9817465543746948 0.5360000133514404\n",
      "Epoch: 52/60\t Batch : 0/7\t loss: 0.0\t acc: 0.9999998807907104 0.5360000133514404\n",
      "Epoch: 52/60\t Batch : 1/7\t loss: 69.5394287109375\t acc: 0.9974969625473022 0.5339999794960022\n",
      "Epoch: 52/60\t Batch : 2/7\t loss: 4256.9677734375\t acc: 0.9966610670089722 0.5320000052452087\n",
      "Epoch: 52/60\t Batch : 3/7\t loss: 7791.0361328125\t acc: 0.9906074404716492 0.5360000133514404\n",
      "Epoch: 52/60\t Batch : 4/7\t loss: 10848.2900390625\t acc: 0.9944889545440674 0.5320000052452087\n",
      "Epoch: 52/60\t Batch : 5/7\t loss: 22585.900390625\t acc: 0.9916493892669678 0.5300000309944153\n",
      "Epoch: 52/60\t Batch : 6/7\t loss: 74036.875\t acc: 0.9803149700164795 0.5339999794960022\n",
      "Epoch: 53/60\t Batch : 0/7\t loss: 0.0\t acc: 0.9999998807907104 0.527999997138977\n",
      "Epoch: 53/60\t Batch : 1/7\t loss: 629.0550537109375\t acc: 0.9937422275543213 0.527999997138977\n",
      "Epoch: 53/60\t Batch : 2/7\t loss: 5428.37548828125\t acc: 0.9908179044723511 0.5299999713897705\n",
      "Epoch: 53/60\t Batch : 3/7\t loss: 4308.29443359375\t acc: 0.9937382936477661 0.5320000052452087\n",
      "Epoch: 53/60\t Batch : 4/7\t loss: 9835.6953125\t acc: 0.9934869408607483 0.5320000052452087\n",
      "Epoch: 53/60\t Batch : 5/7\t loss: 18800.888671875\t acc: 0.9899792671203613 0.5339999794960022\n",
      "Epoch: 53/60\t Batch : 6/7\t loss: 65006.84765625\t acc: 0.9788832664489746 0.5360000133514404\n",
      "Epoch: 54/60\t Batch : 0/7\t loss: 601.760009765625\t acc: 0.997499942779541 0.5379999876022339\n",
      "Epoch: 54/60\t Batch : 1/7\t loss: 250.10888671875\t acc: 0.9974969625473022 0.5419999957084656\n",
      "Epoch: 54/60\t Batch : 2/7\t loss: 4846.021484375\t acc: 0.9933221340179443 0.546000063419342\n",
      "Epoch: 54/60\t Batch : 3/7\t loss: 5560.8447265625\t acc: 0.9943644404411316 0.5400000214576721\n",
      "Epoch: 54/60\t Batch : 4/7\t loss: 9099.7275390625\t acc: 0.9929859638214111 0.5420000553131104\n",
      "Epoch: 54/60\t Batch : 5/7\t loss: 17349.3203125\t acc: 0.9908143281936646 0.5440000295639038\n",
      "Epoch: 54/60\t Batch : 6/7\t loss: 65751.3515625\t acc: 0.9803149104118347 0.5440000295639038\n",
      "Epoch: 55/60\t Batch : 0/7\t loss: 613.4199829101562\t acc: 0.997499942779541 0.5400000214576721\n",
      "Epoch: 55/60\t Batch : 1/7\t loss: 774.3479614257812\t acc: 0.9987485408782959 0.5460000038146973\n",
      "Epoch: 55/60\t Batch : 2/7\t loss: 3501.2529296875\t acc: 0.9966610074043274 0.5380000472068787\n",
      "Epoch: 55/60\t Batch : 3/7\t loss: 2971.51611328125\t acc: 0.9968691468238831 0.5400000214576721\n",
      "Epoch: 55/60\t Batch : 4/7\t loss: 7716.83935546875\t acc: 0.9964929819107056 0.5379999876022339\n",
      "Epoch: 55/60\t Batch : 5/7\t loss: 15925.755859375\t acc: 0.9912318587303162 0.5380000472068787\n",
      "Epoch: 55/60\t Batch : 6/7\t loss: 57282.26953125\t acc: 0.9835361242294312 0.5360000133514404\n",
      "Epoch: 56/60\t Batch : 0/7\t loss: 0.0\t acc: 0.9999998807907104 0.5339999794960022\n",
      "Epoch: 56/60\t Batch : 1/7\t loss: 745.2753295898438\t acc: 0.9974969625473022 0.5300000309944153\n",
      "Epoch: 56/60\t Batch : 2/7\t loss: 5232.794921875\t acc: 0.9941568374633789 0.5339999794960022\n",
      "Epoch: 56/60\t Batch : 3/7\t loss: 4218.14453125\t acc: 0.9949905872344971 0.5400000214576721\n",
      "Epoch: 56/60\t Batch : 4/7\t loss: 8101.7509765625\t acc: 0.9964929223060608 0.5419999361038208\n",
      "Epoch: 56/60\t Batch : 5/7\t loss: 14374.896484375\t acc: 0.9916493892669678 0.5379999876022339\n",
      "Epoch: 56/60\t Batch : 6/7\t loss: 52771.3203125\t acc: 0.9828203916549683 0.5460000038146973\n",
      "Epoch: 57/60\t Batch : 0/7\t loss: 0.0\t acc: 0.9999998807907104 0.5440000295639038\n",
      "Epoch: 57/60\t Batch : 1/7\t loss: 356.53692626953125\t acc: 0.9987485408782959 0.5400000214576721\n",
      "Epoch: 57/60\t Batch : 2/7\t loss: 3152.926513671875\t acc: 0.9949915409088135 0.543999969959259\n",
      "Epoch: 57/60\t Batch : 3/7\t loss: 2187.381103515625\t acc: 0.9968691468238831 0.5419999957084656\n",
      "Epoch: 57/60\t Batch : 4/7\t loss: 7043.21435546875\t acc: 0.9949899911880493 0.5400000214576721\n",
      "Epoch: 57/60\t Batch : 5/7\t loss: 13585.5712890625\t acc: 0.9891442060470581 0.5460000038146973\n",
      "Epoch: 57/60\t Batch : 6/7\t loss: 49269.72265625\t acc: 0.9856835603713989 0.5460000038146973\n",
      "Epoch: 58/60\t Batch : 0/7\t loss: 0.0\t acc: 0.9999998807907104 0.5480000376701355\n",
      "Epoch: 58/60\t Batch : 1/7\t loss: 1.5369211435317993\t acc: 0.9987485408782959 0.5460000038146973\n",
      "Epoch: 58/60\t Batch : 2/7\t loss: 2511.027587890625\t acc: 0.9974957704544067 0.5440000295639038\n",
      "Epoch: 58/60\t Batch : 3/7\t loss: 1964.040771484375\t acc: 0.9968692064285278 0.5399999618530273\n",
      "Epoch: 58/60\t Batch : 4/7\t loss: 6619.564453125\t acc: 0.9959920048713684 0.5379999876022339\n",
      "Epoch: 58/60\t Batch : 5/7\t loss: 10169.9296875\t acc: 0.9933195114135742 0.5400000214576721\n",
      "Epoch: 58/60\t Batch : 6/7\t loss: 42045.7421875\t acc: 0.9874731302261353 0.5360000133514404\n",
      "Epoch: 59/60\t Batch : 0/7\t loss: 0.0\t acc: 0.9999998807907104 0.5360000133514404\n",
      "Epoch: 59/60\t Batch : 1/7\t loss: 27.165206909179688\t acc: 0.9987485408782959 0.5379999876022339\n",
      "Epoch: 59/60\t Batch : 2/7\t loss: 2136.32470703125\t acc: 0.9983304738998413 0.5419999957084656\n",
      "Epoch: 59/60\t Batch : 3/7\t loss: 1689.3369140625\t acc: 0.9974953532218933 0.5460000038146973\n",
      "Epoch: 59/60\t Batch : 4/7\t loss: 5595.0361328125\t acc: 0.9954909682273865 0.5440000295639038\n",
      "Epoch: 59/60\t Batch : 5/7\t loss: 9504.56640625\t acc: 0.9933195114135742 0.5460000038146973\n",
      "Epoch: 59/60\t Batch : 6/7\t loss: 37982.75\t acc: 0.9881889224052429 0.5479999780654907\n",
      "OK, saved.\n"
     ]
    },
    {
     "data": {
      "text/plain": [
       "[<matplotlib.lines.Line2D at 0x7fc3ea145550>]"
      ]
     },
     "execution_count": 99,
     "metadata": {},
     "output_type": "execute_result"
    },
    {
     "data": {
      "image/png": "[encoded data removed]",
      "text/plain": [
       "<matplotlib.figure.Figure at 0x7fc3ed1f1c18>"
      ]
     },
     "metadata": {},
     "output_type": "display_data"
    }
   ],
   "source": [
    "saver = tf.train.Saver()\n",
    "init = tf.global_variables_initializer()\n",
    "print ('starting...')\n",
    "batch_size = 400\n",
    "batch_numbers = int(len(xt)/batch_size)\n",
    "epochs = 60\n",
    "a_b = []\n",
    "a_v = []\n",
    "with tf.Session() as sess:\n",
    "    print('run...')\n",
    "    sess.run(init)\n",
    "    for e in range(epochs):\n",
    "        for n in range(batch_numbers):\n",
    "            x_batch, y_batch = xt[n:(n+1) * batch_size], yt[n:(n+1) * batch_size]\n",
    "\n",
    "            sess.run(optimizer, feed_dict = {x : x_batch, y : y_batch})\n",
    "\n",
    "            loss = sess.run(cost, feed_dict = {x : x_batch, y : y_batch})\n",
    "\n",
    "            batch_acc = sess.run(accuracy, feed_dict = {x : x_batch, y : y_batch})\n",
    "            valid_acc = sess.run(accuracy, feed_dict = {x : xv, y : yv})\n",
    "            print (\"Epoch: {}/{}\\t Batch : {}/{}\\t loss: {}\\t acc: {} {}\".format(e, epochs, n, batch_numbers, loss, batch_acc, valid_acc))\n",
    "            a_b.append(batch_acc)\n",
    "            a_v.append(valid_acc)\n",
    "\n",
    "    saver.save(sess, \"./trained_model\")\n",
    "    print('OK, saved.')\n",
    "    \n",
    "plt.plot(a_b)\n",
    "plt.plot(a_v)"
   ]
  },
  {
   "cell_type": "markdown",
   "metadata": {
    "deletable": true,
    "editable": true
   },
   "source": [
    "---\n",
    "\n",
    "## Step 3: Test a Model on New Images\n",
    "\n",
    "To give yourself more insight into how your model is working, download at least five pictures of German traffic signs from the web and use your model to predict the traffic sign type.\n",
    "\n",
    "You may find `signnames.csv` useful as it contains mappings from the class id (integer) to the actual sign name."
   ]
  },
  {
   "cell_type": "markdown",
   "metadata": {
    "deletable": true,
    "editable": true
   },
   "source": [
    "### Load and Output the Images"
   ]
  },
  {
   "cell_type": "code",
   "execution_count": 100,
   "metadata": {
    "collapsed": false,
    "deletable": true,
    "editable": true
   },
   "outputs": [],
   "source": [
    "from scipy.misc import imread, imresize\n",
    "import csv\n",
    "import os\n",
    "\n",
    "#the csv\n",
    "sign_names = []\n",
    "with open('./signnames.csv') as f:\n",
    "    c = csv.reader(f)\n",
    "    for row in c:\n",
    "        sign_names.append(row[1])\n",
    "   \n",
    "#loading some images\n",
    "\n",
    "imglist = []\n",
    "TEST_DIR = './test_images/'\n",
    "for imfile in os.listdir(TEST_DIR):\n",
    "    i = imresize(imread(TEST_DIR + imfile), (32,32))\n",
    "    imglist.append(i)\n",
    "\n",
    "imglist = np.array(imglist, dtype=np.float32)\n",
    "\n",
    "\n"
   ]
  },
  {
   "cell_type": "markdown",
   "metadata": {
    "deletable": true,
    "editable": true
   },
   "source": [
    "### Predict the Sign Type for Each Image"
   ]
  },
  {
   "cell_type": "code",
   "execution_count": 101,
   "metadata": {
    "collapsed": false,
    "deletable": true,
    "editable": true
   },
   "outputs": [
    {
     "name": "stdout",
     "output_type": "stream",
     "text": [
      "model restored.\n",
      "----------------------\n",
      "\n",
      "1 Turn left ahead\n",
      "2 Yield\n",
      "3 Traffic signals\n",
      "4 Dangerous curve to the right\n",
      "5 Speed limit (50km/h)\n",
      "6 Right-of-way at the next intersection\n",
      "7 Turn left ahead\n",
      "8 Speed limit (50km/h)\n",
      "9 Yield\n"
     ]
    },
    {
     "data": {
      "image/png": "[encoded data removed]",
      "text/plain": [
       "<matplotlib.figure.Figure at 0x7fc3e948dac8>"
      ]
     },
     "metadata": {},
     "output_type": "display_data"
    }
   ],
   "source": [
    "### Run the predictions here and use the model to output the prediction for each image.\n",
    "### Make sure to pre-process the images with the same pre-processing pipeline used earlier.\n",
    "### Feel free to use as many code cells as needed.\n",
    "#loading the saved model\n",
    "saver = tf.train.Saver()\n",
    "%matplotlib inline\n",
    "\n",
    "softmax = tf.nn.softmax(logits)\n",
    "index = tf.argmax(softmax, axis = 1)\n",
    "with tf.Session() as session:\n",
    "    saver.restore(session, \"./trained_model\")\n",
    "    print (\"model restored.\\n----------------------\\n\")\n",
    "    img_predictions = session.run(index, feed_dict = {x : imglist})\n",
    "    \n",
    "l = len(imglist)\n",
    "\n",
    "for i, pred in enumerate(img_predictions):\n",
    "    plt.subplot(1,l,i+1)\n",
    "    plt.imshow(imglist[i])\n",
    "    print (i+1, sign_names[pred])\n",
    "\n",
    "### Load the images and plot them here.\n",
    "### Feel free to use as many code cells as needed."
   ]
  },
  {
   "cell_type": "markdown",
   "metadata": {
    "deletable": true,
    "editable": true
   },
   "source": [
    "### Analyze Performance"
   ]
  },
  {
   "cell_type": "code",
   "execution_count": 103,
   "metadata": {
    "collapsed": false,
    "deletable": true,
    "editable": true
   },
   "outputs": [
    {
     "name": "stdout",
     "output_type": "stream",
     "text": [
      "Accuracy on validation data: 0.5301588177680969\n",
      "Accuracy on test data: 0.494799941778183\n"
     ]
    }
   ],
   "source": [
    "### Calculate the accuracy for these 5 new images. \n",
    "### For example, if the model predicted 1 out of 5 signs correctly, it's 20% accurate on these new images.\n",
    "\n",
    "\n",
    "# Instead of this, i'm doing a full test on the validation data.\n",
    "# After this, I do anouther test on testing data, BUT ONLY after i have the final model.\n",
    "\n",
    "\n",
    "with tf.Session() as session:\n",
    "    saver.restore(session, './trained_model')\n",
    "    acc = session.run(accuracy, feed_dict={x : X_valid, y : y_valid})\n",
    "    print('Accuracy on validation data: {}'.format(acc))\n",
    "    u = 5000\n",
    "    acc_t = acc = session.run(accuracy, feed_dict={x : X_test[:u], y : y_test[:u]})\n",
    "    print('Accuracy on test data: {}'.format(acc_t))"
   ]
  },
  {
   "cell_type": "markdown",
   "metadata": {
    "deletable": true,
    "editable": true
   },
   "source": [
    "### Output Top 5 Softmax Probabilities For Each Image Found on the Web"
   ]
  },
  {
   "cell_type": "markdown",
   "metadata": {
    "deletable": true,
    "editable": true
   },
   "source": [
    "For each of the new images, print out the model's softmax probabilities to show the **certainty** of the model's predictions (limit the output to the top 5 probabilities for each image). [`tf.nn.top_k`](https://www.tensorflow.org/versions/r0.12/api_docs/python/nn.html#top_k) could prove helpful here. \n",
    "\n",
    "The example below demonstrates how tf.nn.top_k can be used to find the top k predictions for each image.\n",
    "\n",
    "`tf.nn.top_k` will return the values and indices (class ids) of the top k predictions. So if k=3, for each sign, it'll return the 3 largest probabilities (out of a possible 43) and the correspoding class ids.\n",
    "\n",
    "Take this numpy array as an example. The values in the array represent predictions. The array contains softmax probabilities for five candidate images with six possible classes. `tk.nn.top_k` is used to choose the three classes with the highest probability:\n",
    "\n",
    "```\n",
    "# (5, 6) array\n",
    "a = np.array([[ 0.24879643,  0.07032244,  0.12641572,  0.34763842,  0.07893497,\n",
    "         0.12789202],\n",
    "       [ 0.28086119,  0.27569815,  0.08594638,  0.0178669 ,  0.18063401,\n",
    "         0.15899337],\n",
    "       [ 0.26076848,  0.23664738,  0.08020603,  0.07001922,  0.1134371 ,\n",
    "         0.23892179],\n",
    "       [ 0.11943333,  0.29198961,  0.02605103,  0.26234032,  0.1351348 ,\n",
    "         0.16505091],\n",
    "       [ 0.09561176,  0.34396535,  0.0643941 ,  0.16240774,  0.24206137,\n",
    "         0.09155967]])\n",
    "```\n",
    "\n",
    "Running it through `sess.run(tf.nn.top_k(tf.constant(a), k=3))` produces:\n",
    "\n",
    "```\n",
    "TopKV2(values=array([[ 0.34763842,  0.24879643,  0.12789202],\n",
    "       [ 0.28086119,  0.27569815,  0.18063401],\n",
    "       [ 0.26076848,  0.23892179,  0.23664738],\n",
    "       [ 0.29198961,  0.26234032,  0.16505091],\n",
    "       [ 0.34396535,  0.24206137,  0.16240774]]), indices=array([[3, 0, 5],\n",
    "       [0, 1, 4],\n",
    "       [0, 5, 1],\n",
    "       [1, 3, 5],\n",
    "       [1, 4, 3]], dtype=int32))\n",
    "```\n",
    "\n",
    "Looking just at the first row we get `[ 0.34763842,  0.24879643,  0.12789202]`, you can confirm these are the 3 largest probabilities in `a`. You'll also notice `[3, 0, 5]` are the corresponding indices."
   ]
  },
  {
   "cell_type": "code",
   "execution_count": 98,
   "metadata": {
    "collapsed": false,
    "deletable": true,
    "editable": true
   },
   "outputs": [
    {
     "name": "stdout",
     "output_type": "stream",
     "text": [
      "TopKV2(values=array([[  3.41227648e+08,   3.05581760e+08,   2.32111584e+08],\n",
      "       [  1.06956584e+08,   8.51498880e+07,   8.50858720e+07],\n",
      "       [  4.09054040e+07,   3.67520400e+07,   3.54618000e+07],\n",
      "       [  6.44205880e+07,   4.98952760e+07,   4.35862360e+07],\n",
      "       [  1.53227152e+08,   1.13252840e+08,   9.55376160e+07],\n",
      "       [  1.00801224e+08,   5.89294440e+07,   4.77005120e+07],\n",
      "       [  3.41227648e+08,   3.05581760e+08,   2.32111584e+08],\n",
      "       [  1.28488888e+08,   1.10675808e+08,   9.52796160e+07],\n",
      "       [  3.40797880e+07,   3.32999520e+07,   3.09865500e+07]], dtype=float32), indices=array([[37, 38, 40],\n",
      "       [17, 29, 25],\n",
      "       [ 7, 30, 13],\n",
      "       [28, 22, 36],\n",
      "       [38,  9,  2],\n",
      "       [12, 18, 21],\n",
      "       [37, 38, 40],\n",
      "       [25, 39,  7],\n",
      "       [40, 18, 14]], dtype=int32))\n",
      "1    Go straight or right 38%, Go straight or left 34%, Keep left 26%, \n",
      "2    Vehicles over 3.5 metric tons prohibited 38%, Children crossing 30%, Road narrows on the right 30%, \n",
      "3    End of speed limit (80km/h) 36%, Bicycles crossing 32%, Priority road 31%, \n",
      "4    Pedestrians 40%, Double curve 31%, Ahead only 27%, \n",
      "5    Go straight or left 42%, Speed limit (120km/h) 31%, Speed limit (30km/h) 26%, \n",
      "6    Right-of-way at the next intersection 48%, No entry 28%, Dangerous curve to the right 22%, \n",
      "7    Go straight or right 38%, Go straight or left 34%, Keep left 26%, \n",
      "8    Road narrows on the right 38%, Keep right 33%, End of speed limit (80km/h) 28%, \n",
      "9    Keep left 34%, No entry 33%, Yield 31%, \n"
     ]
    },
    {
     "data": {
      "image/png": "[encoded data removed]",
      "text/plain": [
       "<matplotlib.figure.Figure at 0x7fc3e9bbd4e0>"
      ]
     },
     "metadata": {},
     "output_type": "display_data"
    }
   ],
   "source": [
    "### Print out the top five softmax probabilities for the predictions on the German traffic sign images found on the web. \n",
    "### Feel free to use as many code cells as needed.\n",
    "top_k = tf.nn.top_k(logits, k=3)\n",
    "with tf.Session() as session:\n",
    "    saver.restore(session, \"./trained_model\")\n",
    "    top_pred = session.run(top_k, feed_dict = {x : imglist})\n",
    "\n",
    "print(top_pred)\n",
    "\n",
    "l = len(imglist)\n",
    "\n",
    "for i, top_preds in enumerate(top_pred[1]):\n",
    "    plt.subplot(1,l,i+1)\n",
    "    plt.imshow(imglist[i])\n",
    "    print(i+1,'   ',end='')\n",
    "    total_p = sum(top_pred[0][i])\n",
    "    for (c, pred) in enumerate(top_preds):\n",
    "        \n",
    "        print ('{} {}%, '.format(sign_names[pred], int(top_pred[0][i][c]/total_p * 100) ), end='')\n",
    "    print('')"
   ]
  },
  {
   "cell_type": "markdown",
   "metadata": {
    "deletable": true,
    "editable": true
   },
   "source": [
    "---\n",
    "\n",
    "## Step 4: Visualize the Neural Network's State with Test Images\n",
    "\n",
    " This Section is not required to complete but acts as an additional excersise for understaning the output of a neural network's weights. While neural networks can be a great learning device they are often referred to as a black box. We can understand what the weights of a neural network look like better by plotting their feature maps. After successfully training your neural network you can see what it's feature maps look like by plotting the output of the network's weight layers in response to a test stimuli image. From these plotted feature maps, it's possible to see what characteristics of an image the network finds interesting. For a sign, maybe the inner network feature maps react with high activation to the sign's boundary outline or to the contrast in the sign's painted symbol.\n",
    "\n",
    " Provided for you below is the function code that allows you to get the visualization output of any tensorflow weight layer you want. The inputs to the function should be a stimuli image, one used during training or a new one you provided, and then the tensorflow variable name that represents the layer's state during the training process, for instance if you wanted to see what the [LeNet lab's](https://classroom.udacity.com/nanodegrees/nd013/parts/fbf77062-5703-404e-b60c-95b78b2f3f9e/modules/6df7ae49-c61c-4bb2-a23e-6527e69209ec/lessons/601ae704-1035-4287-8b11-e2c2716217ad/concepts/d4aca031-508f-4e0b-b493-e7b706120f81) feature maps looked like for it's second convolutional layer you could enter conv2 as the tf_activation variable.\n",
    "\n",
    "For an example of what feature map outputs look like, check out NVIDIA's results in their paper [End-to-End Deep Learning for Self-Driving Cars](https://devblogs.nvidia.com/parallelforall/deep-learning-self-driving-cars/) in the section Visualization of internal CNN State. NVIDIA was able to show that their network's inner weights had high activations to road boundary lines by comparing feature maps from an image with a clear path to one without. Try experimenting with a similar test to show that your trained network's weights are looking for interesting features, whether it's looking at differences in feature maps from images with or without a sign, or even what feature maps look like in a trained network vs a completely untrained one on the same sign image.\n",
    "\n",
    "<figure>\n",
    " <img src=\"visualize_cnn.png\" width=\"380\" alt=\"Combined Image\" />\n",
    " <figcaption>\n",
    " <p></p> \n",
    " <p style=\"text-align: center;\"> Your output should look something like this (above)</p> \n",
    " </figcaption>\n",
    "</figure>\n",
    " <p></p> \n"
   ]
  },
  {
   "cell_type": "code",
   "execution_count": 29,
   "metadata": {
    "collapsed": false,
    "deletable": true,
    "editable": true
   },
   "outputs": [
    {
     "data": {
      "image/png": "[encoded data removed]",
      "text/plain": [
       "<matplotlib.figure.Figure at 0x12e0477f0>"
      ]
     },
     "metadata": {},
     "output_type": "display_data"
    }
   ],
   "source": [
    "### Visualize your network's feature maps here.\n",
    "### Feel free to use as many code cells as needed.\n",
    "\n",
    "# image_input: the test image being fed into the network to produce the feature maps\n",
    "# tf_activation: should be a tf variable name used during your training procedure that represents the calculated state of a specific weight layer\n",
    "# activation_min/max: can be used to view the activation contrast in more detail, by default matplot sets min and max to the actual min and max values of the output\n",
    "# plt_num: used to plot out multiple different weight feature map sets on the same block, just extend the plt number for each new feature map entry\n",
    "\n",
    "def outputFeatureMap(image_input, tf_activation, activation_min=-1, activation_max=-1 ,plt_num=1):\n",
    "    # Here make sure to preprocess your image_input in a way your network expects\n",
    "    # with size, normalization, ect if needed\n",
    "    # image_input =\n",
    "    # Note: x should be the same name as your network's tensorflow data placeholder variable\n",
    "    # If you get an error tf_activation is not defined it maybe having trouble accessing the variable from inside a function\n",
    "    activation = tf_activation.eval(session=session ) #,feed_dict={x : image_input})\n",
    "    featuremaps = activation.shape[3]\n",
    "    plt.figure(plt_num, figsize=(15,15))\n",
    "    for featuremap in range(featuremaps):\n",
    "        plt.subplot(6,8, featuremap+1) # sets the number of feature maps to show on each row and column\n",
    "        plt.title('FeatureMap ' + str(featuremap)) # displays the feature map number\n",
    "        if activation_min != -1 & activation_max != -1:\n",
    "            plt.imshow(activation[0,:,:, featuremap], interpolation=\"nearest\", vmin =activation_min, vmax=activation_max, cmap=\"gray\")\n",
    "        elif activation_max != -1:\n",
    "            plt.imshow(activation[0,:,:, featuremap], interpolation=\"nearest\", vmax=activation_max, cmap=\"gray\")\n",
    "        elif activation_min !=-1:\n",
    "            plt.imshow(activation[0,:,:, featuremap], interpolation=\"nearest\", vmin=activation_min, cmap=\"gray\")\n",
    "        else:\n",
    "            plt.imshow(activation[0,:,:, featuremap], interpolation=\"nearest\", cmap=\"gray\")\n",
    "            \n",
    "    \n",
    "\n",
    "#outputFeatureMap(X_train[1].reshape(1,32,32,3), weights[3]) \n",
    "with tf.Session() as session:\n",
    "    saver.restore(session, \"./trained_model\")\n",
    "    outputFeatureMap(imglist, weights[0]) \n",
    "    #outputFeatureMap(X_train[1].reshape(1,32,32,3), weights[0])\n",
    "    \n"
   ]
  },
  {
   "cell_type": "markdown",
   "metadata": {
    "deletable": true,
    "editable": true
   },
   "source": [
    "### Question 9\n",
    "\n",
    "Discuss how you used the visual output of your trained network's feature maps to show that it had learned to look for interesting characteristics in traffic sign images\n"
   ]
  },
  {
   "cell_type": "markdown",
   "metadata": {
    "deletable": true,
    "editable": true
   },
   "source": [
    "**Answer:**"
   ]
  },
  {
   "cell_type": "markdown",
   "metadata": {
    "deletable": true,
    "editable": true
   },
   "source": [
    "> **Note**: Once you have completed all of the code implementations and successfully answered each question above, you may finalize your work by exporting the iPython Notebook as an HTML document. You can do this by using the menu above and navigating to  \\n\",\n",
    "    \"**File -> Download as -> HTML (.html)**. Include the finished document along with this notebook as your submission."
   ]
  },
  {
   "cell_type": "markdown",
   "metadata": {
    "deletable": true,
    "editable": true
   },
   "source": [
    "### Project Writeup\n",
    "\n",
    "Once you have completed the code implementation, document your results in a project writeup using this [template](https://github.com/udacity/CarND-Traffic-Sign-Classifier-Project/blob/master/writeup_template.md) as a guide. The writeup can be in a markdown or pdf file. "
   ]
  }
 ],
 "metadata": {
  "anaconda-cloud": {},
  "kernelspec": {
   "display_name": "Python 3",
   "language": "python",
   "name": "python3"
  },
  "language_info": {
   "codemirror_mode": {
    "name": "ipython",
    "version": 3
   },
   "file_extension": ".py",
   "mimetype": "text/x-python",
   "name": "python",
   "nbconvert_exporter": "python",
   "pygments_lexer": "ipython3",
   "version": "3.5.2"
  },
  "widgets": {
   "state": {},
   "version": "1.1.2"
  }
 },
 "nbformat": 4,
 "nbformat_minor": 1
}
